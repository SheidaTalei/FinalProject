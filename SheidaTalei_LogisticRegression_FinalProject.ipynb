{
  "nbformat": 4,
  "nbformat_minor": 0,
  "metadata": {
    "kernelspec": {
      "display_name": "Python 3",
      "language": "python",
      "name": "python3"
    },
    "language_info": {
      "codemirror_mode": {
        "name": "ipython",
        "version": 3
      },
      "file_extension": ".py",
      "mimetype": "text/x-python",
      "name": "python",
      "nbconvert_exporter": "python",
      "pygments_lexer": "ipython3",
      "version": "3.8.5"
    },
    "colab": {
      "name": "SheidaTalei_LogisticRegression_FinalProject.ipynb",
      "provenance": [],
      "collapsed_sections": [],
      "include_colab_link": true
    }
  },
  "cells": [
    {
      "cell_type": "markdown",
      "metadata": {
        "id": "view-in-github",
        "colab_type": "text"
      },
      "source": [
        "<a href=\"https://colab.research.google.com/github/SheidaTalei/FinalProject/blob/main/SheidaTalei_LogisticRegression_FinalProject.ipynb\" target=\"_parent\"><img src=\"https://colab.research.google.com/assets/colab-badge.svg\" alt=\"Open In Colab\"/></a>"
      ]
    },
    {
      "cell_type": "markdown",
      "metadata": {
        "id": "M6NV-eVy3VVj"
      },
      "source": [
        "# SUBJECT: Logistic Regression\n",
        "### AUTHOR: Sheida Talei"
      ]
    },
    {
      "cell_type": "code",
      "metadata": {
        "id": "r_k9iVSa3a7v",
        "colab": {
          "base_uri": "https://localhost:8080/"
        },
        "outputId": "1172da0b-a170-4b1d-851f-32411b7ba30d"
      },
      "source": [
        "from google.colab import drive\n",
        "drive.mount('/content/drive')"
      ],
      "execution_count": null,
      "outputs": [
        {
          "output_type": "stream",
          "text": [
            "Mounted at /content/drive\n"
          ],
          "name": "stdout"
        }
      ]
    },
    {
      "cell_type": "code",
      "metadata": {
        "id": "zL8v53Sg3VVq"
      },
      "source": [
        "import numpy as np\n",
        "from sklearn.linear_model import LogisticRegression\n",
        "from sklearn.model_selection import GridSearchCV\n",
        "from sklearn.metrics import accuracy_score\n",
        "from sklearn.metrics import f1_score\n",
        "from sklearn.metrics import roc_auc_score\n",
        "from sklearn.pipeline import Pipeline\n",
        "from sklearn.metrics import roc_auc_score\n"
      ],
      "execution_count": null,
      "outputs": []
    },
    {
      "cell_type": "code",
      "metadata": {
        "id": "2OVOUGQX3VVx"
      },
      "source": [
        "import numpy as np\n",
        "import pandas as pd\n",
        "from sklearn.feature_extraction.text import TfidfVectorizer\n",
        "#Convert a collection of raw documents to a matrix of TF-IDF features.\n",
        "from sklearn.model_selection import train_test_split\n",
        "from sklearn.metrics import accuracy_score\n",
        "import regex\n",
        "import tensorflow as tf\n",
        "from tensorflow import keras\n",
        "from tensorflow.keras import layers\n",
        "\n",
        "import re\n",
        "import string\n"
      ],
      "execution_count": null,
      "outputs": []
    },
    {
      "cell_type": "code",
      "metadata": {
        "id": "NglyRyir3VWW"
      },
      "source": [
        "def dummy_fun(doc):\n",
        "    return doc"
      ],
      "execution_count": null,
      "outputs": []
    },
    {
      "cell_type": "code",
      "metadata": {
        "id": "vYlXPLZLxLOP"
      },
      "source": [
        "# count_0 = 0\r\n",
        "# count_1 = 0\r\n",
        "\r\n",
        "# for i in Y:\r\n",
        "#     if (i==0):\r\n",
        "#         count_0 = count_0+1\r\n",
        "#     else:\r\n",
        "#         count_1 = count_1 + 1"
      ],
      "execution_count": null,
      "outputs": []
    },
    {
      "cell_type": "code",
      "metadata": {
        "id": "imKfLJ8fxQhC"
      },
      "source": [
        "# print(\"count_0: \",count_0)\r\n",
        "# print(\"count_1: \",count_1)"
      ],
      "execution_count": null,
      "outputs": []
    },
    {
      "cell_type": "code",
      "metadata": {
        "id": "l-1InyWUxUfS"
      },
      "source": [
        "# import seaborn as sns\r\n",
        "\r\n",
        "# sns.countplot(x='Label', data=cleanData (data_frame))"
      ],
      "execution_count": null,
      "outputs": []
    },
    {
      "cell_type": "code",
      "metadata": {
        "id": "3O46KKyK3VWa"
      },
      "source": [
        "#----------------------------------------------------------Step3----------------------------------------------------------\n",
        "#----------------------------------------------------------TF_IDF---------------------------------------------------------\n",
        "#Source: https://stackoverflow.com/questions/48671270/use-sklearn-tfidfvectorizer-with-already-tokenized-inputs\n",
        "#source:http://www.davidsbatista.net/blog/2018/02/28/TfidfVectorizer/\n",
        "# vectorizer = TfidfVectorizer( analyzer='word',tokenizer=dummy_fun, preprocessor=dummy_fun, token_pattern=None, max_df=0.7 , max_features=500)\n",
        "# # vectors_X_train  = vectorizer.fit_transform(lemmatize_tweet_list)\n",
        "\n",
        "\n",
        "\n",
        "# #----------------------------------------------------test-----------------------------------------------------------------\n",
        "# vectors_X_test  = vectorizer.fit_transform(lemmatize_tweet_list_test)"
      ],
      "execution_count": null,
      "outputs": []
    },
    {
      "cell_type": "code",
      "metadata": {
        "id": "zz67P4MY3VWe"
      },
      "source": [
        "# vectorizer.get_feature_names()\n",
        "# # for word in vectorizer.get_feature_names():\n",
        "# #     print(word)\n",
        "# vectorizer.vocabulary_"
      ],
      "execution_count": null,
      "outputs": []
    },
    {
      "cell_type": "code",
      "metadata": {
        "id": "u1RJRxmkll7k"
      },
      "source": [
        "#------------------------------------------Empty Rows Removal----------------------------------------------------------------\n",
        "# This function Will: 1- Remove all empty rows from csv file 2- Save data to the same csv\n",
        "def removeEmptyRows(fileName):\n",
        "    df = pd.read_csv(fileName, encoding='utf-8-sig')\n",
        "    df = df.dropna(subset=['text'], how='all', axis=0) \n",
        "    df.to_csv(fileName, header=True, encoding='utf-8-sig',  index=False)\n",
        "    \n",
        "    return df"
      ],
      "execution_count": null,
      "outputs": []
    },
    {
      "cell_type": "code",
      "metadata": {
        "id": "ix4b1p7U_C1B"
      },
      "source": [
        "# df1= removeEmptyRows ('/content/drive/MyDrive/Final/Temp.csv')\r\n",
        "# X_and_Y  =  removeEmptyRows ('/content/drive/MyDrive/Final/Prepared_test_Data_test#1.csv')"
      ],
      "execution_count": null,
      "outputs": []
    },
    {
      "cell_type": "code",
      "metadata": {
        "id": "F6eIWPXn8gl3"
      },
      "source": [
        "# X_and_Y =pd.concat([df1, df2], ignore_index=True, names=['tweeter_handle', 'text', 'Label', 'statues_count' ])\n",
        "X_and_Y = removeEmptyRows ('/content/drive/MyDrive/Final/train_temp.csv')\n",
        "Y= X_and_Y.Label\n",
        "X = X_and_Y.text"
      ],
      "execution_count": null,
      "outputs": []
    },
    {
      "cell_type": "code",
      "metadata": {
        "id": "mJlpCh-q9Eva"
      },
      "source": [
        "X_and_Y_test = removeEmptyRows('/content/drive/MyDrive/Final/test_temp.csv')\n",
        "Y_test= X_and_Y_test.Label\n",
        "X_test = X_and_Y_test.text"
      ],
      "execution_count": null,
      "outputs": []
    },
    {
      "cell_type": "code",
      "metadata": {
        "id": "AxRHwXibilsi"
      },
      "source": [
        "#--------------------------------------------------Loading StopWords ------------------------------------------\n",
        "#Source of file: https://sites.google.com/site/kevinbouge/stopwords-lists\n",
        "def getStopWord ():\n",
        "    try:\n",
        "        file = open('/content/drive/MyDrive/Final/stopwords_fa.txt', 'r', encoding='utf-8-sig')\n",
        "        file_readed = file.read()\n",
        "    \n",
        "    finally:\n",
        "        file.close()\n",
        "        \n",
        "    stopWord_Set = set(file_readed.split())\n",
        "    return stopWord_Set\n"
      ],
      "execution_count": null,
      "outputs": []
    },
    {
      "cell_type": "code",
      "metadata": {
        "id": "YnO42qC2i62J"
      },
      "source": [
        "persian_stop_word = list(getStopWord())\n"
      ],
      "execution_count": null,
      "outputs": []
    },
    {
      "cell_type": "code",
      "metadata": {
        "id": "p1eO0pwrnYRe"
      },
      "source": [
        "count_0 = 0\n",
        "count_1 = 0\n",
        "\n",
        "for i in Y:\n",
        "    if (i==0):\n",
        "        count_0 = count_0+1\n",
        "    else:\n",
        "        count_1 = count_1 + 1\n",
        "        "
      ],
      "execution_count": null,
      "outputs": []
    },
    {
      "cell_type": "code",
      "metadata": {
        "id": "rmE3PXgRoUqm"
      },
      "source": [
        "p = count_0 / (count_0+count_1 )"
      ],
      "execution_count": null,
      "outputs": []
    },
    {
      "cell_type": "code",
      "metadata": {
        "id": "CQ_Y5d35oxX0"
      },
      "source": [
        "print(p)"
      ],
      "execution_count": null,
      "outputs": []
    },
    {
      "cell_type": "code",
      "metadata": {
        "id": "YMNs7e_73VWm"
      },
      "source": [
        "#Source: https://scikit-learn.org/stable/modules/generated/sklearn.linear_model.LogisticRegression.html\n",
        "Logistic_Regression_classifier = LogisticRegression(class_weight = {0: 1/p , 1: 1/ (1- p)}, penalty='l1' , solver = 'liblinear' , C = 0.1)\n",
        "# {0:1/0.82 , 1:1/0.18}\n",
        "\n",
        "#Source: https://stackoverflow.com/questions/44066264/how-to-choose-parameters-in-tfidfvectorizer-in-sklearn-during-unsupervised-clust\n",
        "\n",
        "vectorizer = TfidfVectorizer(stop_words= persian_stop_word ,  max_features = 2500 ) \n",
        "X_train_vector  = vectorizer.fit_transform(X)\n",
        "\n",
        "# pipeline = Pipeline([\n",
        "#     ('tfidf', TfidfVectorizer(stop_words= persian_stop_word) ),\n",
        "#     ('clf',Logistic_Regression_classifier),\n",
        "# ])\n",
        "# parameters = {\n",
        "#     'tfidf__max_df': (0.25, 0.5, 0.7),\n",
        "#     'tfidf__max_features': (100,500,700),\n",
        "#     'clf__C': (0.5,0.1, 0.001,0.01, 0.7),\n",
        "#     'clf__solver' :('liblinear', 'saga')\n",
        "# }\n",
        "# ‘liblinear’ and ‘saga’ also handle L1 penalty\n",
        "\n",
        "# grid_search_tune = GridSearchCV(pipeline, parameters, cv=20)\n",
        "Logistic_Regression = Logistic_Regression_classifier.fit(X_train_vector, Y )\n",
        "\n",
        "# print (grid_search_tune.best_estimator_.steps)\n",
        "\n",
        "# print ('Best Parameter for Logistic_Regression: ',Logistic_Regression.best_params_)\n",
        "# print('Best Score for Logistic_Regression: ',Logistic_Regression.best_score_)\n",
        "\n"
      ],
      "execution_count": null,
      "outputs": []
    },
    {
      "cell_type": "code",
      "metadata": {
        "id": "TCQzYRsMmQdC"
      },
      "source": [
        "# TfidfVectorizer.get_feature_names\n",
        "\n",
        "# # pipeline.named_steps['tfidf'].get_feature_names()\n",
        "# Logistic_Regression."
      ],
      "execution_count": null,
      "outputs": []
    },
    {
      "cell_type": "code",
      "metadata": {
        "id": "g1JEq16Y3VWp"
      },
      "source": [
        "\n",
        "X_test_vectorize  = vectorizer.fit_transform(X_test)\n",
        "# y_pred = Logistic_Regression.predict(X_test_vectorize) "
      ],
      "execution_count": null,
      "outputs": []
    },
    {
      "cell_type": "code",
      "metadata": {
        "id": "sWRxhO66iEH_"
      },
      "source": [
        "y_pred = Logistic_Regression.predict(X_test_vectorize) "
      ],
      "execution_count": null,
      "outputs": []
    },
    {
      "cell_type": "code",
      "metadata": {
        "id": "1j1hoj_v3VWs"
      },
      "source": [
        "print('Accuracy: ' , accuracy_score( Y_test, y_pred))\n",
        "#Source: https://scikit-learn.org/stable/modules/generated/sklearn.metrics.f1_score.html#sklearn.metrics.f1_score\n",
        "print('F1-score: ', f1_score(Y_test, y_pred))\n",
        "#source: https://scikit-learn.org/stable/modules/generated/sklearn.metrics.roc_auc_score.html#sklearn.metrics.roc_auc_score\n",
        "print('roc_auc_score: ', roc_auc_score(Y_test, y_pred))"
      ],
      "execution_count": null,
      "outputs": []
    },
    {
      "cell_type": "code",
      "metadata": {
        "id": "8mBIqQhJ3VWw"
      },
      "source": [
        "# np.any(np.isnan(Y))"
      ],
      "execution_count": null,
      "outputs": []
    },
    {
      "cell_type": "code",
      "metadata": {
        "id": "B9-8VsRNzYOJ"
      },
      "source": [
        "# vectorizer = TfidfVectorizer(max_df=0.25 , max_features=500, stop_words=persian_stop_word)\n",
        "# vectors_X_train  = vectorizer.fit_transform(X)\n",
        "# vectorizer.get_feature_names()"
      ],
      "execution_count": null,
      "outputs": []
    },
    {
      "cell_type": "code",
      "metadata": {
        "id": "VRNxIr0Y0Lx-"
      },
      "source": [
        ""
      ],
      "execution_count": null,
      "outputs": []
    }
  ]
}