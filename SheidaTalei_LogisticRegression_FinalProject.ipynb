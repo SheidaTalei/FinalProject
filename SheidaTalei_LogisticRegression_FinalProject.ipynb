{
  "nbformat": 4,
  "nbformat_minor": 0,
  "metadata": {
    "kernelspec": {
      "display_name": "Python 3",
      "language": "python",
      "name": "python3"
    },
    "language_info": {
      "codemirror_mode": {
        "name": "ipython",
        "version": 3
      },
      "file_extension": ".py",
      "mimetype": "text/x-python",
      "name": "python",
      "nbconvert_exporter": "python",
      "pygments_lexer": "ipython3",
      "version": "3.8.5"
    },
    "colab": {
      "name": "SheidaTalei_LogisticRegression_FinalProject.ipynb",
      "provenance": [],
      "collapsed_sections": [],
      "include_colab_link": true
    }
  },
  "cells": [
    {
      "cell_type": "markdown",
      "metadata": {
        "id": "view-in-github",
        "colab_type": "text"
      },
      "source": [
        "<a href=\"https://colab.research.google.com/github/SheidaTalei/FinalProject/blob/main/SheidaTalei_LogisticRegression_FinalProject.ipynb\" target=\"_parent\"><img src=\"https://colab.research.google.com/assets/colab-badge.svg\" alt=\"Open In Colab\"/></a>"
      ]
    },
    {
      "cell_type": "markdown",
      "metadata": {
        "id": "M6NV-eVy3VVj"
      },
      "source": [
        "# SUBJECT: Logistic Regression\n",
        "### AUTHOR: Sheida Talei"
      ]
    },
    {
      "cell_type": "code",
      "metadata": {
        "id": "r_k9iVSa3a7v",
        "colab": {
          "base_uri": "https://localhost:8080/"
        },
        "outputId": "05350dfa-0d3f-45e4-9153-8bbbf2728857"
      },
      "source": [
        "from google.colab import drive\n",
        "drive.mount('/content/drive')"
      ],
      "execution_count": null,
      "outputs": [
        {
          "output_type": "stream",
          "text": [
            "Mounted at /content/drive\n"
          ],
          "name": "stdout"
        }
      ]
    },
    {
      "cell_type": "code",
      "metadata": {
        "id": "zL8v53Sg3VVq"
      },
      "source": [
        "import numpy as np\n",
        "from sklearn.linear_model import LogisticRegression\n",
        "from sklearn.model_selection import GridSearchCV\n",
        "from sklearn.metrics import accuracy_score\n",
        "from sklearn.metrics import f1_score\n",
        "from sklearn.metrics import roc_auc_score\n",
        "from sklearn.pipeline import Pipeline\n",
        "from sklearn.metrics import roc_auc_score\n"
      ],
      "execution_count": null,
      "outputs": []
    },
    {
      "cell_type": "code",
      "metadata": {
        "id": "2OVOUGQX3VVx"
      },
      "source": [
        "import numpy as np\n",
        "import pandas as pd\n",
        "from sklearn.feature_extraction.text import TfidfVectorizer\n",
        "#Convert a collection of raw documents to a matrix of TF-IDF features.\n",
        "from sklearn.model_selection import train_test_split\n",
        "from sklearn.metrics import accuracy_score\n",
        "import regex\n",
        "import tensorflow as tf\n",
        "from tensorflow import keras\n",
        "from tensorflow.keras import layers\n",
        "\n",
        "import re\n",
        "import string\n"
      ],
      "execution_count": null,
      "outputs": []
    },
    {
      "cell_type": "code",
      "metadata": {
        "id": "NglyRyir3VWW"
      },
      "source": [
        "def dummy_fun(doc):\n",
        "    return doc"
      ],
      "execution_count": null,
      "outputs": []
    },
    {
      "cell_type": "code",
      "metadata": {
        "id": "3O46KKyK3VWa"
      },
      "source": [
        "#----------------------------------------------------------Step3----------------------------------------------------------\n",
        "#----------------------------------------------------------TF_IDF---------------------------------------------------------\n",
        "#Source: https://stackoverflow.com/questions/48671270/use-sklearn-tfidfvectorizer-with-already-tokenized-inputs\n",
        "#source:http://www.davidsbatista.net/blog/2018/02/28/TfidfVectorizer/\n",
        "# vectorizer = TfidfVectorizer( analyzer='word',tokenizer=dummy_fun, preprocessor=dummy_fun, token_pattern=None, max_df=0.7 , max_features=500)\n",
        "# # vectors_X_train  = vectorizer.fit_transform(lemmatize_tweet_list)\n",
        "\n",
        "\n",
        "\n",
        "# #----------------------------------------------------test-----------------------------------------------------------------\n",
        "# vectors_X_test  = vectorizer.fit_transform(lemmatize_tweet_list_test)"
      ],
      "execution_count": null,
      "outputs": []
    },
    {
      "cell_type": "code",
      "metadata": {
        "id": "zz67P4MY3VWe"
      },
      "source": [
        "# vectorizer.get_feature_names()\n",
        "# # for word in vectorizer.get_feature_names():\n",
        "# #     print(word)\n",
        "# vectorizer.vocabulary_"
      ],
      "execution_count": null,
      "outputs": []
    },
    {
      "cell_type": "code",
      "metadata": {
        "id": "u1RJRxmkll7k"
      },
      "source": [
        "#------------------------------------------Empty Rows Removal----------------------------------------------------------------\n",
        "# This function Will: 1- Remove all empty rows from csv file 2- Save data to the same csv\n",
        "def removeEmptyRows(fileName):\n",
        "    df = pd.read_csv(fileName, encoding='utf-8-sig')\n",
        "    df = df.dropna(subset=['text'], how='all', axis=0) \n",
        "    df.to_csv(fileName, header=True, encoding='utf-8-sig',  index=False)\n",
        "    \n",
        "    return df"
      ],
      "execution_count": null,
      "outputs": []
    },
    {
      "cell_type": "code",
      "metadata": {
        "id": "F6eIWPXn8gl3"
      },
      "source": [
        "X_and_Y = removeEmptyRows ('/content/drive/MyDrive/Final/Prepared_train_Data_test#1.csv')\n",
        "\n",
        "Y= X_and_Y.Label\n",
        "X = X_and_Y.text"
      ],
      "execution_count": null,
      "outputs": []
    },
    {
      "cell_type": "code",
      "metadata": {
        "id": "mJlpCh-q9Eva"
      },
      "source": [
        "X_and_Y_test = removeEmptyRows('/content/drive/MyDrive/Final/Prepared_test_Data_test#1.csv')\n",
        "Y_test= X_and_Y_test.Label\n",
        "X_test = X_and_Y_test.text"
      ],
      "execution_count": null,
      "outputs": []
    },
    {
      "cell_type": "code",
      "metadata": {
        "id": "AxRHwXibilsi"
      },
      "source": [
        "#--------------------------------------------------Loading StopWords ------------------------------------------\n",
        "#Source of file: https://sites.google.com/site/kevinbouge/stopwords-lists\n",
        "def getStopWord ():\n",
        "    try:\n",
        "        file = open('/content/drive/MyDrive/Final/stopwords_fa.txt', 'r', encoding='utf-8-sig')\n",
        "        file_readed = file.read()\n",
        "    \n",
        "    finally:\n",
        "        file.close()\n",
        "        \n",
        "    stopWord_Set = set(file_readed.split())\n",
        "    return stopWord_Set\n"
      ],
      "execution_count": null,
      "outputs": []
    },
    {
      "cell_type": "code",
      "metadata": {
        "id": "YnO42qC2i62J"
      },
      "source": [
        "persian_stop_word = list(getStopWord())\n"
      ],
      "execution_count": null,
      "outputs": []
    },
    {
      "cell_type": "code",
      "metadata": {
        "id": "p1eO0pwrnYRe"
      },
      "source": [
        "count_0 = 0\n",
        "count_1 = 0\n",
        "\n",
        "for i in Y:\n",
        "    if (i==0):\n",
        "        count_0 = count_0+1\n",
        "    else:\n",
        "        count_1 = count_1 + 1\n",
        "        "
      ],
      "execution_count": null,
      "outputs": []
    },
    {
      "cell_type": "code",
      "metadata": {
        "id": "rmE3PXgRoUqm"
      },
      "source": [
        "p = count_0 / (count_0+count_1 )"
      ],
      "execution_count": null,
      "outputs": []
    },
    {
      "cell_type": "code",
      "metadata": {
        "colab": {
          "base_uri": "https://localhost:8080/"
        },
        "id": "CQ_Y5d35oxX0",
        "outputId": "2ea35c41-d6f0-4394-92f2-f7e6189293df"
      },
      "source": [
        "print(p)"
      ],
      "execution_count": null,
      "outputs": [
        {
          "output_type": "stream",
          "text": [
            "0.5647265429001506\n"
          ],
          "name": "stdout"
        }
      ]
    },
    {
      "cell_type": "code",
      "metadata": {
        "id": "YMNs7e_73VWm"
      },
      "source": [
        "#Source: https://scikit-learn.org/stable/modules/generated/sklearn.linear_model.LogisticRegression.html\n",
        "Logistic_Regression_classifier = LogisticRegression(class_weight = {0: 1/p , 1: 1/ (1- p)}, penalty='l1' , solver = 'liblinear' , C = 0.2)\n",
        "# {0:1/0.82 , 1:1/0.18}\n",
        "\n",
        "#Source: https://stackoverflow.com/questions/44066264/how-to-choose-parameters-in-tfidfvectorizer-in-sklearn-during-unsupervised-clust\n",
        "\n",
        "vectorizer = TfidfVectorizer(stop_words= persian_stop_word ,  max_features = 500, max_df=0.7 ) \n",
        "X_train_vector  = vectorizer.fit_transform(X)\n",
        "\n",
        "# pipeline = Pipeline([\n",
        "#     ('tfidf', TfidfVectorizer(stop_words= persian_stop_word) ),\n",
        "#     ('clf',Logistic_Regression_classifier),\n",
        "# ])\n",
        "# parameters = {\n",
        "#     'tfidf__max_df': (0.25, 0.5, 0.7),\n",
        "#     'tfidf__max_features': (100,500,700),\n",
        "#     'clf__C': (0.5,0.1, 0.001,0.01, 0.7),\n",
        "#     'clf__solver' :('liblinear', 'saga')\n",
        "# }\n",
        "# ‘liblinear’ and ‘saga’ also handle L1 penalty\n",
        "\n",
        "# grid_search_tune = GridSearchCV(pipeline, parameters, cv=20)\n",
        "Logistic_Regression = Logistic_Regression_classifier.fit(X_train_vector, Y )\n",
        "\n",
        "# print (grid_search_tune.best_estimator_.steps)\n",
        "\n",
        "# print ('Best Parameter for Logistic_Regression: ',Logistic_Regression.best_params_)\n",
        "# print('Best Score for Logistic_Regression: ',Logistic_Regression.best_score_)\n",
        "\n"
      ],
      "execution_count": null,
      "outputs": []
    },
    {
      "cell_type": "code",
      "metadata": {
        "id": "TCQzYRsMmQdC"
      },
      "source": [
        "# TfidfVectorizer.get_feature_names\n",
        "\n",
        "# # pipeline.named_steps['tfidf'].get_feature_names()\n",
        "# Logistic_Regression."
      ],
      "execution_count": null,
      "outputs": []
    },
    {
      "cell_type": "code",
      "metadata": {
        "id": "g1JEq16Y3VWp"
      },
      "source": [
        "\n",
        "X_test_vectorize  = vectorizer.fit_transform(X_test)\n",
        "# y_pred = Logistic_Regression.predict(X_test_vectorize) "
      ],
      "execution_count": null,
      "outputs": []
    },
    {
      "cell_type": "code",
      "metadata": {
        "id": "sWRxhO66iEH_"
      },
      "source": [
        "y_pred = Logistic_Regression.predict(X_test_vectorize) "
      ],
      "execution_count": null,
      "outputs": []
    },
    {
      "cell_type": "code",
      "metadata": {
        "id": "1j1hoj_v3VWs",
        "colab": {
          "base_uri": "https://localhost:8080/"
        },
        "outputId": "a600606b-75aa-42b8-f3cf-9e4cf5fd06cd"
      },
      "source": [
        "print('Accuracy: ' , accuracy_score( Y_test, y_pred))\n",
        "#Source: https://scikit-learn.org/stable/modules/generated/sklearn.metrics.f1_score.html#sklearn.metrics.f1_score\n",
        "print('F1-score: ', f1_score(Y_test, y_pred))\n",
        "#source: https://scikit-learn.org/stable/modules/generated/sklearn.metrics.roc_auc_score.html#sklearn.metrics.roc_auc_score\n",
        "print('roc_auc_score: ', roc_auc_score(Y_test, y_pred))"
      ],
      "execution_count": null,
      "outputs": [
        {
          "output_type": "stream",
          "text": [
            "Accuracy:  0.647\n",
            "F1-score:  0.6480558325024925\n",
            "roc_auc_score:  0.6525557011795543\n"
          ],
          "name": "stdout"
        }
      ]
    },
    {
      "cell_type": "code",
      "metadata": {
        "id": "8mBIqQhJ3VWw"
      },
      "source": [
        "# np.any(np.isnan(Y))"
      ],
      "execution_count": null,
      "outputs": []
    },
    {
      "cell_type": "code",
      "metadata": {
        "colab": {
          "base_uri": "https://localhost:8080/"
        },
        "id": "B9-8VsRNzYOJ",
        "outputId": "ef29cef4-2f91-4b5e-eb68-c676c5a3e271"
      },
      "source": [
        "vectorizer = TfidfVectorizer(max_df=0.25 , max_features=500, stop_words=persian_stop_word)\n",
        "vectors_X_train  = vectorizer.fit_transform(X)\n",
        "vectorizer.get_feature_names()"
      ],
      "execution_count": null,
      "outputs": [
        {
          "output_type": "execute_result",
          "data": {
            "text/plain": [
              "['ائین',\n",
              " 'اب',\n",
              " 'اباد',\n",
              " 'ابان',\n",
              " 'ابتدا',\n",
              " 'اتفاق',\n",
              " 'اتهام',\n",
              " 'اجتماع',\n",
              " 'اجرا',\n",
              " 'احتمال',\n",
              " 'اخراج',\n",
              " 'ادامه',\n",
              " 'ادم',\n",
              " 'ادیان',\n",
              " 'ارتباط',\n",
              " 'ارز',\n",
              " 'ارزش',\n",
              " 'اروپا',\n",
              " 'ازاد',\n",
              " 'ازادی',\n",
              " 'ازار',\n",
              " 'اساس',\n",
              " 'اسرائیل',\n",
              " 'اسلام',\n",
              " 'اسم',\n",
              " 'اشک',\n",
              " 'اصل',\n",
              " 'اصلا',\n",
              " 'اصلاح',\n",
              " 'اطلاعات',\n",
              " 'اعتراض',\n",
              " 'اعتقاد',\n",
              " 'اعتماد',\n",
              " 'اعدام',\n",
              " 'اعضا',\n",
              " 'اعلام',\n",
              " 'افراد',\n",
              " 'افزایش',\n",
              " 'افکار',\n",
              " 'اقا',\n",
              " 'اقای',\n",
              " 'اقتصاد',\n",
              " 'اقدام',\n",
              " 'اقلام',\n",
              " 'اقلیت',\n",
              " 'الان',\n",
              " 'العدل',\n",
              " 'الله',\n",
              " 'اله',\n",
              " 'امام',\n",
              " 'امد',\n",
              " 'امریکا',\n",
              " 'امنیت',\n",
              " 'اموزشی',\n",
              " 'امپراطوری',\n",
              " 'امکانات',\n",
              " 'ان',\n",
              " 'انان',\n",
              " 'انجا',\n",
              " 'انجام',\n",
              " 'انحراف',\n",
              " 'انداخت',\n",
              " 'انداز',\n",
              " 'انسان',\n",
              " 'انسولین',\n",
              " 'انقلاب',\n",
              " 'انها',\n",
              " 'انگلیس',\n",
              " 'اهل',\n",
              " 'اولین',\n",
              " 'اونایی',\n",
              " 'ای',\n",
              " 'ایا',\n",
              " 'ایجاد',\n",
              " 'اید',\n",
              " 'ایران',\n",
              " 'ایشان',\n",
              " 'اینجا',\n",
              " 'اینه',\n",
              " 'اینکه',\n",
              " 'ایین',\n",
              " 'باب',\n",
              " 'بابت',\n",
              " 'باز',\n",
              " 'بازداشت',\n",
              " 'بازی',\n",
              " 'باش',\n",
              " 'بانک',\n",
              " 'باور',\n",
              " 'بخاطر',\n",
              " 'بخش',\n",
              " 'بخشنامه',\n",
              " 'بخشی',\n",
              " 'بد',\n",
              " 'برادر',\n",
              " 'برخی',\n",
              " 'برد',\n",
              " 'برنامه',\n",
              " 'برگردانید',\n",
              " 'بزرگ',\n",
              " 'بسیار',\n",
              " 'بشر',\n",
              " 'بعنوان',\n",
              " 'بغض',\n",
              " 'بقیه',\n",
              " 'بلوچ',\n",
              " 'بند',\n",
              " 'بنده',\n",
              " 'بنیاد',\n",
              " 'بهائی',\n",
              " 'بهائیان',\n",
              " 'بهائیت',\n",
              " 'بهایی',\n",
              " 'بهاییان',\n",
              " 'بهاییت',\n",
              " 'بچه',\n",
              " 'بیان',\n",
              " 'بیت',\n",
              " 'بیرون',\n",
              " 'بیش',\n",
              " 'بیشتر',\n",
              " 'بیمار',\n",
              " 'بین',\n",
              " 'تاریخ',\n",
              " 'تبلیغ',\n",
              " 'تجاوز',\n",
              " 'تحریم',\n",
              " 'تحصیل',\n",
              " 'تحمل',\n",
              " 'ترامپ',\n",
              " 'تربیتی',\n",
              " 'ترین',\n",
              " 'تشکیلات',\n",
              " 'تشیع',\n",
              " 'تصاحب',\n",
              " 'تعداد',\n",
              " 'تلاش',\n",
              " 'تلویزیون',\n",
              " 'تن',\n",
              " 'تهران',\n",
              " 'تهیه',\n",
              " 'تو',\n",
              " 'توان',\n",
              " 'توجه',\n",
              " 'ثابت',\n",
              " 'جاسوس',\n",
              " 'جامعه',\n",
              " 'جان',\n",
              " 'جای',\n",
              " 'جدید',\n",
              " 'جرم',\n",
              " 'جریان',\n",
              " 'جلو',\n",
              " 'جمع',\n",
              " 'جمله',\n",
              " 'جمهوری',\n",
              " 'جنس',\n",
              " 'جنگ',\n",
              " 'جهان',\n",
              " 'جهانی',\n",
              " 'جهت',\n",
              " 'جوان',\n",
              " 'حال',\n",
              " 'حالا',\n",
              " 'حبس',\n",
              " 'حتی',\n",
              " 'حجاب',\n",
              " 'حجار',\n",
              " 'حرف',\n",
              " 'حساب',\n",
              " 'حسین',\n",
              " 'حضور',\n",
              " 'حقوق',\n",
              " 'حمایت',\n",
              " 'حکم',\n",
              " 'حکومت',\n",
              " 'خارج',\n",
              " 'خاص',\n",
              " 'خاطر',\n",
              " 'خامنه',\n",
              " 'خانم',\n",
              " 'خانواده',\n",
              " 'خانوادگی',\n",
              " 'خانواره',\n",
              " 'خبر',\n",
              " 'خدا',\n",
              " 'خروج',\n",
              " 'خواسته',\n",
              " 'خوان',\n",
              " 'خواند',\n",
              " 'خواه',\n",
              " 'خوب',\n",
              " 'خودش',\n",
              " 'خور',\n",
              " 'خورد',\n",
              " 'خون',\n",
              " 'خیلی',\n",
              " 'داخل',\n",
              " 'دادگاه',\n",
              " 'دار',\n",
              " 'دارن',\n",
              " 'دارو',\n",
              " 'دان',\n",
              " 'دانشگاه',\n",
              " 'دختر',\n",
              " 'درحال',\n",
              " 'درد',\n",
              " 'درست',\n",
              " 'دروغ',\n",
              " 'دست',\n",
              " 'دستور',\n",
              " 'دستگیر',\n",
              " 'دشمن',\n",
              " 'دفاع',\n",
              " 'دقیقا',\n",
              " 'دل',\n",
              " 'دلار',\n",
              " 'دلیل',\n",
              " 'دنیا',\n",
              " 'دوران',\n",
              " 'دوست',\n",
              " 'دوستان',\n",
              " 'دولت',\n",
              " 'دوچرخه',\n",
              " 'دکتر',\n",
              " 'دیابت',\n",
              " 'دید',\n",
              " 'دین',\n",
              " 'دیوید',\n",
              " 'دیگه',\n",
              " 'رئیس',\n",
              " 'رس',\n",
              " 'رسانه',\n",
              " 'رسم',\n",
              " 'رسید',\n",
              " 'رفع',\n",
              " 'رفیق',\n",
              " 'رهبر',\n",
              " 'روح',\n",
              " 'روحانی',\n",
              " 'روز',\n",
              " 'روستا',\n",
              " 'رژیم',\n",
              " 'ریاست',\n",
              " 'ریخت',\n",
              " 'ریز',\n",
              " 'زاده',\n",
              " 'زد',\n",
              " 'زدن',\n",
              " 'زده',\n",
              " 'زمان',\n",
              " 'زمین',\n",
              " 'زن',\n",
              " 'زندان',\n",
              " 'زنده',\n",
              " 'زندگی',\n",
              " 'زنی',\n",
              " 'زیاد',\n",
              " 'سازمان',\n",
              " 'ساعت',\n",
              " 'سال',\n",
              " 'ساله',\n",
              " 'ساکن',\n",
              " 'سایر',\n",
              " 'ست',\n",
              " 'سخنران',\n",
              " 'سر',\n",
              " 'سرشناس',\n",
              " 'سرمایه',\n",
              " 'سرنوشت',\n",
              " 'سرکوب',\n",
              " 'سلطنت',\n",
              " 'سمیرا',\n",
              " 'سنی',\n",
              " 'سه',\n",
              " 'سو',\n",
              " 'سوار',\n",
              " 'سیاست',\n",
              " 'سیاسی',\n",
              " 'سیاه',\n",
              " 'شامل',\n",
              " 'شاه',\n",
              " 'شاید',\n",
              " 'شبکه',\n",
              " 'شخص',\n",
              " 'شرایط',\n",
              " 'شروع',\n",
              " 'شرکت',\n",
              " 'شناخت',\n",
              " 'شناخته',\n",
              " 'شهادت',\n",
              " 'شهر',\n",
              " 'شهروند',\n",
              " 'شهید',\n",
              " 'شو',\n",
              " 'شورا',\n",
              " 'شکل',\n",
              " 'شیراز',\n",
              " 'شیعه',\n",
              " 'صحبت',\n",
              " 'صد',\n",
              " 'صدا',\n",
              " 'صهیونیست',\n",
              " 'ضاله',\n",
              " 'طرف',\n",
              " 'طلب',\n",
              " 'طلبان',\n",
              " 'ظلم',\n",
              " 'عباس',\n",
              " 'عجیب',\n",
              " 'عرب',\n",
              " 'عزیز',\n",
              " 'عصر',\n",
              " 'عضو',\n",
              " 'علاقه',\n",
              " 'علاوه',\n",
              " 'علی',\n",
              " 'علیه',\n",
              " 'عناصر',\n",
              " 'عکس',\n",
              " 'غرب',\n",
              " 'غیر',\n",
              " 'فارس',\n",
              " 'فرد',\n",
              " 'فردا',\n",
              " 'فرزند',\n",
              " 'فرق',\n",
              " 'فرقه',\n",
              " 'فرهنگ',\n",
              " 'فروش',\n",
              " 'فشار',\n",
              " 'فعال',\n",
              " 'فعالیت',\n",
              " 'فهم',\n",
              " 'فهمید',\n",
              " 'فکر',\n",
              " 'فیلم',\n",
              " 'قانون',\n",
              " 'قاچاق',\n",
              " 'قتل',\n",
              " 'قدرت',\n",
              " 'قرار',\n",
              " 'قلب',\n",
              " 'قلم',\n",
              " 'قیمت',\n",
              " 'لحظه',\n",
              " 'مادر',\n",
              " 'ماموران',\n",
              " 'ماند',\n",
              " 'ماه',\n",
              " 'مبارزه',\n",
              " 'مجلس',\n",
              " 'محروم',\n",
              " 'محمد',\n",
              " 'محکوم',\n",
              " 'مخالف',\n",
              " 'مخفی',\n",
              " 'مدت',\n",
              " 'مذهب',\n",
              " 'مراد',\n",
              " 'مراکز',\n",
              " 'مرد',\n",
              " 'مرداد',\n",
              " 'مرکز',\n",
              " 'مرگ',\n",
              " 'مسئول',\n",
              " 'مسدود',\n",
              " 'مسلمان',\n",
              " 'مسیح',\n",
              " 'مشخص',\n",
              " 'مشکل',\n",
              " 'معارف',\n",
              " 'معرف',\n",
              " 'ملت',\n",
              " 'ملی',\n",
              " 'مملکت',\n",
              " 'منطقه',\n",
              " 'مهر',\n",
              " 'مهم',\n",
              " 'موشک',\n",
              " 'موضوع',\n",
              " 'موقع',\n",
              " 'میان',\n",
              " 'میبرن',\n",
              " 'میر',\n",
              " 'میشود',\n",
              " 'میلیون',\n",
              " 'میکنم',\n",
              " 'میکنن',\n",
              " 'میکنند',\n",
              " 'میکنه',\n",
              " 'میگ',\n",
              " 'میگن',\n",
              " 'میگه',\n",
              " 'نامه',\n",
              " 'نجس',\n",
              " 'ندارن',\n",
              " 'نداره',\n",
              " 'نرخ',\n",
              " 'نسبت',\n",
              " 'نشر',\n",
              " 'نشین',\n",
              " 'نظام',\n",
              " 'نظر',\n",
              " 'نفر',\n",
              " 'نفوذ',\n",
              " 'نقش',\n",
              " 'نم',\n",
              " 'نماینده',\n",
              " 'نمی',\n",
              " 'نمیشود',\n",
              " 'نوشت',\n",
              " 'نوید',\n",
              " 'نویس',\n",
              " 'نگاه',\n",
              " 'نیاز',\n",
              " 'نیرو',\n",
              " 'نیز',\n",
              " 'هایی',\n",
              " 'هدایت',\n",
              " 'هدف',\n",
              " 'هستن',\n",
              " 'هسته',\n",
              " 'هشتگ',\n",
              " 'هفته',\n",
              " 'همراه',\n",
              " 'همسر',\n",
              " 'هموطنان',\n",
              " 'همون',\n",
              " 'همچنین',\n",
              " 'همکار',\n",
              " 'همیشه',\n",
              " 'هویت',\n",
              " 'هویدا',\n",
              " 'وارد',\n",
              " 'واسه',\n",
              " 'واقعا',\n",
              " 'وام',\n",
              " 'واهی',\n",
              " 'وجود',\n",
              " 'وزارت',\n",
              " 'وزیر',\n",
              " 'وضعیت',\n",
              " 'وطن',\n",
              " 'وقت',\n",
              " 'وهابیت',\n",
              " 'وی',\n",
              " 'ویژه',\n",
              " 'پدر',\n",
              " 'پرداخت',\n",
              " 'پرداز',\n",
              " 'پرونده',\n",
              " 'پسر',\n",
              " 'پشت',\n",
              " 'پنجشنبه',\n",
              " 'پهلوی',\n",
              " 'پول',\n",
              " 'پیام',\n",
              " 'پیدا',\n",
              " 'پیرو',\n",
              " 'چقدر',\n",
              " 'چنین',\n",
              " 'چهل',\n",
              " 'کار',\n",
              " 'کاشت',\n",
              " 'کاهش',\n",
              " 'کتاب',\n",
              " 'کردن',\n",
              " 'کرونا',\n",
              " 'کسانی',\n",
              " 'کش',\n",
              " 'کشته',\n",
              " 'کشور',\n",
              " 'کشید',\n",
              " 'کم',\n",
              " 'کمک',\n",
              " 'کن',\n",
              " 'کند',\n",
              " 'کنن',\n",
              " 'کنند',\n",
              " 'کننده',\n",
              " 'کنه',\n",
              " 'کودک',\n",
              " 'گذار',\n",
              " 'گذاشت',\n",
              " 'گذر',\n",
              " 'گذشت',\n",
              " 'گذشته',\n",
              " 'گر',\n",
              " 'گران',\n",
              " 'گرداننده',\n",
              " 'گروه',\n",
              " 'گزارش',\n",
              " 'گسترده',\n",
              " 'گو',\n",
              " 'گیر',\n",
              " 'یاب',\n",
              " 'یاد',\n",
              " 'یافت',\n",
              " 'یهود']"
            ]
          },
          "metadata": {
            "tags": []
          },
          "execution_count": 13
        }
      ]
    },
    {
      "cell_type": "code",
      "metadata": {
        "id": "VRNxIr0Y0Lx-"
      },
      "source": [
        ""
      ],
      "execution_count": null,
      "outputs": []
    }
  ]
}