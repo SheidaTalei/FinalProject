{
  "nbformat": 4,
  "nbformat_minor": 0,
  "metadata": {
    "colab": {
      "name": "SheidaTalei_KMeanVSTfIDf_FinalProject.ipynb",
      "provenance": [],
      "collapsed_sections": [],
      "authorship_tag": "ABX9TyMxa2NT3tO3Kpmc3OnT4D55",
      "include_colab_link": true
    },
    "kernelspec": {
      "name": "python3",
      "display_name": "Python 3"
    }
  },
  "cells": [
    {
      "cell_type": "markdown",
      "metadata": {
        "id": "view-in-github",
        "colab_type": "text"
      },
      "source": [
        "<a href=\"https://colab.research.google.com/github/SheidaTalei/FinalProject/blob/main/SheidaTalei_KMeanVSTfIDf_FinalProject.ipynb\" target=\"_parent\"><img src=\"https://colab.research.google.com/assets/colab-badge.svg\" alt=\"Open In Colab\"/></a>"
      ]
    },
    {
      "cell_type": "markdown",
      "metadata": {
        "id": "Y5kbpylkbSHh"
      },
      "source": [
        "#SUBJECT: K-Mean Vs TF-IDF\r\n",
        "###AUTHOR: Sheida Talei"
      ]
    },
    {
      "cell_type": "code",
      "metadata": {
        "colab": {
          "base_uri": "https://localhost:8080/"
        },
        "id": "uovInzwGbQEC",
        "outputId": "a30bb6d5-f59e-4e1c-8745-c63a8d237421"
      },
      "source": [
        "import os, sys\r\n",
        "from google.colab import drive\r\n",
        "drive.mount('/content/drive')\r\n",
        "nb_path = '/content/notebooks'\r\n",
        "os.symlink('/content/drive/My Drive/Colab Notebooks', nb_path)\r\n",
        "sys.path.insert(0,nb_path)"
      ],
      "execution_count": 1,
      "outputs": [
        {
          "output_type": "stream",
          "text": [
            "Mounted at /content/drive\n"
          ],
          "name": "stdout"
        }
      ]
    },
    {
      "cell_type": "code",
      "metadata": {
        "colab": {
          "base_uri": "https://localhost:8080/"
        },
        "id": "M-P86Dhv3-X5",
        "outputId": "06d38b68-2470-4366-99fb-9fa26f9763b4"
      },
      "source": [
        "# !pip install --target=$nb_path kneed"
      ],
      "execution_count": 1,
      "outputs": [
        {
          "output_type": "stream",
          "text": [
            "Collecting kneed\n",
            "  Using cached https://files.pythonhosted.org/packages/c3/6b/e130913aaaad1373060e259ab222ca2330672db696b297b082c3f3089fcc/kneed-0.7.0-py2.py3-none-any.whl\n",
            "Requirement already satisfied: matplotlib in /usr/local/lib/python3.6/dist-packages (from kneed) (3.2.2)\n",
            "Requirement already satisfied: numpy>=1.14.2 in /usr/local/lib/python3.6/dist-packages (from kneed) (1.19.4)\n",
            "Requirement already satisfied: scipy in /usr/local/lib/python3.6/dist-packages (from kneed) (1.4.1)\n",
            "Requirement already satisfied: pyparsing!=2.0.4,!=2.1.2,!=2.1.6,>=2.0.1 in /usr/local/lib/python3.6/dist-packages (from matplotlib->kneed) (2.4.7)\n",
            "Requirement already satisfied: kiwisolver>=1.0.1 in /usr/local/lib/python3.6/dist-packages (from matplotlib->kneed) (1.3.1)\n",
            "Requirement already satisfied: python-dateutil>=2.1 in /usr/local/lib/python3.6/dist-packages (from matplotlib->kneed) (2.8.1)\n",
            "Requirement already satisfied: cycler>=0.10 in /usr/local/lib/python3.6/dist-packages (from matplotlib->kneed) (0.10.0)\n",
            "Requirement already satisfied: six>=1.5 in /usr/local/lib/python3.6/dist-packages (from python-dateutil>=2.1->matplotlib->kneed) (1.15.0)\n",
            "Installing collected packages: kneed\n",
            "Successfully installed kneed-0.7.0\n"
          ],
          "name": "stdout"
        }
      ]
    },
    {
      "cell_type": "code",
      "metadata": {
        "id": "538pDnGPbP5F"
      },
      "source": [
        "import pandas as pd\r\n",
        "import numpy as np \r\n",
        "import matplotlib.pyplot as plt\r\n",
        "from sklearn.cluster import KMeans\r\n",
        "from sklearn.feature_extraction.text import TfidfVectorizer\r\n",
        "import matplotlib.pyplot as plt\r\n",
        "import seaborn as sns; sns.set()  # for plot styling\r\n",
        "from kneed import KneeLocator"
      ],
      "execution_count": 2,
      "outputs": []
    },
    {
      "cell_type": "code",
      "metadata": {
        "id": "klXA0-qd3pc3"
      },
      "source": [
        ""
      ],
      "execution_count": null,
      "outputs": []
    },
    {
      "cell_type": "code",
      "metadata": {
        "id": "HTOOHaV63pQf"
      },
      "source": [
        ""
      ],
      "execution_count": null,
      "outputs": []
    },
    {
      "cell_type": "code",
      "metadata": {
        "id": "6MMBLXDdb2U8"
      },
      "source": [
        "#------------------------------------------Empty Rows Removal----------------------------------------------------------------\r\n",
        "# This function Will: 1- Remove all empty rows from csv file 2- Save data to the same csv\r\n",
        "def removeEmptyRows(fileName):\r\n",
        "    df = pd.read_csv(fileName, encoding='utf-8-sig')\r\n",
        "    df = df.dropna(subset=['text'], how='all', axis=0) \r\n",
        "    df.to_csv(fileName, header=True, encoding='utf-8-sig',  index=False)\r\n",
        "    \r\n",
        "    return df"
      ],
      "execution_count": 3,
      "outputs": []
    },
    {
      "cell_type": "code",
      "metadata": {
        "id": "WC9jZGIbb2R8"
      },
      "source": [
        ""
      ],
      "execution_count": 3,
      "outputs": []
    },
    {
      "cell_type": "code",
      "metadata": {
        "id": "3V2U_CB1b2Ol"
      },
      "source": [
        "\r\n",
        "X_and_Y = removeEmptyRows ('/content/drive/MyDrive/Final/train_temp.csv')\r\n",
        "Y= X_and_Y.Label\r\n",
        "X = X_and_Y.text"
      ],
      "execution_count": 4,
      "outputs": []
    },
    {
      "cell_type": "code",
      "metadata": {
        "id": "Pu91kK5xcd-v"
      },
      "source": [
        "X_and_Y_test = removeEmptyRows('/content/drive/MyDrive/Final/test_temp.csv')\r\n",
        "Y_test= X_and_Y_test.Label\r\n",
        "X_test = X_and_Y_test.text"
      ],
      "execution_count": 5,
      "outputs": []
    },
    {
      "cell_type": "code",
      "metadata": {
        "id": "V7QL5eNPcd1j"
      },
      "source": [
        "#--------------------------------------------------Loading StopWords ------------------------------------------\r\n",
        "#Source of file: https://sites.google.com/site/kevinbouge/stopwords-lists\r\n",
        "def getStopWord ():\r\n",
        "    try:\r\n",
        "        file = open('/content/drive/MyDrive/Final/stopwords_fa.txt', 'r', encoding='utf-8-sig')\r\n",
        "        file_readed = file.read()\r\n",
        "    \r\n",
        "    finally:\r\n",
        "        file.close()\r\n",
        "        \r\n",
        "    stopWord_Set = set(file_readed.split())\r\n",
        "    return stopWord_Set\r\n"
      ],
      "execution_count": 6,
      "outputs": []
    },
    {
      "cell_type": "code",
      "metadata": {
        "id": "hqzSeEf_coFT"
      },
      "source": [
        "persian_stop_word = list(getStopWord())\r\n"
      ],
      "execution_count": 7,
      "outputs": []
    },
    {
      "cell_type": "code",
      "metadata": {
        "id": "1BLb9YzVd491"
      },
      "source": [
        "vectorizer = TfidfVectorizer(stop_words= persian_stop_word ,  max_features = 2000 ) \r\n",
        "X_train_vector  = vectorizer.fit_transform(X)"
      ],
      "execution_count": 8,
      "outputs": []
    },
    {
      "cell_type": "code",
      "metadata": {
        "id": "UXDNG9H4d4FG"
      },
      "source": [
        ""
      ],
      "execution_count": 8,
      "outputs": []
    },
    {
      "cell_type": "code",
      "metadata": {
        "colab": {
          "base_uri": "https://localhost:8080/"
        },
        "id": "hcXSoDF5cn8j",
        "outputId": "848d0e47-2876-4137-d50a-b79c6ec77594"
      },
      "source": [
        "#source: https://towardsdatascience.com/k-means-clustering-with-python-code-explained-5a792bd19548\r\n",
        "kmean=KMeans(n_clusters=3)\r\n",
        "kmean.fit(X_train_vector)"
      ],
      "execution_count": 9,
      "outputs": [
        {
          "output_type": "execute_result",
          "data": {
            "text/plain": [
              "KMeans(algorithm='auto', copy_x=True, init='k-means++', max_iter=300,\n",
              "       n_clusters=3, n_init=10, n_jobs=None, precompute_distances='auto',\n",
              "       random_state=None, tol=0.0001, verbose=0)"
            ]
          },
          "metadata": {
            "tags": []
          },
          "execution_count": 9
        }
      ]
    },
    {
      "cell_type": "code",
      "metadata": {
        "id": "I13UadzzegtP"
      },
      "source": [
        "y_kmeans = kmean.predict(X_train_vector)"
      ],
      "execution_count": 10,
      "outputs": []
    },
    {
      "cell_type": "code",
      "metadata": {
        "colab": {
          "base_uri": "https://localhost:8080/"
        },
        "id": "EqWhJI_Zc4XH",
        "outputId": "b2b912f1-6fa7-4b4c-e5e4-e15d26db3f0d"
      },
      "source": [
        "#we can see our three centers by using the following command\r\n",
        "kmean.cluster_centers_"
      ],
      "execution_count": 11,
      "outputs": [
        {
          "output_type": "execute_result",
          "data": {
            "text/plain": [
              "array([[0.00019623, 0.00050958, 0.00101709, ..., 0.00068905, 0.00065501,\n",
              "        0.00093844],\n",
              "       [0.00021345, 0.00097809, 0.00040234, ..., 0.0001954 , 0.        ,\n",
              "        0.00247014],\n",
              "       [0.        , 0.00133463, 0.00429853, ..., 0.00083457, 0.00048044,\n",
              "        0.0003946 ]])"
            ]
          },
          "metadata": {
            "tags": []
          },
          "execution_count": 11
        }
      ]
    },
    {
      "cell_type": "code",
      "metadata": {
        "colab": {
          "base_uri": "https://localhost:8080/"
        },
        "id": "c0Vlya2ZdCaQ",
        "outputId": "59461a89-3604-4ced-d0de-90df0f8b2c54"
      },
      "source": [
        "#To check the labels created, we can use the following command. It gives the labels created for our data\r\n",
        "kmean.labels_"
      ],
      "execution_count": 12,
      "outputs": [
        {
          "output_type": "execute_result",
          "data": {
            "text/plain": [
              "array([0, 0, 2, ..., 1, 0, 0], dtype=int32)"
            ]
          },
          "metadata": {
            "tags": []
          },
          "execution_count": 12
        }
      ]
    },
    {
      "cell_type": "code",
      "metadata": {
        "colab": {
          "base_uri": "https://localhost:8080/"
        },
        "id": "vnsmeXnEe0L5",
        "outputId": "9c015f41-3010-4bf3-fd43-c7f84c00f89e"
      },
      "source": [
        "#Let’s evaluate how well the formed clusters are. To do that, we will calculate the inertia of the clusters:\r\n",
        "kmean.inertia_"
      ],
      "execution_count": 13,
      "outputs": [
        {
          "output_type": "execute_result",
          "data": {
            "text/plain": [
              "40767.12471680361"
            ]
          },
          "metadata": {
            "tags": []
          },
          "execution_count": 13
        }
      ]
    },
    {
      "cell_type": "code",
      "metadata": {
        "colab": {
          "base_uri": "https://localhost:8080/"
        },
        "id": "y_IqWce8e7Vy",
        "outputId": "de279f35-ec6a-4c96-a200-078e497ca061"
      },
      "source": [
        "frame = pd.DataFrame(X_train_vector)\r\n",
        "frame['cluster'] = y_kmeans\r\n",
        "frame['cluster'].value_counts()"
      ],
      "execution_count": 14,
      "outputs": [
        {
          "output_type": "execute_result",
          "data": {
            "text/plain": [
              "0    32342\n",
              "2     6810\n",
              "1     2662\n",
              "Name: cluster, dtype: int64"
            ]
          },
          "metadata": {
            "tags": []
          },
          "execution_count": 14
        }
      ]
    },
    {
      "cell_type": "code",
      "metadata": {
        "colab": {
          "base_uri": "https://localhost:8080/"
        },
        "id": "RXj-pBsagjLY",
        "outputId": "94a14be3-147a-43f2-a837-8d1324e030d2"
      },
      "source": [
        "# fitting multiple k-means algorithms and storing the values in an empty list\r\n",
        "#source: https://www.analyticsvidhya.com/blog/2019/08/comprehensive-guide-k-means-clustering/\r\n",
        "#source:https://realpython.com/k-means-clustering-python/\r\n",
        "SSE = []\r\n",
        "for cluster in range(1,50):\r\n",
        "    kmeans = KMeans(n_jobs = -1, n_clusters = cluster, init='k-means++')\r\n",
        "    kmeans.fit(X_train_vector)\r\n",
        "    SSE.append(kmeans.inertia_)\r\n",
        "    print (cluster)\r\n",
        "\r\n",
        "# converting the results into a dataframe and plotting them\r\n",
        "frame = pd.DataFrame({'Cluster':range(1,20), 'SSE':SSE})\r\n",
        "plt.figure(figsize=(12,6))\r\n",
        "plt.plot(frame['Cluster'], frame['SSE'], marker='o')\r\n",
        "plt.xlabel('Number of clusters')\r\n",
        "plt.ylabel('Inertia')"
      ],
      "execution_count": null,
      "outputs": [
        {
          "output_type": "stream",
          "text": [
            "1\n"
          ],
          "name": "stdout"
        }
      ]
    },
    {
      "cell_type": "code",
      "metadata": {
        "id": "1S9_siwtib-D"
      },
      "source": [
        "kl = KneeLocator(range(1, 50), sse, curve=\"convex\", direction=\"decreasing\")\r\n",
        "true_k = kl.elbow"
      ],
      "execution_count": null,
      "outputs": []
    },
    {
      "cell_type": "code",
      "metadata": {
        "id": "STT-REXZ7Pqq"
      },
      "source": [
        ""
      ],
      "execution_count": 18,
      "outputs": []
    },
    {
      "cell_type": "code",
      "metadata": {
        "colab": {
          "base_uri": "https://localhost:8080/"
        },
        "id": "JqmZOaE07qRK",
        "outputId": "92604ec0-e561-4687-b8eb-0f15e0e36a7d"
      },
      "source": [
        "# true_k=3\r\n",
        "#Source: https://pythonprogramminglanguage.com/kmeans-text-clustering/\r\n",
        "print(\"Top terms per cluster:\")\r\n",
        "order_centroids = kmean.cluster_centers_.argsort()[:, ::-1]\r\n",
        "terms = vectorizer.get_feature_names()\r\n",
        "for i in range(true_k):\r\n",
        "    print(\"Cluster %d:\" % i),\r\n",
        "    for ind in order_centroids[i, :50]:\r\n",
        "        print(' %s' % terms[ind]),\r\n",
        "    print"
      ],
      "execution_count": 17,
      "outputs": [
        {
          "output_type": "stream",
          "text": [
            "Top terms per cluster:\n",
            "Cluster 0:\n",
            " کن\n",
            " تو\n",
            " بچه\n",
            " زن\n",
            " ای\n",
            " دار\n",
            " زندگی\n",
            " دختر\n",
            " امام\n",
            " ان\n",
            " باش\n",
            " روز\n",
            " امریکا\n",
            " بهائی\n",
            " کار\n",
            " نظام\n",
            " وقت\n",
            " دست\n",
            " زمان\n",
            " عکس\n",
            " سال\n",
            " دل\n",
            " سر\n",
            " گیر\n",
            " دیگه\n",
            " خیلی\n",
            " کردن\n",
            " زد\n",
            " کنکور\n",
            " حسن\n",
            " شو\n",
            " الان\n",
            " گو\n",
            " قدیم\n",
            " تمدید\n",
            " مرد\n",
            " تجاوز\n",
            " حال\n",
            " ترامپ\n",
            " یاد\n",
            " کشور\n",
            " خدا\n",
            " بین\n",
            " جان\n",
            " کند\n",
            " اینکه\n",
            " عسکر\n",
            " باز\n",
            " ابان\n",
            " حالا\n",
            "Cluster 1:\n",
            " دوست\n",
            " دار\n",
            " تو\n",
            " کن\n",
            " عزیز\n",
            " خیلی\n",
            " باش\n",
            " پسر\n",
            " ای\n",
            " دختر\n",
            " دارن\n",
            " خوب\n",
            " وقت\n",
            " عوض\n",
            " دیگه\n",
            " الان\n",
            " بیشتر\n",
            " گو\n",
            " شو\n",
            " کار\n",
            " دل\n",
            " منو\n",
            " زن\n",
            " حتی\n",
            " دارم\n",
            " نداره\n",
            " دشمن\n",
            " زد\n",
            " خودم\n",
            " اینکه\n",
            " عشق\n",
            " حرف\n",
            " امنیت\n",
            " بین\n",
            " همیشه\n",
            " واقعا\n",
            " کنه\n",
            " دید\n",
            " ادم\n",
            " دنیا\n",
            " ان\n",
            " دست\n",
            " ممنون\n",
            " چقدر\n",
            " اصلا\n",
            " امام\n",
            " گیر\n",
            " فکر\n",
            " میکنم\n",
            " جان\n",
            "Cluster 2:\n",
            " ایران\n",
            " جمهوری\n",
            " اسلام\n",
            " امریکا\n",
            " کشور\n",
            " رژیم\n",
            " کن\n",
            " علی\n",
            " انتخابات\n",
            " تو\n",
            " سال\n",
            " ان\n",
            " ملت\n",
            " بهائی\n",
            " روز\n",
            " زن\n",
            " قتل\n",
            " حکومت\n",
            " ریاست\n",
            " سیاسی\n",
            " ابان\n",
            " ترامپ\n",
            " دست\n",
            " ای\n",
            " افکار\n",
            " شو\n",
            " نژاد\n",
            " اعدام\n",
            " زندان\n",
            " دوباره\n",
            " ست\n",
            " شهروند\n",
            " پلیس\n",
            " متحد\n",
            " بایدن\n",
            " گرایی\n",
            " معترض\n",
            " نیرو\n",
            " بازپس\n",
            " ساختن\n",
            " محکوم\n",
            " دار\n",
            " گیری\n",
            " وطن\n",
            " روح\n",
            " الله\n",
            " جان\n",
            " نظام\n",
            " تاریخ\n",
            " بختیار\n"
          ],
          "name": "stdout"
        }
      ]
    },
    {
      "cell_type": "code",
      "metadata": {
        "id": "UKWsRUj58yt1"
      },
      "source": [
        ""
      ],
      "execution_count": null,
      "outputs": []
    }
  ]
}