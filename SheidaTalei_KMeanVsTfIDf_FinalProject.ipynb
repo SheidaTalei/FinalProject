{
  "nbformat": 4,
  "nbformat_minor": 0,
  "metadata": {
    "colab": {
      "name": "SheidaTalei_KMeanVsTfIDf_FinalProject.ipynb",
      "provenance": [],
      "collapsed_sections": [],
      "authorship_tag": "ABX9TyOSGZsOy088530wsdXgxM3N",
      "include_colab_link": true
    },
    "kernelspec": {
      "name": "python3",
      "display_name": "Python 3"
    }
  },
  "cells": [
    {
      "cell_type": "markdown",
      "metadata": {
        "id": "view-in-github",
        "colab_type": "text"
      },
      "source": [
        "<a href=\"https://colab.research.google.com/github/SheidaTalei/FinalProject/blob/main/SheidaTalei_KMeanVsTfIDf_FinalProject.ipynb\" target=\"_parent\"><img src=\"https://colab.research.google.com/assets/colab-badge.svg\" alt=\"Open In Colab\"/></a>"
      ]
    },
    {
      "cell_type": "markdown",
      "metadata": {
        "id": "Y5kbpylkbSHh"
      },
      "source": [
        "#SUBJECT: K-Mean Vs TF-IDF\r\n",
        "###AUTHOR: Sheida Talei"
      ]
    },
    {
      "cell_type": "code",
      "metadata": {
        "colab": {
          "base_uri": "https://localhost:8080/"
        },
        "id": "uovInzwGbQEC",
        "outputId": "a03a713e-2cdb-47e4-9fe8-314192113ced"
      },
      "source": [
        "import os, sys\r\n",
        "from google.colab import drive\r\n",
        "drive.mount('/content/drive')\r\n",
        "nb_path = '/content/notebooks'\r\n",
        "os.symlink('/content/drive/My Drive/Colab Notebooks', nb_path)\r\n",
        "sys.path.insert(0,nb_path)"
      ],
      "execution_count": 1,
      "outputs": [
        {
          "output_type": "stream",
          "text": [
            "Mounted at /content/drive\n"
          ],
          "name": "stdout"
        }
      ]
    },
    {
      "cell_type": "code",
      "metadata": {
        "id": "M-P86Dhv3-X5"
      },
      "source": [
        "# !pip install --target=$nb_path kneed"
      ],
      "execution_count": null,
      "outputs": []
    },
    {
      "cell_type": "code",
      "metadata": {
        "id": "538pDnGPbP5F"
      },
      "source": [
        "import pandas as pd\r\n",
        "import numpy as np \r\n",
        "import matplotlib.pyplot as plt\r\n",
        "from sklearn.cluster import KMeans\r\n",
        "from sklearn.feature_extraction.text import TfidfVectorizer\r\n",
        "import matplotlib.pyplot as plt\r\n",
        "import seaborn as sns; sns.set()  # for plot styling\r\n",
        "from kneed import KneeLocator\r\n",
        "from sklearn import metrics\r\n",
        "from sklearn.decomposition import TruncatedSVD"
      ],
      "execution_count": 2,
      "outputs": []
    },
    {
      "cell_type": "code",
      "metadata": {
        "id": "6MMBLXDdb2U8"
      },
      "source": [
        "#------------------------------------------Empty Rows Removal----------------------------------------------------------------\r\n",
        "# This function Will: 1- Remove all empty rows from csv file 2- Save data to the same csv\r\n",
        "def removeEmptyRows(fileName):\r\n",
        "    df = pd.read_csv(fileName, encoding='utf-8-sig')\r\n",
        "    df = df.dropna(subset=['text'], how='all', axis=0) \r\n",
        "    df.to_csv(fileName, header=True, encoding='utf-8-sig',  index=False)\r\n",
        "    \r\n",
        "    return df"
      ],
      "execution_count": 3,
      "outputs": []
    },
    {
      "cell_type": "code",
      "metadata": {
        "id": "3V2U_CB1b2Ol"
      },
      "source": [
        "\r\n",
        "X_and_Y = removeEmptyRows ('/content/drive/MyDrive/Final/train_temp.csv')\r\n",
        "Y= X_and_Y.Label\r\n",
        "X = X_and_Y.text"
      ],
      "execution_count": 4,
      "outputs": []
    },
    {
      "cell_type": "code",
      "metadata": {
        "id": "V7QL5eNPcd1j"
      },
      "source": [
        "#--------------------------------------------------Loading StopWords ------------------------------------------\r\n",
        "#Source of file: https://sites.google.com/site/kevinbouge/stopwords-lists\r\n",
        "def getStopWord ():\r\n",
        "    try:\r\n",
        "        file = open('/content/drive/MyDrive/Final/stopwords_fa.txt', 'r', encoding='utf-8-sig')\r\n",
        "        file_readed = file.read()\r\n",
        "    \r\n",
        "    finally:\r\n",
        "        file.close()\r\n",
        "        \r\n",
        "    stopWord_Set = set(file_readed.split())\r\n",
        "    return stopWord_Set\r\n"
      ],
      "execution_count": 5,
      "outputs": []
    },
    {
      "cell_type": "code",
      "metadata": {
        "id": "hqzSeEf_coFT"
      },
      "source": [
        "persian_stop_word = list(getStopWord())\r\n"
      ],
      "execution_count": 6,
      "outputs": []
    },
    {
      "cell_type": "code",
      "metadata": {
        "id": "1BLb9YzVd491"
      },
      "source": [
        "vectorizer = TfidfVectorizer(stop_words= persian_stop_word ,  max_features = 2000 ) \r\n",
        "X_train_vector  = vectorizer.fit_transform(X)"
      ],
      "execution_count": 7,
      "outputs": []
    },
    {
      "cell_type": "code",
      "metadata": {
        "id": "UXDNG9H4d4FG"
      },
      "source": [
        ""
      ],
      "execution_count": 7,
      "outputs": []
    },
    {
      "cell_type": "code",
      "metadata": {
        "id": "xACxOW8yn0Cr"
      },
      "source": [
        "#source: https://stackoverflow.com/questions/34725726/is-it-possible-apply-pca-on-any-text-classification\r\n",
        "svd = TruncatedSVD(n_components=512)\r\n",
        "X_svd = svd.fit_transform(X_train_vector)"
      ],
      "execution_count": 8,
      "outputs": []
    },
    {
      "cell_type": "code",
      "metadata": {
        "id": "VjYFalJimpF2"
      },
      "source": [
        "# pca = PCA(n_components=512)\r\n",
        "# principalComponents = pca.fit_transform(X_train_vector)"
      ],
      "execution_count": 21,
      "outputs": []
    },
    {
      "cell_type": "code",
      "metadata": {
        "id": "JIBLRFUkmpDf"
      },
      "source": [
        ""
      ],
      "execution_count": null,
      "outputs": []
    },
    {
      "cell_type": "code",
      "metadata": {
        "id": "rpUB88PvmpAT"
      },
      "source": [
        ""
      ],
      "execution_count": null,
      "outputs": []
    },
    {
      "cell_type": "code",
      "metadata": {
        "colab": {
          "base_uri": "https://localhost:8080/"
        },
        "id": "hcXSoDF5cn8j",
        "outputId": "848d0e47-2876-4137-d50a-b79c6ec77594"
      },
      "source": [
        "#source: https://towardsdatascience.com/k-means-clustering-with-python-code-explained-5a792bd19548\r\n",
        "kmean=KMeans(n_clusters=3)\r\n",
        "kmean.fit(X_train_vector)"
      ],
      "execution_count": null,
      "outputs": [
        {
          "output_type": "execute_result",
          "data": {
            "text/plain": [
              "KMeans(algorithm='auto', copy_x=True, init='k-means++', max_iter=300,\n",
              "       n_clusters=3, n_init=10, n_jobs=None, precompute_distances='auto',\n",
              "       random_state=None, tol=0.0001, verbose=0)"
            ]
          },
          "metadata": {
            "tags": []
          },
          "execution_count": 9
        }
      ]
    },
    {
      "cell_type": "code",
      "metadata": {
        "id": "I13UadzzegtP"
      },
      "source": [
        "y_kmeans = kmean.predict(X_train_vector)"
      ],
      "execution_count": null,
      "outputs": []
    },
    {
      "cell_type": "code",
      "metadata": {
        "colab": {
          "base_uri": "https://localhost:8080/"
        },
        "id": "EqWhJI_Zc4XH",
        "outputId": "b2b912f1-6fa7-4b4c-e5e4-e15d26db3f0d"
      },
      "source": [
        "#we can see our three centers by using the following command\r\n",
        "kmean.cluster_centers_"
      ],
      "execution_count": null,
      "outputs": [
        {
          "output_type": "execute_result",
          "data": {
            "text/plain": [
              "array([[0.00019623, 0.00050958, 0.00101709, ..., 0.00068905, 0.00065501,\n",
              "        0.00093844],\n",
              "       [0.00021345, 0.00097809, 0.00040234, ..., 0.0001954 , 0.        ,\n",
              "        0.00247014],\n",
              "       [0.        , 0.00133463, 0.00429853, ..., 0.00083457, 0.00048044,\n",
              "        0.0003946 ]])"
            ]
          },
          "metadata": {
            "tags": []
          },
          "execution_count": 11
        }
      ]
    },
    {
      "cell_type": "code",
      "metadata": {
        "colab": {
          "base_uri": "https://localhost:8080/"
        },
        "id": "c0Vlya2ZdCaQ",
        "outputId": "59461a89-3604-4ced-d0de-90df0f8b2c54"
      },
      "source": [
        "#To check the labels created, we can use the following command. It gives the labels created for our data\r\n",
        "kmean.labels_"
      ],
      "execution_count": null,
      "outputs": [
        {
          "output_type": "execute_result",
          "data": {
            "text/plain": [
              "array([0, 0, 2, ..., 1, 0, 0], dtype=int32)"
            ]
          },
          "metadata": {
            "tags": []
          },
          "execution_count": 12
        }
      ]
    },
    {
      "cell_type": "code",
      "metadata": {
        "colab": {
          "base_uri": "https://localhost:8080/"
        },
        "id": "vnsmeXnEe0L5",
        "outputId": "9c015f41-3010-4bf3-fd43-c7f84c00f89e"
      },
      "source": [
        "#Let’s evaluate how well the formed clusters are. To do that, we will calculate the inertia of the clusters:\r\n",
        "kmean.inertia_"
      ],
      "execution_count": null,
      "outputs": [
        {
          "output_type": "execute_result",
          "data": {
            "text/plain": [
              "40767.12471680361"
            ]
          },
          "metadata": {
            "tags": []
          },
          "execution_count": 13
        }
      ]
    },
    {
      "cell_type": "code",
      "metadata": {
        "colab": {
          "base_uri": "https://localhost:8080/"
        },
        "id": "y_IqWce8e7Vy",
        "outputId": "de279f35-ec6a-4c96-a200-078e497ca061"
      },
      "source": [
        "frame = pd.DataFrame(X_train_vector)\r\n",
        "frame['cluster'] = y_kmeans\r\n",
        "frame['cluster'].value_counts()"
      ],
      "execution_count": null,
      "outputs": [
        {
          "output_type": "execute_result",
          "data": {
            "text/plain": [
              "0    32342\n",
              "2     6810\n",
              "1     2662\n",
              "Name: cluster, dtype: int64"
            ]
          },
          "metadata": {
            "tags": []
          },
          "execution_count": 14
        }
      ]
    },
    {
      "cell_type": "code",
      "metadata": {
        "colab": {
          "base_uri": "https://localhost:8080/"
        },
        "id": "RXj-pBsagjLY",
        "outputId": "3e6b60c4-5dfe-4d0d-f681-551f351d3e88"
      },
      "source": [
        "# fitting multiple k-means algorithms and storing the values in an empty list\r\n",
        "#source: https://www.analyticsvidhya.com/blog/2019/08/comprehensive-guide-k-means-clustering/\r\n",
        "#source:https://realpython.com/k-means-clustering-python/\r\n",
        "SSE = []\r\n",
        "\r\n",
        "clusterList = [100,  500,1000,2000,3000,3500,4000,4500,5000]\r\n",
        "for cluster in clusterList:\r\n",
        "    kmeans = KMeans(n_jobs = -1, n_clusters = cluster, init='k-means++')\r\n",
        "    kmeans.fit(X_svd)\r\n",
        "    # SSE.append(kmeans.inertia_)\r\n",
        "    labels = kmeans.labels_\r\n",
        "    SSE.append(metrics.silhouette_score(X_svd, labels, metric='euclidean'))\r\n",
        "    # clusterList.append(cluster)\r\n",
        "    print (cluster)\r\n",
        "    # cluster = cluster + 10\r\n",
        "\r\n",
        "# converting the results into a dataframe and plotting them\r\n",
        "frame = pd.DataFrame({'Cluster':clusterList, 'SSE':SSE})\r\n",
        "plt.figure(figsize=(12,6))\r\n",
        "plt.plot(frame['Cluster'], frame['SSE'], marker='o')\r\n",
        "plt.xlabel('Number of clusters')\r\n",
        "plt.ylabel('silhouette_score')"
      ],
      "execution_count": null,
      "outputs": [
        {
          "output_type": "stream",
          "text": [
            "/content/notebooks/sklearn/cluster/_kmeans.py:793: FutureWarning: 'n_jobs' was deprecated in version 0.23 and will be removed in 1.0 (renaming of 0.25).\n",
            "  \" removed in 1.0 (renaming of 0.25).\", FutureWarning)\n"
          ],
          "name": "stderr"
        },
        {
          "output_type": "stream",
          "text": [
            "100\n"
          ],
          "name": "stdout"
        },
        {
          "output_type": "stream",
          "text": [
            "/content/notebooks/sklearn/cluster/_kmeans.py:793: FutureWarning: 'n_jobs' was deprecated in version 0.23 and will be removed in 1.0 (renaming of 0.25).\n",
            "  \" removed in 1.0 (renaming of 0.25).\", FutureWarning)\n"
          ],
          "name": "stderr"
        },
        {
          "output_type": "stream",
          "text": [
            "500\n"
          ],
          "name": "stdout"
        },
        {
          "output_type": "stream",
          "text": [
            "/content/notebooks/sklearn/cluster/_kmeans.py:793: FutureWarning: 'n_jobs' was deprecated in version 0.23 and will be removed in 1.0 (renaming of 0.25).\n",
            "  \" removed in 1.0 (renaming of 0.25).\", FutureWarning)\n"
          ],
          "name": "stderr"
        },
        {
          "output_type": "stream",
          "text": [
            "1000\n"
          ],
          "name": "stdout"
        },
        {
          "output_type": "stream",
          "text": [
            "/content/notebooks/sklearn/cluster/_kmeans.py:793: FutureWarning: 'n_jobs' was deprecated in version 0.23 and will be removed in 1.0 (renaming of 0.25).\n",
            "  \" removed in 1.0 (renaming of 0.25).\", FutureWarning)\n"
          ],
          "name": "stderr"
        },
        {
          "output_type": "stream",
          "text": [
            "2000\n"
          ],
          "name": "stdout"
        },
        {
          "output_type": "stream",
          "text": [
            "/content/notebooks/sklearn/cluster/_kmeans.py:793: FutureWarning: 'n_jobs' was deprecated in version 0.23 and will be removed in 1.0 (renaming of 0.25).\n",
            "  \" removed in 1.0 (renaming of 0.25).\", FutureWarning)\n"
          ],
          "name": "stderr"
        },
        {
          "output_type": "stream",
          "text": [
            "3000\n"
          ],
          "name": "stdout"
        },
        {
          "output_type": "stream",
          "text": [
            "/content/notebooks/sklearn/cluster/_kmeans.py:793: FutureWarning: 'n_jobs' was deprecated in version 0.23 and will be removed in 1.0 (renaming of 0.25).\n",
            "  \" removed in 1.0 (renaming of 0.25).\", FutureWarning)\n"
          ],
          "name": "stderr"
        },
        {
          "output_type": "stream",
          "text": [
            "3500\n"
          ],
          "name": "stdout"
        },
        {
          "output_type": "stream",
          "text": [
            "/content/notebooks/sklearn/cluster/_kmeans.py:793: FutureWarning: 'n_jobs' was deprecated in version 0.23 and will be removed in 1.0 (renaming of 0.25).\n",
            "  \" removed in 1.0 (renaming of 0.25).\", FutureWarning)\n"
          ],
          "name": "stderr"
        },
        {
          "output_type": "stream",
          "text": [
            "4000\n"
          ],
          "name": "stdout"
        },
        {
          "output_type": "stream",
          "text": [
            "/content/notebooks/sklearn/cluster/_kmeans.py:793: FutureWarning: 'n_jobs' was deprecated in version 0.23 and will be removed in 1.0 (renaming of 0.25).\n",
            "  \" removed in 1.0 (renaming of 0.25).\", FutureWarning)\n"
          ],
          "name": "stderr"
        },
        {
          "output_type": "stream",
          "text": [
            "4500\n"
          ],
          "name": "stdout"
        },
        {
          "output_type": "stream",
          "text": [
            "/content/notebooks/sklearn/cluster/_kmeans.py:793: FutureWarning: 'n_jobs' was deprecated in version 0.23 and will be removed in 1.0 (renaming of 0.25).\n",
            "  \" removed in 1.0 (renaming of 0.25).\", FutureWarning)\n"
          ],
          "name": "stderr"
        }
      ]
    },
    {
      "cell_type": "code",
      "metadata": {
        "colab": {
          "base_uri": "https://localhost:8080/",
          "height": 412
        },
        "id": "1J82jEHpoZ0l",
        "outputId": "f8cc45c9-b589-4507-d8f5-5606e7d8423a"
      },
      "source": [
        "clusterList = [520, 550,570,600,630,660,690,720,750,780,800,820,850,870,890,910,940,960,980,1000, 1020, 1050, 1080, 1100,1120,1150,1190,1210,1240,1260,1280,1300,1320,1350,1370,1390,1410,1430,1450,1470,1490,1510,1530,1560,1590,1620,1650,1680,1700, 2000,2500,3000,3500,5000,9000,12000,15000]\r\n",
        "\r\n",
        "frame = pd.DataFrame({'Cluster':clusterList, 'SSE':SSE})\r\n",
        "plt.figure(figsize=(12,6))\r\n",
        "plt.plot(frame['Cluster'], frame['SSE'], marker='o')\r\n",
        "plt.xlabel('Number of clusters')\r\n",
        "plt.ylabel('silhouette_score')"
      ],
      "execution_count": null,
      "outputs": [
        {
          "output_type": "execute_result",
          "data": {
            "text/plain": [
              "Text(0, 0.5, 'silhouette_score')"
            ]
          },
          "metadata": {
            "tags": []
          },
          "execution_count": 21
        },
        {
          "output_type": "display_data",
          "data": {
            "image/png": "[encoded data removed]",
            "text/plain": [
              "<Figure size 864x432 with 1 Axes>"
            ]
          },
          "metadata": {
            "tags": []
          }
        }
      ]
    },
    {
      "cell_type": "code",
      "metadata": {
        "colab": {
          "base_uri": "https://localhost:8080/",
          "height": 645
        },
        "id": "wNxPe0fxGKuO",
        "outputId": "eafe2e4e-c40b-4173-8758-46be42038599"
      },
      "source": [
        "print(len (SSE))\r\n",
        "frame = pd.DataFrame({'Cluster':range(5,311), 'SSE':SSE})\r\n",
        "plt.figure(figsize=(20,10))\r\n",
        "plt.plot(frame['Cluster'], frame['SSE'], marker='o')\r\n",
        "plt.xlabel('Number of clusters')\r\n",
        "plt.ylabel('silhouette_score')"
      ],
      "execution_count": null,
      "outputs": [
        {
          "output_type": "stream",
          "text": [
            "306\n"
          ],
          "name": "stdout"
        },
        {
          "output_type": "execute_result",
          "data": {
            "text/plain": [
              "Text(0, 0.5, 'silhouette_score')"
            ]
          },
          "metadata": {
            "tags": []
          },
          "execution_count": 31
        },
        {
          "output_type": "display_data",
          "data": {
            "image/png": "[encoded data removed]",
            "text/plain": [
              "<Figure size 1440x720 with 1 Axes>"
            ]
          },
          "metadata": {
            "tags": []
          }
        }
      ]
    },
    {
      "cell_type": "code",
      "metadata": {
        "colab": {
          "base_uri": "https://localhost:8080/",
          "height": 411
        },
        "id": "Din3IlIcnc9a",
        "outputId": "f73371ca-e142-4b71-cbdd-8e6260c6e94e"
      },
      "source": [
        "frame = pd.DataFrame({'Cluster':range(1,50), 'SSE':SSE})\r\n",
        "plt.figure(figsize=(12,6))\r\n",
        "plt.plot(frame['Cluster'], frame['SSE'], marker='o')\r\n",
        "plt.xlabel('Number of clusters')\r\n",
        "plt.ylabel('Inertia')"
      ],
      "execution_count": null,
      "outputs": [
        {
          "output_type": "execute_result",
          "data": {
            "text/plain": [
              "Text(0, 0.5, 'Inertia')"
            ]
          },
          "metadata": {
            "tags": []
          },
          "execution_count": 20
        },
        {
          "output_type": "display_data",
          "data": {
            "image/png": "[encoded data removed]",
            "text/plain": [
              "<Figure size 864x432 with 1 Axes>"
            ]
          },
          "metadata": {
            "tags": []
          }
        }
      ]
    },
    {
      "cell_type": "code",
      "metadata": {
        "colab": {
          "base_uri": "https://localhost:8080/"
        },
        "id": "1S9_siwtib-D",
        "outputId": "0dd014cc-ddd7-4910-f6cf-0d9beb9ef978"
      },
      "source": [
        "kl = KneeLocator(range(1, 50), SSE, curve=\"convex\", direction=\"decreasing\")\r\n",
        "true_k = kl.elbow\r\n",
        "print (true_k)"
      ],
      "execution_count": null,
      "outputs": [
        {
          "output_type": "stream",
          "text": [
            "22\n"
          ],
          "name": "stdout"
        }
      ]
    },
    {
      "cell_type": "code",
      "metadata": {
        "colab": {
          "base_uri": "https://localhost:8080/"
        },
        "id": "STT-REXZ7Pqq",
        "outputId": "64615864-f6ed-4866-a88c-47777f60fe15"
      },
      "source": [
        "true_k= 22\r\n",
        "kmean=KMeans(n_clusters=true_k)\r\n",
        "kmean.fit(X_train_vector)"
      ],
      "execution_count": null,
      "outputs": [
        {
          "output_type": "execute_result",
          "data": {
            "text/plain": [
              "KMeans(n_clusters=22)"
            ]
          },
          "metadata": {
            "tags": []
          },
          "execution_count": 9
        }
      ]
    },
    {
      "cell_type": "code",
      "metadata": {
        "colab": {
          "base_uri": "https://localhost:8080/"
        },
        "id": "JqmZOaE07qRK",
        "outputId": "7a39886b-f884-4b38-d243-184c866399a1"
      },
      "source": [
        "# true_k=3\r\n",
        "#Source: https://pythonprogramminglanguage.com/kmeans-text-clustering/\r\n",
        "print(\"Top terms per cluster:\")\r\n",
        "order_centroids = kmean.cluster_centers_.argsort()[:, ::-1]\r\n",
        "terms = vectorizer.get_feature_names()\r\n",
        "for i in range(true_k):\r\n",
        "    print(\"Cluster %d:\" % i),\r\n",
        "    for ind in order_centroids[i, :50]:\r\n",
        "        print(' %s' % terms[ind]),\r\n",
        "    print"
      ],
      "execution_count": null,
      "outputs": [
        {
          "output_type": "stream",
          "text": [
            "Top terms per cluster:\n",
            "Cluster 0:\n",
            " بهائی\n",
            " شهروند\n",
            " ایران\n",
            " ائین\n",
            " سال\n",
            " مخفی\n",
            " جامعه\n",
            " بهائیان\n",
            " ساکن\n",
            " زندان\n",
            " ویهودی\n",
            " درایران\n",
            " اسلام\n",
            " نفوذ\n",
            " یهود\n",
            " بازداشت\n",
            " ان\n",
            " دین\n",
            " اسرائیل\n",
            " ازاد\n",
            " خاندان\n",
            " دیانت\n",
            " حبس\n",
            " کن\n",
            " فرقه\n",
            " بهاالله\n",
            " پدر\n",
            " شبکه\n",
            " بهائیت\n",
            " ایین\n",
            " قرار\n",
            " دانشگاه\n",
            " اطلاعات\n",
            " باب\n",
            " شیراز\n",
            " تو\n",
            " جهانی\n",
            " پیامبر\n",
            " حکومت\n",
            " اینکه\n",
            " دار\n",
            " حکم\n",
            " روز\n",
            " ماه\n",
            " محکوم\n",
            " انقلاب\n",
            " انها\n",
            " وثیقه\n",
            " تاریخ\n",
            " امنیت\n",
            "Cluster 1:\n",
            " دوست\n",
            " دار\n",
            " عزیز\n",
            " خیلی\n",
            " کن\n",
            " تو\n",
            " باش\n",
            " دارن\n",
            " عوض\n",
            " پسر\n",
            " خوب\n",
            " وقت\n",
            " بیشتر\n",
            " شو\n",
            " دارم\n",
            " دیگه\n",
            " الان\n",
            " امنیت\n",
            " منو\n",
            " نداره\n",
            " گو\n",
            " کار\n",
            " دل\n",
            " ممنون\n",
            " همیشه\n",
            " عشق\n",
            " ادم\n",
            " چقدر\n",
            " خودم\n",
            " بین\n",
            " واقعا\n",
            " دید\n",
            " دختر\n",
            " اینکه\n",
            " چقد\n",
            " اصلا\n",
            " دشمن\n",
            " حتی\n",
            " زیاد\n",
            " فکر\n",
            " ان\n",
            " دست\n",
            " حالا\n",
            " کاش\n",
            " ای\n",
            " دنیا\n",
            " میکنم\n",
            " واسه\n",
            " کنه\n",
            " خدا\n",
            "Cluster 2:\n",
            " امام\n",
            " حسن\n",
            " عسکر\n",
            " زمان\n",
            " السلام\n",
            " علیه\n",
            " فرمود\n",
            " فرما\n",
            " عج\n",
            " ان\n",
            " شهادت\n",
            " بیعت\n",
            " عسگر\n",
            " خدا\n",
            " خداوند\n",
            " مهدی\n",
            " تسلیت\n",
            " کند\n",
            " العقول\n",
            " تحف\n",
            " دل\n",
            " حضرت\n",
            " الله\n",
            " غیبت\n",
            " مؤمن\n",
            " ظهور\n",
            " امامت\n",
            " باش\n",
            " فرزند\n",
            " کن\n",
            " حال\n",
            " ای\n",
            " نمود\n",
            " باد\n",
            " نمی\n",
            " کار\n",
            " هرکس\n",
            " شیعیان\n",
            " انجام\n",
            " ترین\n",
            " اله\n",
            " روز\n",
            " حسین\n",
            " امشب\n",
            " زمین\n",
            " فرج\n",
            " زشت\n",
            " مولا\n",
            " عصر\n",
            " انسان\n",
            "Cluster 3:\n",
            " کن\n",
            " فکر\n",
            " کار\n",
            " گو\n",
            " بین\n",
            " الان\n",
            " دید\n",
            " حمایت\n",
            " دار\n",
            " وقت\n",
            " ان\n",
            " دوستان\n",
            " کشور\n",
            " نم\n",
            " ظلم\n",
            " خانواده\n",
            " هشتگ\n",
            " متجاوز\n",
            " کو\n",
            " کاشت\n",
            " شاه\n",
            " حتی\n",
            " ابان\n",
            " شروع\n",
            " باشن\n",
            " اینکه\n",
            " وگرنه\n",
            " تقصیر\n",
            " پشت\n",
            " دست\n",
            " روز\n",
            " کردن\n",
            " میندازن\n",
            " هاش\n",
            " پیدا\n",
            " تلاش\n",
            " رژیمه\n",
            " ارگان\n",
            " گذار\n",
            " ابادان\n",
            " امنیتی\n",
            " ماهیت\n",
            " فراموش\n",
            " اومدن\n",
            " دارن\n",
            " نوا\n",
            " وحشی\n",
            " میگ\n",
            " نگاه\n",
            " اینجاست\n",
            "Cluster 4:\n",
            " امریکا\n",
            " ترامپ\n",
            " بایدن\n",
            " انتخابات\n",
            " مناظره\n",
            " جمهوری\n",
            " ریاست\n",
            " ایران\n",
            " جمهور\n",
            " رئیس\n",
            " دخالت\n",
            " ایالت\n",
            " رژیم\n",
            " کن\n",
            " تحریم\n",
            " نامزد\n",
            " ارا\n",
            " تقلب\n",
            " دار\n",
            " پرزیدنت\n",
            " تو\n",
            " دموکرات\n",
            " سیاست\n",
            " انتخاب\n",
            " جو\n",
            " ایالات\n",
            " روز\n",
            " دولت\n",
            " عالی\n",
            " بین\n",
            " فاسد\n",
            " رهبر\n",
            " چین\n",
            " رسانه\n",
            " کند\n",
            " انتخاباتی\n",
            " سال\n",
            " کشور\n",
            " سفیر\n",
            " دست\n",
            " نتیجه\n",
            " رییس\n",
            " کار\n",
            " میشیگان\n",
            " افراد\n",
            " دلار\n",
            " نظر\n",
            " ثبت\n",
            " ان\n",
            " متحده\n",
            "Cluster 5:\n",
            " ایران\n",
            " امریکا\n",
            " روز\n",
            " کن\n",
            " کشور\n",
            " شاه\n",
            " تاریخ\n",
            " ملت\n",
            " پهلوی\n",
            " تحریم\n",
            " ابان\n",
            " رژیم\n",
            " ازادی\n",
            " حقوق\n",
            " اسلام\n",
            " رضا\n",
            " غیرت\n",
            " تو\n",
            " داخل\n",
            " ملی\n",
            " وطن\n",
            " حکومت\n",
            " زمین\n",
            " نجات\n",
            " پادشاه\n",
            " وقت\n",
            " نوید\n",
            " زن\n",
            " خارج\n",
            " دست\n",
            " دار\n",
            " حال\n",
            " باش\n",
            " ان\n",
            " عراق\n",
            " سفیر\n",
            " بزرگ\n",
            " سیاسی\n",
            " کند\n",
            " نماینده\n",
            " جوان\n",
            " بین\n",
            " ازاد\n",
            " جهان\n",
            " کردن\n",
            " کار\n",
            " قیام\n",
            " شاهنشاه\n",
            " زنده\n",
            " گو\n",
            "Cluster 6:\n",
            " عکس\n",
            " کن\n",
            " دار\n",
            " تو\n",
            " هایی\n",
            " موقع\n",
            " گیر\n",
            " فیلم\n",
            " مشخص\n",
            " مراسم\n",
            " رعایت\n",
            " فاصله\n",
            " چهره\n",
            " وقت\n",
            " نمیکنن\n",
            " دختر\n",
            " کار\n",
            " خیلی\n",
            " ای\n",
            " منتشر\n",
            " منو\n",
            " بگن\n",
            " دیدن\n",
            " گذار\n",
            " گذاشت\n",
            " ورود\n",
            " برنامه\n",
            " بد\n",
            " باش\n",
            " دوست\n",
            " خاص\n",
            " اشاره\n",
            " کردن\n",
            " زاویه\n",
            " بذارید\n",
            " حین\n",
            " حتما\n",
            " بین\n",
            " ایران\n",
            " نما\n",
            " میکنن\n",
            " بچه\n",
            " خوبه\n",
            " حداقل\n",
            " پایین\n",
            " حتی\n",
            " دارن\n",
            " دیگه\n",
            " مرد\n",
            " پیدا\n",
            "Cluster 7:\n",
            " گیر\n",
            " تو\n",
            " کن\n",
            " یاد\n",
            " دست\n",
            " تصمیم\n",
            " زندگی\n",
            " قرار\n",
            " خودمون\n",
            " بچه\n",
            " دار\n",
            " وقت\n",
            " تمدید\n",
            " زن\n",
            " سریع\n",
            " هرچه\n",
            " خفه\n",
            " کنکور\n",
            " عزیز\n",
            " ای\n",
            " کم\n",
            " استرس\n",
            " انجام\n",
            " خواهی\n",
            " میکنم\n",
            " کار\n",
            " دونالد\n",
            " شو\n",
            " پی\n",
            " کردن\n",
            " حجم\n",
            " بلد\n",
            " میدن\n",
            " دیگه\n",
            " اینده\n",
            " شخص\n",
            " زمان\n",
            " توجه\n",
            " زدن\n",
            " باش\n",
            " کاش\n",
            " درخواست\n",
            " برانداز\n",
            " اینکه\n",
            " نباید\n",
            " دوست\n",
            " حال\n",
            " اخرش\n",
            " ایران\n",
            " سر\n",
            "Cluster 8:\n",
            " تو\n",
            " کن\n",
            " دار\n",
            " دیگه\n",
            " گو\n",
            " دل\n",
            " وقت\n",
            " کار\n",
            " باش\n",
            " سر\n",
            " الان\n",
            " قبال\n",
            " دنیا\n",
            " مسئول\n",
            " قتل\n",
            " مملکت\n",
            " اینجا\n",
            " تجاوز\n",
            " هشتگ\n",
            " دست\n",
            " شهر\n",
            " امریکا\n",
            " درد\n",
            " اینکه\n",
            " کیر\n",
            " خیلی\n",
            " کنه\n",
            " کردن\n",
            " میکنن\n",
            " فیلم\n",
            " روز\n",
            " خونه\n",
            " کاشت\n",
            " ایران\n",
            " دوست\n",
            " میکنی\n",
            " میکنه\n",
            " کشور\n",
            " میگن\n",
            " مرد\n",
            " نمی\n",
            " نداره\n",
            " واقعا\n",
            " حتی\n",
            " حرف\n",
            " زن\n",
            " امنیت\n",
            " کم\n",
            " میکنم\n",
            " صدا\n",
            "Cluster 9:\n",
            " سال\n",
            " فرصت\n",
            " ایران\n",
            " شرایط\n",
            " گذشته\n",
            " روز\n",
            " انها\n",
            " حبس\n",
            " کشور\n",
            " امریکا\n",
            " اجرا\n",
            " تو\n",
            " باش\n",
            " زندان\n",
            " ای\n",
            " خواهان\n",
            " داوطلب\n",
            " چنین\n",
            " محکوم\n",
            " شهروند\n",
            " امد\n",
            " کن\n",
            " ماه\n",
            " دار\n",
            " وجود\n",
            " ان\n",
            " خور\n",
            " عدالت\n",
            " زن\n",
            " خورد\n",
            " کنکور\n",
            " شو\n",
            " رسانه\n",
            " همگی\n",
            " دست\n",
            " اخیر\n",
            " دنیا\n",
            " شهر\n",
            " همیشه\n",
            " نظام\n",
            " مرگ\n",
            " سه\n",
            " چهل\n",
            " دلسوز\n",
            " مستقل\n",
            " معتقد\n",
            " مطمئن\n",
            " خاطر\n",
            " قتل\n",
            " سر\n",
            "Cluster 10:\n",
            " فهمید\n",
            " فهم\n",
            " حالا\n",
            " دشمن\n",
            " چشم\n",
            " امید\n",
            " تو\n",
            " معنی\n",
            " زن\n",
            " کن\n",
            " زد\n",
            " نم\n",
            " بچه\n",
            " دوست\n",
            " دار\n",
            " وقت\n",
            " زندگی\n",
            " خیلی\n",
            " ایران\n",
            " دیگه\n",
            " سعی\n",
            " عزیز\n",
            " کل\n",
            " فکر\n",
            " باز\n",
            " کشور\n",
            " داستان\n",
            " پایین\n",
            " الان\n",
            " وزیر\n",
            " جریان\n",
            " جماعت\n",
            " واقعا\n",
            " فقر\n",
            " دان\n",
            " روز\n",
            " همیشه\n",
            " سر\n",
            " نوشت\n",
            " نویس\n",
            " عکس\n",
            " دست\n",
            " ای\n",
            " درد\n",
            " اید\n",
            " خفه\n",
            " بد\n",
            " جمهوری\n",
            " کردن\n",
            " فرق\n",
            "Cluster 11:\n",
            " زن\n",
            " زد\n",
            " تو\n",
            " مرد\n",
            " کن\n",
            " ریت\n",
            " حرف\n",
            " دار\n",
            " هشتگ\n",
            " ایران\n",
            " دست\n",
            " بچه\n",
            " خیلی\n",
            " دختر\n",
            " تجاوز\n",
            " وقت\n",
            " باش\n",
            " فکر\n",
            " دوست\n",
            " کمک\n",
            " کار\n",
            " اینکه\n",
            " الان\n",
            " سر\n",
            " خانواده\n",
            " دیگه\n",
            " دوستان\n",
            " حال\n",
            " پیدا\n",
            " گو\n",
            " هستن\n",
            " گم\n",
            " بین\n",
            " حقوق\n",
            " حتی\n",
            " شو\n",
            " دید\n",
            " کردن\n",
            " واسه\n",
            " گیر\n",
            " کتک\n",
            " میتونید\n",
            " روز\n",
            " برانداز\n",
            " یاری\n",
            " دل\n",
            " نمیدونم\n",
            " اینو\n",
            " اسلام\n",
            " فریاد\n",
            "Cluster 12:\n",
            " ای\n",
            " خامنه\n",
            " تو\n",
            " کن\n",
            " دل\n",
            " امام\n",
            " ان\n",
            " ایران\n",
            " کاش\n",
            " دار\n",
            " مولا\n",
            " حالا\n",
            " روز\n",
            " مرگ\n",
            " زمان\n",
            " بابا\n",
            " منتظر\n",
            " نشسته\n",
            " زمین\n",
            " سلام\n",
            " چشم\n",
            " زن\n",
            " کند\n",
            " پدر\n",
            " قتل\n",
            " انتظار\n",
            " خدا\n",
            " دوست\n",
            " روضه\n",
            " عده\n",
            " باش\n",
            " دست\n",
            " امریکا\n",
            " بزرگ\n",
            " شکسته\n",
            " جوان\n",
            " سر\n",
            " امید\n",
            " غم\n",
            " خوش\n",
            " خودش\n",
            " کار\n",
            " چندان\n",
            " صبر\n",
            " عصر\n",
            " هسته\n",
            " داغ\n",
            " منجی\n",
            " اماده\n",
            " روحانی\n",
            "Cluster 13:\n",
            " بچه\n",
            " تو\n",
            " کن\n",
            " بدین\n",
            " دار\n",
            " خیلی\n",
            " نشر\n",
            " باش\n",
            " اینو\n",
            " الان\n",
            " کار\n",
            " وقت\n",
            " مادر\n",
            " دیگه\n",
            " شو\n",
            " پیدا\n",
            " ایران\n",
            " میکنم\n",
            " بیشتر\n",
            " واسه\n",
            " کردن\n",
            " واقعا\n",
            " اینجا\n",
            " میکنن\n",
            " دست\n",
            " بازی\n",
            " کنین\n",
            " ماست\n",
            " بابا\n",
            " کمک\n",
            " دارن\n",
            " پدر\n",
            " کنه\n",
            " خوب\n",
            " دختر\n",
            " ببخشید\n",
            " ای\n",
            " کاشت\n",
            " ساله\n",
            " میگه\n",
            " بد\n",
            " نداره\n",
            " مستاجر\n",
            " سر\n",
            " هام\n",
            " دید\n",
            " اصلا\n",
            " فکر\n",
            " دوستان\n",
            " کنن\n",
            "Cluster 14:\n",
            " جان\n",
            " کشور\n",
            " فدا\n",
            " ایران\n",
            " ای\n",
            " دین\n",
            " ناموس\n",
            " کن\n",
            " افرینی\n",
            " تو\n",
            " دل\n",
            " دفاع\n",
            " معتقدین\n",
            " مزین\n",
            " حماسه\n",
            " مانده\n",
            " خروج\n",
            " روز\n",
            " امکان\n",
            " وطن\n",
            " درون\n",
            " کوچه\n",
            " اقا\n",
            " خرافات\n",
            " امنیت\n",
            " شاهد\n",
            " ریشه\n",
            " نیرو\n",
            " فراموش\n",
            " سال\n",
            " سه\n",
            " حقانیت\n",
            " نشانه\n",
            " مصمم\n",
            " اثبات\n",
            " ببرد\n",
            " انتقاد\n",
            " نموده\n",
            " کف\n",
            " نظام\n",
            " قیمت\n",
            " ان\n",
            " اسلام\n",
            " بین\n",
            " حرکت\n",
            " مهدی\n",
            " فرهنگ\n",
            " قربان\n",
            " بزرگ\n",
            " کار\n",
            "Cluster 15:\n",
            " علی\n",
            " منوچهر\n",
            " ازادکردن\n",
            " وحید\n",
            " زم\n",
            " بازپس\n",
            " حبیب\n",
            " بختیار\n",
            " گروگان\n",
            " گرایی\n",
            " ساختن\n",
            " متحد\n",
            " گیری\n",
            " معترض\n",
            " نژاد\n",
            " محکوم\n",
            " افکار\n",
            " روح\n",
            " ست\n",
            " اعدام\n",
            " دوباره\n",
            " زندان\n",
            " سیاسی\n",
            " ملت\n",
            " شهروند\n",
            " الله\n",
            " رژیم\n",
            " شو\n",
            " کشور\n",
            " ان\n",
            " ایران\n",
            " علینژاد\n",
            " بازسازی\n",
            " جبهه\n",
            " تعداد\n",
            " اصلاح\n",
            " ازادی\n",
            " انها\n",
            " دلیل\n",
            " کن\n",
            " خانواده\n",
            " خبرنگار\n",
            " خدا\n",
            " خدایا\n",
            " خبر\n",
            " خانوم\n",
            " خانوادگی\n",
            " خداوند\n",
            " خب\n",
            " خانه\n",
            "Cluster 16:\n",
            " دار\n",
            " ان\n",
            " روز\n",
            " ابان\n",
            " دل\n",
            " باش\n",
            " سر\n",
            " کار\n",
            " وقت\n",
            " دیگه\n",
            " کردن\n",
            " دست\n",
            " یاد\n",
            " باز\n",
            " صدا\n",
            " دنیا\n",
            " خیلی\n",
            " گو\n",
            " خون\n",
            " کشور\n",
            " بهائیت\n",
            " جهان\n",
            " خبر\n",
            " مهدی\n",
            " شو\n",
            " خدا\n",
            " کنه\n",
            " تجاوز\n",
            " مرد\n",
            " الان\n",
            " حال\n",
            " درد\n",
            " واقعا\n",
            " نفر\n",
            " ماه\n",
            " اینکه\n",
            " مراسم\n",
            " پر\n",
            " کند\n",
            " الله\n",
            " بین\n",
            " رسید\n",
            " پدر\n",
            " شهروند\n",
            " اینجا\n",
            " زمان\n",
            " قرار\n",
            " هشتگ\n",
            " چیه\n",
            " حتی\n",
            "Cluster 17:\n",
            " اسلام\n",
            " جمهوری\n",
            " قتل\n",
            " ایران\n",
            " کانادا\n",
            " ابان\n",
            " دست\n",
            " پلیس\n",
            " امریکا\n",
            " مخالف\n",
            " حکومت\n",
            " ضرب\n",
            " شتم\n",
            " کن\n",
            " جنایت\n",
            " سیما\n",
            " خرداد\n",
            " مقایسه\n",
            " گزارش\n",
            " تورنتو\n",
            " صدا\n",
            " رژیم\n",
            " نیرو\n",
            " روز\n",
            " تو\n",
            " کشور\n",
            " رسید\n",
            " ای\n",
            " کشته\n",
            " سال\n",
            " امین\n",
            " مرگ\n",
            " انتظامی\n",
            " نظام\n",
            " جنایات\n",
            " خارج\n",
            " باش\n",
            " ان\n",
            " جنایتکار\n",
            " زن\n",
            " مهدی\n",
            " رسیده\n",
            " کش\n",
            " دار\n",
            " سیاسی\n",
            " فعال\n",
            " دستبند\n",
            " ترور\n",
            " کار\n",
            " انقلاب\n",
            "Cluster 18:\n",
            " دختر\n",
            " تو\n",
            " تجاوز\n",
            " ابادانی\n",
            " زن\n",
            " ایران\n",
            " باش\n",
            " کن\n",
            " حراست\n",
            " مامور\n",
            " پسر\n",
            " دوچرخه\n",
            " خانواده\n",
            " سوار\n",
            " ابادان\n",
            " دار\n",
            " ساله\n",
            " گناه\n",
            " دفاع\n",
            " نجف\n",
            " سینه\n",
            " سر\n",
            " کتک\n",
            " کردن\n",
            " روان\n",
            " دست\n",
            " فلوید\n",
            " ترین\n",
            " دیگه\n",
            " وقت\n",
            " فیلم\n",
            " صدا\n",
            " کنه\n",
            " مشکل\n",
            " دوست\n",
            " حالا\n",
            " نداره\n",
            " کشور\n",
            " متجاوز\n",
            " حال\n",
            " مرد\n",
            " قرار\n",
            " خون\n",
            " پالایشگاه\n",
            " اره\n",
            " یتیم\n",
            " جرج\n",
            " روز\n",
            " اباد\n",
            " کش\n",
            "Cluster 19:\n",
            " قدیم\n",
            " تمدید\n",
            " نظام\n",
            " کنکور\n",
            " داوطلب\n",
            " کن\n",
            " سال\n",
            " شرایط\n",
            " فرصت\n",
            " اموزشی\n",
            " تعداد\n",
            " عدالت\n",
            " عدم\n",
            " کرونا\n",
            " نفر\n",
            " تحصیل\n",
            " خیلی\n",
            " مسئولین\n",
            " ترک\n",
            " سنجش\n",
            " استرس\n",
            " دار\n",
            " دهه\n",
            " مسئله\n",
            " امید\n",
            " میدهند\n",
            " اخرین\n",
            " زمان\n",
            " دانش\n",
            " بدید\n",
            " داوطلبین\n",
            " باش\n",
            " عزیز\n",
            " برگزار\n",
            " دست\n",
            " اموزان\n",
            " محترم\n",
            " ممکن\n",
            " زود\n",
            " توجه\n",
            " وضعیت\n",
            " نابود\n",
            " صدا\n",
            " گران\n",
            " کتاب\n",
            " منطق\n",
            " سریع\n",
            " درصد\n",
            " حمایت\n",
            " شرکت\n",
            "Cluster 20:\n",
            " جدید\n",
            " منابع\n",
            " نظام\n",
            " خرید\n",
            " قدیم\n",
            " کنکور\n",
            " کتاب\n",
            " هزینه\n",
            " داوطلب\n",
            " گران\n",
            " اقتصاد\n",
            " توان\n",
            " توانایی\n",
            " تهیه\n",
            " تمدید\n",
            " خانواده\n",
            " کرونا\n",
            " شرایط\n",
            " معیشت\n",
            " کن\n",
            " وضع\n",
            " دلیل\n",
            " بسیار\n",
            " ماه\n",
            " اموزشی\n",
            " بد\n",
            " کمک\n",
            " درس\n",
            " کم\n",
            " حتی\n",
            " خرج\n",
            " کرونایی\n",
            " معیشتی\n",
            " فرصت\n",
            " دلایل\n",
            " تومان\n",
            " دار\n",
            " خوب\n",
            " رقابت\n",
            " خاص\n",
            " عدم\n",
            " بهمن\n",
            " باش\n",
            " شرکت\n",
            " داوطلبین\n",
            " کتب\n",
            " حمایت\n",
            " مطلب\n",
            " ایا\n",
            " بخاطر\n",
            "Cluster 21:\n",
            " زندگی\n",
            " تو\n",
            " کن\n",
            " دار\n",
            " ایران\n",
            " دیگه\n",
            " روز\n",
            " وقت\n",
            " کردن\n",
            " مرگ\n",
            " میکنم\n",
            " واقعا\n",
            " خیلی\n",
            " میکنه\n",
            " میکنیم\n",
            " الان\n",
            " دنیا\n",
            " باش\n",
            " صبح\n",
            " خوب\n",
            " فکر\n",
            " بابا\n",
            " کار\n",
            " کشور\n",
            " بیشتر\n",
            " نداره\n",
            " نفس\n",
            " نگاه\n",
            " تموم\n",
            " جوان\n",
            " انسان\n",
            " شو\n",
            " معنی\n",
            " همون\n",
            " کنه\n",
            " هرچه\n",
            " ای\n",
            " سال\n",
            " امید\n",
            " مملکت\n",
            " ادم\n",
            " خودش\n",
            " زن\n",
            " پر\n",
            " نحوه\n",
            " ارزش\n",
            " مرد\n",
            " ان\n",
            " میکنن\n",
            " خواب\n"
          ],
          "name": "stdout"
        }
      ]
    },
    {
      "cell_type": "code",
      "metadata": {
        "id": "M1mZB_dSKguh"
      },
      "source": [
        "labels=kmean.labels_"
      ],
      "execution_count": null,
      "outputs": []
    },
    {
      "cell_type": "code",
      "metadata": {
        "id": "UKWsRUj58yt1",
        "colab": {
          "base_uri": "https://localhost:8080/"
        },
        "outputId": "8f62b141-f4f1-468a-f9fb-82cea0335cfc"
      },
      "source": [
        "\r\n",
        "silhouette_score = metrics.silhouette_score(X_train_vector, labels, metric='euclidean')\r\n",
        "print (\"Silhouette_score: \",silhouette_score )\r\n"
      ],
      "execution_count": null,
      "outputs": [
        {
          "output_type": "stream",
          "text": [
            "Silhouette_score:  0.023245171823646608\n"
          ],
          "name": "stdout"
        }
      ]
    }
  ]
}