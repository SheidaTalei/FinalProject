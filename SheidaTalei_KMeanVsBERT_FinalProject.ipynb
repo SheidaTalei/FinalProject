{
  "nbformat": 4,
  "nbformat_minor": 0,
  "metadata": {
    "colab": {
      "name": "SheidaTalei_KMeanVsBERT_FinalProject.ipynb",
      "provenance": [],
      "collapsed_sections": [],
      "authorship_tag": "ABX9TyMv+Txy2iPPESKfX7W5BquQ",
      "include_colab_link": true
    },
    "kernelspec": {
      "display_name": "Python 3",
      "name": "python3"
    },
    "widgets": {
      "application/vnd.jupyter.widget-state+json": {
        "0567d3dec34040a7bf72d8033e2fca38": {
          "model_module": "@jupyter-widgets/controls",
          "model_name": "HBoxModel",
          "state": {
            "_view_name": "HBoxView",
            "_dom_classes": [],
            "_model_name": "HBoxModel",
            "_view_module": "@jupyter-widgets/controls",
            "_model_module_version": "1.5.0",
            "_view_count": null,
            "_view_module_version": "1.5.0",
            "box_style": "",
            "layout": "IPY_MODEL_96df93b0d0f04e44ade5ccced112185d",
            "_model_module": "@jupyter-widgets/controls",
            "children": [
              "IPY_MODEL_482bec48b19e4602a7eca2136551abba",
              "IPY_MODEL_834b25ce588346edbc492b32a9602c1c"
            ]
          }
        },
        "96df93b0d0f04e44ade5ccced112185d": {
          "model_module": "@jupyter-widgets/base",
          "model_name": "LayoutModel",
          "state": {
            "_view_name": "LayoutView",
            "grid_template_rows": null,
            "right": null,
            "justify_content": null,
            "_view_module": "@jupyter-widgets/base",
            "overflow": null,
            "_model_module_version": "1.2.0",
            "_view_count": null,
            "flex_flow": null,
            "width": null,
            "min_width": null,
            "border": null,
            "align_items": null,
            "bottom": null,
            "_model_module": "@jupyter-widgets/base",
            "top": null,
            "grid_column": null,
            "overflow_y": null,
            "overflow_x": null,
            "grid_auto_flow": null,
            "grid_area": null,
            "grid_template_columns": null,
            "flex": null,
            "_model_name": "LayoutModel",
            "justify_items": null,
            "grid_row": null,
            "max_height": null,
            "align_content": null,
            "visibility": null,
            "align_self": null,
            "height": null,
            "min_height": null,
            "padding": null,
            "grid_auto_rows": null,
            "grid_gap": null,
            "max_width": null,
            "order": null,
            "_view_module_version": "1.2.0",
            "grid_template_areas": null,
            "object_position": null,
            "object_fit": null,
            "grid_auto_columns": null,
            "margin": null,
            "display": null,
            "left": null
          }
        },
        "482bec48b19e4602a7eca2136551abba": {
          "model_module": "@jupyter-widgets/controls",
          "model_name": "FloatProgressModel",
          "state": {
            "_view_name": "ProgressView",
            "style": "IPY_MODEL_10e23111a2ad4a8080c0b7ea77029b2c",
            "_dom_classes": [],
            "description": "Downloading: 100%",
            "_model_name": "FloatProgressModel",
            "bar_style": "success",
            "max": 625,
            "_view_module": "@jupyter-widgets/controls",
            "_model_module_version": "1.5.0",
            "value": 625,
            "_view_count": null,
            "_view_module_version": "1.5.0",
            "orientation": "horizontal",
            "min": 0,
            "description_tooltip": null,
            "_model_module": "@jupyter-widgets/controls",
            "layout": "IPY_MODEL_3ed3cf1915dc474f92eacf1420e4ace2"
          }
        },
        "834b25ce588346edbc492b32a9602c1c": {
          "model_module": "@jupyter-widgets/controls",
          "model_name": "HTMLModel",
          "state": {
            "_view_name": "HTMLView",
            "style": "IPY_MODEL_ccf2f2cf3bc54fe2b93fbebc7683ab7e",
            "_dom_classes": [],
            "description": "",
            "_model_name": "HTMLModel",
            "placeholder": "​",
            "_view_module": "@jupyter-widgets/controls",
            "_model_module_version": "1.5.0",
            "value": " 625/625 [00:13&lt;00:00, 45.6B/s]",
            "_view_count": null,
            "_view_module_version": "1.5.0",
            "description_tooltip": null,
            "_model_module": "@jupyter-widgets/controls",
            "layout": "IPY_MODEL_852f6184c2c94ce5bebc4ba9da51e1fd"
          }
        },
        "10e23111a2ad4a8080c0b7ea77029b2c": {
          "model_module": "@jupyter-widgets/controls",
          "model_name": "ProgressStyleModel",
          "state": {
            "_view_name": "StyleView",
            "_model_name": "ProgressStyleModel",
            "description_width": "initial",
            "_view_module": "@jupyter-widgets/base",
            "_model_module_version": "1.5.0",
            "_view_count": null,
            "_view_module_version": "1.2.0",
            "bar_color": null,
            "_model_module": "@jupyter-widgets/controls"
          }
        },
        "3ed3cf1915dc474f92eacf1420e4ace2": {
          "model_module": "@jupyter-widgets/base",
          "model_name": "LayoutModel",
          "state": {
            "_view_name": "LayoutView",
            "grid_template_rows": null,
            "right": null,
            "justify_content": null,
            "_view_module": "@jupyter-widgets/base",
            "overflow": null,
            "_model_module_version": "1.2.0",
            "_view_count": null,
            "flex_flow": null,
            "width": null,
            "min_width": null,
            "border": null,
            "align_items": null,
            "bottom": null,
            "_model_module": "@jupyter-widgets/base",
            "top": null,
            "grid_column": null,
            "overflow_y": null,
            "overflow_x": null,
            "grid_auto_flow": null,
            "grid_area": null,
            "grid_template_columns": null,
            "flex": null,
            "_model_name": "LayoutModel",
            "justify_items": null,
            "grid_row": null,
            "max_height": null,
            "align_content": null,
            "visibility": null,
            "align_self": null,
            "height": null,
            "min_height": null,
            "padding": null,
            "grid_auto_rows": null,
            "grid_gap": null,
            "max_width": null,
            "order": null,
            "_view_module_version": "1.2.0",
            "grid_template_areas": null,
            "object_position": null,
            "object_fit": null,
            "grid_auto_columns": null,
            "margin": null,
            "display": null,
            "left": null
          }
        },
        "ccf2f2cf3bc54fe2b93fbebc7683ab7e": {
          "model_module": "@jupyter-widgets/controls",
          "model_name": "DescriptionStyleModel",
          "state": {
            "_view_name": "StyleView",
            "_model_name": "DescriptionStyleModel",
            "description_width": "",
            "_view_module": "@jupyter-widgets/base",
            "_model_module_version": "1.5.0",
            "_view_count": null,
            "_view_module_version": "1.2.0",
            "_model_module": "@jupyter-widgets/controls"
          }
        },
        "852f6184c2c94ce5bebc4ba9da51e1fd": {
          "model_module": "@jupyter-widgets/base",
          "model_name": "LayoutModel",
          "state": {
            "_view_name": "LayoutView",
            "grid_template_rows": null,
            "right": null,
            "justify_content": null,
            "_view_module": "@jupyter-widgets/base",
            "overflow": null,
            "_model_module_version": "1.2.0",
            "_view_count": null,
            "flex_flow": null,
            "width": null,
            "min_width": null,
            "border": null,
            "align_items": null,
            "bottom": null,
            "_model_module": "@jupyter-widgets/base",
            "top": null,
            "grid_column": null,
            "overflow_y": null,
            "overflow_x": null,
            "grid_auto_flow": null,
            "grid_area": null,
            "grid_template_columns": null,
            "flex": null,
            "_model_name": "LayoutModel",
            "justify_items": null,
            "grid_row": null,
            "max_height": null,
            "align_content": null,
            "visibility": null,
            "align_self": null,
            "height": null,
            "min_height": null,
            "padding": null,
            "grid_auto_rows": null,
            "grid_gap": null,
            "max_width": null,
            "order": null,
            "_view_module_version": "1.2.0",
            "grid_template_areas": null,
            "object_position": null,
            "object_fit": null,
            "grid_auto_columns": null,
            "margin": null,
            "display": null,
            "left": null
          }
        },
        "c9fb2e918663456fbe6e28e52f098511": {
          "model_module": "@jupyter-widgets/controls",
          "model_name": "HBoxModel",
          "state": {
            "_view_name": "HBoxView",
            "_dom_classes": [],
            "_model_name": "HBoxModel",
            "_view_module": "@jupyter-widgets/controls",
            "_model_module_version": "1.5.0",
            "_view_count": null,
            "_view_module_version": "1.5.0",
            "box_style": "",
            "layout": "IPY_MODEL_942469319182490abf4a58f9ecbfc20f",
            "_model_module": "@jupyter-widgets/controls",
            "children": [
              "IPY_MODEL_70432012fb1949f1a03ce275bb7f9bb8",
              "IPY_MODEL_a40bc114239b40878cfd84fcf3a27860"
            ]
          }
        },
        "942469319182490abf4a58f9ecbfc20f": {
          "model_module": "@jupyter-widgets/base",
          "model_name": "LayoutModel",
          "state": {
            "_view_name": "LayoutView",
            "grid_template_rows": null,
            "right": null,
            "justify_content": null,
            "_view_module": "@jupyter-widgets/base",
            "overflow": null,
            "_model_module_version": "1.2.0",
            "_view_count": null,
            "flex_flow": null,
            "width": null,
            "min_width": null,
            "border": null,
            "align_items": null,
            "bottom": null,
            "_model_module": "@jupyter-widgets/base",
            "top": null,
            "grid_column": null,
            "overflow_y": null,
            "overflow_x": null,
            "grid_auto_flow": null,
            "grid_area": null,
            "grid_template_columns": null,
            "flex": null,
            "_model_name": "LayoutModel",
            "justify_items": null,
            "grid_row": null,
            "max_height": null,
            "align_content": null,
            "visibility": null,
            "align_self": null,
            "height": null,
            "min_height": null,
            "padding": null,
            "grid_auto_rows": null,
            "grid_gap": null,
            "max_width": null,
            "order": null,
            "_view_module_version": "1.2.0",
            "grid_template_areas": null,
            "object_position": null,
            "object_fit": null,
            "grid_auto_columns": null,
            "margin": null,
            "display": null,
            "left": null
          }
        },
        "70432012fb1949f1a03ce275bb7f9bb8": {
          "model_module": "@jupyter-widgets/controls",
          "model_name": "FloatProgressModel",
          "state": {
            "_view_name": "ProgressView",
            "style": "IPY_MODEL_0acd94476a4744c49ae972addf9fa75b",
            "_dom_classes": [],
            "description": "Downloading: 100%",
            "_model_name": "FloatProgressModel",
            "bar_style": "success",
            "max": 714314041,
            "_view_module": "@jupyter-widgets/controls",
            "_model_module_version": "1.5.0",
            "value": 714314041,
            "_view_count": null,
            "_view_module_version": "1.5.0",
            "orientation": "horizontal",
            "min": 0,
            "description_tooltip": null,
            "_model_module": "@jupyter-widgets/controls",
            "layout": "IPY_MODEL_4b8612fb1e5942a0b9bc3ff61760bf02"
          }
        },
        "a40bc114239b40878cfd84fcf3a27860": {
          "model_module": "@jupyter-widgets/controls",
          "model_name": "HTMLModel",
          "state": {
            "_view_name": "HTMLView",
            "style": "IPY_MODEL_8102843db4d24c50aa627df3a2fb1971",
            "_dom_classes": [],
            "description": "",
            "_model_name": "HTMLModel",
            "placeholder": "​",
            "_view_module": "@jupyter-widgets/controls",
            "_model_module_version": "1.5.0",
            "value": " 714M/714M [00:12&lt;00:00, 55.2MB/s]",
            "_view_count": null,
            "_view_module_version": "1.5.0",
            "description_tooltip": null,
            "_model_module": "@jupyter-widgets/controls",
            "layout": "IPY_MODEL_161c2bb78d4546d381ba416f573192ac"
          }
        },
        "0acd94476a4744c49ae972addf9fa75b": {
          "model_module": "@jupyter-widgets/controls",
          "model_name": "ProgressStyleModel",
          "state": {
            "_view_name": "StyleView",
            "_model_name": "ProgressStyleModel",
            "description_width": "initial",
            "_view_module": "@jupyter-widgets/base",
            "_model_module_version": "1.5.0",
            "_view_count": null,
            "_view_module_version": "1.2.0",
            "bar_color": null,
            "_model_module": "@jupyter-widgets/controls"
          }
        },
        "4b8612fb1e5942a0b9bc3ff61760bf02": {
          "model_module": "@jupyter-widgets/base",
          "model_name": "LayoutModel",
          "state": {
            "_view_name": "LayoutView",
            "grid_template_rows": null,
            "right": null,
            "justify_content": null,
            "_view_module": "@jupyter-widgets/base",
            "overflow": null,
            "_model_module_version": "1.2.0",
            "_view_count": null,
            "flex_flow": null,
            "width": null,
            "min_width": null,
            "border": null,
            "align_items": null,
            "bottom": null,
            "_model_module": "@jupyter-widgets/base",
            "top": null,
            "grid_column": null,
            "overflow_y": null,
            "overflow_x": null,
            "grid_auto_flow": null,
            "grid_area": null,
            "grid_template_columns": null,
            "flex": null,
            "_model_name": "LayoutModel",
            "justify_items": null,
            "grid_row": null,
            "max_height": null,
            "align_content": null,
            "visibility": null,
            "align_self": null,
            "height": null,
            "min_height": null,
            "padding": null,
            "grid_auto_rows": null,
            "grid_gap": null,
            "max_width": null,
            "order": null,
            "_view_module_version": "1.2.0",
            "grid_template_areas": null,
            "object_position": null,
            "object_fit": null,
            "grid_auto_columns": null,
            "margin": null,
            "display": null,
            "left": null
          }
        },
        "8102843db4d24c50aa627df3a2fb1971": {
          "model_module": "@jupyter-widgets/controls",
          "model_name": "DescriptionStyleModel",
          "state": {
            "_view_name": "StyleView",
            "_model_name": "DescriptionStyleModel",
            "description_width": "",
            "_view_module": "@jupyter-widgets/base",
            "_model_module_version": "1.5.0",
            "_view_count": null,
            "_view_module_version": "1.2.0",
            "_model_module": "@jupyter-widgets/controls"
          }
        },
        "161c2bb78d4546d381ba416f573192ac": {
          "model_module": "@jupyter-widgets/base",
          "model_name": "LayoutModel",
          "state": {
            "_view_name": "LayoutView",
            "grid_template_rows": null,
            "right": null,
            "justify_content": null,
            "_view_module": "@jupyter-widgets/base",
            "overflow": null,
            "_model_module_version": "1.2.0",
            "_view_count": null,
            "flex_flow": null,
            "width": null,
            "min_width": null,
            "border": null,
            "align_items": null,
            "bottom": null,
            "_model_module": "@jupyter-widgets/base",
            "top": null,
            "grid_column": null,
            "overflow_y": null,
            "overflow_x": null,
            "grid_auto_flow": null,
            "grid_area": null,
            "grid_template_columns": null,
            "flex": null,
            "_model_name": "LayoutModel",
            "justify_items": null,
            "grid_row": null,
            "max_height": null,
            "align_content": null,
            "visibility": null,
            "align_self": null,
            "height": null,
            "min_height": null,
            "padding": null,
            "grid_auto_rows": null,
            "grid_gap": null,
            "max_width": null,
            "order": null,
            "_view_module_version": "1.2.0",
            "grid_template_areas": null,
            "object_position": null,
            "object_fit": null,
            "grid_auto_columns": null,
            "margin": null,
            "display": null,
            "left": null
          }
        },
        "14ce95d822ca4521a560ca8925e14080": {
          "model_module": "@jupyter-widgets/controls",
          "model_name": "HBoxModel",
          "state": {
            "_view_name": "HBoxView",
            "_dom_classes": [],
            "_model_name": "HBoxModel",
            "_view_module": "@jupyter-widgets/controls",
            "_model_module_version": "1.5.0",
            "_view_count": null,
            "_view_module_version": "1.5.0",
            "box_style": "",
            "layout": "IPY_MODEL_b667d756109e4d50b592ae514c4af869",
            "_model_module": "@jupyter-widgets/controls",
            "children": [
              "IPY_MODEL_43bbc6331884470f8c0aa78d7aaa18af",
              "IPY_MODEL_7d2f5094e8f742079217eac6b091cf7c"
            ]
          }
        },
        "b667d756109e4d50b592ae514c4af869": {
          "model_module": "@jupyter-widgets/base",
          "model_name": "LayoutModel",
          "state": {
            "_view_name": "LayoutView",
            "grid_template_rows": null,
            "right": null,
            "justify_content": null,
            "_view_module": "@jupyter-widgets/base",
            "overflow": null,
            "_model_module_version": "1.2.0",
            "_view_count": null,
            "flex_flow": null,
            "width": null,
            "min_width": null,
            "border": null,
            "align_items": null,
            "bottom": null,
            "_model_module": "@jupyter-widgets/base",
            "top": null,
            "grid_column": null,
            "overflow_y": null,
            "overflow_x": null,
            "grid_auto_flow": null,
            "grid_area": null,
            "grid_template_columns": null,
            "flex": null,
            "_model_name": "LayoutModel",
            "justify_items": null,
            "grid_row": null,
            "max_height": null,
            "align_content": null,
            "visibility": null,
            "align_self": null,
            "height": null,
            "min_height": null,
            "padding": null,
            "grid_auto_rows": null,
            "grid_gap": null,
            "max_width": null,
            "order": null,
            "_view_module_version": "1.2.0",
            "grid_template_areas": null,
            "object_position": null,
            "object_fit": null,
            "grid_auto_columns": null,
            "margin": null,
            "display": null,
            "left": null
          }
        },
        "43bbc6331884470f8c0aa78d7aaa18af": {
          "model_module": "@jupyter-widgets/controls",
          "model_name": "FloatProgressModel",
          "state": {
            "_view_name": "ProgressView",
            "style": "IPY_MODEL_a448cefef60f423ab111d2998a3ca9d3",
            "_dom_classes": [],
            "description": "Downloading: 100%",
            "_model_name": "FloatProgressModel",
            "bar_style": "success",
            "max": 995526,
            "_view_module": "@jupyter-widgets/controls",
            "_model_module_version": "1.5.0",
            "value": 995526,
            "_view_count": null,
            "_view_module_version": "1.5.0",
            "orientation": "horizontal",
            "min": 0,
            "description_tooltip": null,
            "_model_module": "@jupyter-widgets/controls",
            "layout": "IPY_MODEL_1a1efba1b8ee47c18f5f00023d4eba5b"
          }
        },
        "7d2f5094e8f742079217eac6b091cf7c": {
          "model_module": "@jupyter-widgets/controls",
          "model_name": "HTMLModel",
          "state": {
            "_view_name": "HTMLView",
            "style": "IPY_MODEL_ae1d1e9ee1a944e39463aeeefe6df97e",
            "_dom_classes": [],
            "description": "",
            "_model_name": "HTMLModel",
            "placeholder": "​",
            "_view_module": "@jupyter-widgets/controls",
            "_model_module_version": "1.5.0",
            "value": " 996k/996k [00:16&lt;00:00, 59.5kB/s]",
            "_view_count": null,
            "_view_module_version": "1.5.0",
            "description_tooltip": null,
            "_model_module": "@jupyter-widgets/controls",
            "layout": "IPY_MODEL_9610bffd19e7465eb269bae46479e0b6"
          }
        },
        "a448cefef60f423ab111d2998a3ca9d3": {
          "model_module": "@jupyter-widgets/controls",
          "model_name": "ProgressStyleModel",
          "state": {
            "_view_name": "StyleView",
            "_model_name": "ProgressStyleModel",
            "description_width": "initial",
            "_view_module": "@jupyter-widgets/base",
            "_model_module_version": "1.5.0",
            "_view_count": null,
            "_view_module_version": "1.2.0",
            "bar_color": null,
            "_model_module": "@jupyter-widgets/controls"
          }
        },
        "1a1efba1b8ee47c18f5f00023d4eba5b": {
          "model_module": "@jupyter-widgets/base",
          "model_name": "LayoutModel",
          "state": {
            "_view_name": "LayoutView",
            "grid_template_rows": null,
            "right": null,
            "justify_content": null,
            "_view_module": "@jupyter-widgets/base",
            "overflow": null,
            "_model_module_version": "1.2.0",
            "_view_count": null,
            "flex_flow": null,
            "width": null,
            "min_width": null,
            "border": null,
            "align_items": null,
            "bottom": null,
            "_model_module": "@jupyter-widgets/base",
            "top": null,
            "grid_column": null,
            "overflow_y": null,
            "overflow_x": null,
            "grid_auto_flow": null,
            "grid_area": null,
            "grid_template_columns": null,
            "flex": null,
            "_model_name": "LayoutModel",
            "justify_items": null,
            "grid_row": null,
            "max_height": null,
            "align_content": null,
            "visibility": null,
            "align_self": null,
            "height": null,
            "min_height": null,
            "padding": null,
            "grid_auto_rows": null,
            "grid_gap": null,
            "max_width": null,
            "order": null,
            "_view_module_version": "1.2.0",
            "grid_template_areas": null,
            "object_position": null,
            "object_fit": null,
            "grid_auto_columns": null,
            "margin": null,
            "display": null,
            "left": null
          }
        },
        "ae1d1e9ee1a944e39463aeeefe6df97e": {
          "model_module": "@jupyter-widgets/controls",
          "model_name": "DescriptionStyleModel",
          "state": {
            "_view_name": "StyleView",
            "_model_name": "DescriptionStyleModel",
            "description_width": "",
            "_view_module": "@jupyter-widgets/base",
            "_model_module_version": "1.5.0",
            "_view_count": null,
            "_view_module_version": "1.2.0",
            "_model_module": "@jupyter-widgets/controls"
          }
        },
        "9610bffd19e7465eb269bae46479e0b6": {
          "model_module": "@jupyter-widgets/base",
          "model_name": "LayoutModel",
          "state": {
            "_view_name": "LayoutView",
            "grid_template_rows": null,
            "right": null,
            "justify_content": null,
            "_view_module": "@jupyter-widgets/base",
            "overflow": null,
            "_model_module_version": "1.2.0",
            "_view_count": null,
            "flex_flow": null,
            "width": null,
            "min_width": null,
            "border": null,
            "align_items": null,
            "bottom": null,
            "_model_module": "@jupyter-widgets/base",
            "top": null,
            "grid_column": null,
            "overflow_y": null,
            "overflow_x": null,
            "grid_auto_flow": null,
            "grid_area": null,
            "grid_template_columns": null,
            "flex": null,
            "_model_name": "LayoutModel",
            "justify_items": null,
            "grid_row": null,
            "max_height": null,
            "align_content": null,
            "visibility": null,
            "align_self": null,
            "height": null,
            "min_height": null,
            "padding": null,
            "grid_auto_rows": null,
            "grid_gap": null,
            "max_width": null,
            "order": null,
            "_view_module_version": "1.2.0",
            "grid_template_areas": null,
            "object_position": null,
            "object_fit": null,
            "grid_auto_columns": null,
            "margin": null,
            "display": null,
            "left": null
          }
        },
        "ee33561dcd6d4b329d04e8cf9155f21d": {
          "model_module": "@jupyter-widgets/controls",
          "model_name": "HBoxModel",
          "state": {
            "_view_name": "HBoxView",
            "_dom_classes": [],
            "_model_name": "HBoxModel",
            "_view_module": "@jupyter-widgets/controls",
            "_model_module_version": "1.5.0",
            "_view_count": null,
            "_view_module_version": "1.5.0",
            "box_style": "",
            "layout": "IPY_MODEL_697992a1fb17409993006c30ffc6b82b",
            "_model_module": "@jupyter-widgets/controls",
            "children": [
              "IPY_MODEL_2c43324b52334a06a40a24a7e0c89438",
              "IPY_MODEL_1f8be67fba8444b093b1bcde147e5ef2"
            ]
          }
        },
        "697992a1fb17409993006c30ffc6b82b": {
          "model_module": "@jupyter-widgets/base",
          "model_name": "LayoutModel",
          "state": {
            "_view_name": "LayoutView",
            "grid_template_rows": null,
            "right": null,
            "justify_content": null,
            "_view_module": "@jupyter-widgets/base",
            "overflow": null,
            "_model_module_version": "1.2.0",
            "_view_count": null,
            "flex_flow": null,
            "width": null,
            "min_width": null,
            "border": null,
            "align_items": null,
            "bottom": null,
            "_model_module": "@jupyter-widgets/base",
            "top": null,
            "grid_column": null,
            "overflow_y": null,
            "overflow_x": null,
            "grid_auto_flow": null,
            "grid_area": null,
            "grid_template_columns": null,
            "flex": null,
            "_model_name": "LayoutModel",
            "justify_items": null,
            "grid_row": null,
            "max_height": null,
            "align_content": null,
            "visibility": null,
            "align_self": null,
            "height": null,
            "min_height": null,
            "padding": null,
            "grid_auto_rows": null,
            "grid_gap": null,
            "max_width": null,
            "order": null,
            "_view_module_version": "1.2.0",
            "grid_template_areas": null,
            "object_position": null,
            "object_fit": null,
            "grid_auto_columns": null,
            "margin": null,
            "display": null,
            "left": null
          }
        },
        "2c43324b52334a06a40a24a7e0c89438": {
          "model_module": "@jupyter-widgets/controls",
          "model_name": "FloatProgressModel",
          "state": {
            "_view_name": "ProgressView",
            "style": "IPY_MODEL_699779222e634a32812b3a1013f27eeb",
            "_dom_classes": [],
            "description": "Downloading: 100%",
            "_model_name": "FloatProgressModel",
            "bar_style": "success",
            "max": 1961828,
            "_view_module": "@jupyter-widgets/controls",
            "_model_module_version": "1.5.0",
            "value": 1961828,
            "_view_count": null,
            "_view_module_version": "1.5.0",
            "orientation": "horizontal",
            "min": 0,
            "description_tooltip": null,
            "_model_module": "@jupyter-widgets/controls",
            "layout": "IPY_MODEL_efc320d578fa4bd288dbd31dc7b1b7c7"
          }
        },
        "1f8be67fba8444b093b1bcde147e5ef2": {
          "model_module": "@jupyter-widgets/controls",
          "model_name": "HTMLModel",
          "state": {
            "_view_name": "HTMLView",
            "style": "IPY_MODEL_e295b7d464c549f6ab532eb806b3bde8",
            "_dom_classes": [],
            "description": "",
            "_model_name": "HTMLModel",
            "placeholder": "​",
            "_view_module": "@jupyter-widgets/controls",
            "_model_module_version": "1.5.0",
            "value": " 1.96M/1.96M [00:15&lt;00:00, 125kB/s]",
            "_view_count": null,
            "_view_module_version": "1.5.0",
            "description_tooltip": null,
            "_model_module": "@jupyter-widgets/controls",
            "layout": "IPY_MODEL_6cf3357040f84308ac60aa6af2875505"
          }
        },
        "699779222e634a32812b3a1013f27eeb": {
          "model_module": "@jupyter-widgets/controls",
          "model_name": "ProgressStyleModel",
          "state": {
            "_view_name": "StyleView",
            "_model_name": "ProgressStyleModel",
            "description_width": "initial",
            "_view_module": "@jupyter-widgets/base",
            "_model_module_version": "1.5.0",
            "_view_count": null,
            "_view_module_version": "1.2.0",
            "bar_color": null,
            "_model_module": "@jupyter-widgets/controls"
          }
        },
        "efc320d578fa4bd288dbd31dc7b1b7c7": {
          "model_module": "@jupyter-widgets/base",
          "model_name": "LayoutModel",
          "state": {
            "_view_name": "LayoutView",
            "grid_template_rows": null,
            "right": null,
            "justify_content": null,
            "_view_module": "@jupyter-widgets/base",
            "overflow": null,
            "_model_module_version": "1.2.0",
            "_view_count": null,
            "flex_flow": null,
            "width": null,
            "min_width": null,
            "border": null,
            "align_items": null,
            "bottom": null,
            "_model_module": "@jupyter-widgets/base",
            "top": null,
            "grid_column": null,
            "overflow_y": null,
            "overflow_x": null,
            "grid_auto_flow": null,
            "grid_area": null,
            "grid_template_columns": null,
            "flex": null,
            "_model_name": "LayoutModel",
            "justify_items": null,
            "grid_row": null,
            "max_height": null,
            "align_content": null,
            "visibility": null,
            "align_self": null,
            "height": null,
            "min_height": null,
            "padding": null,
            "grid_auto_rows": null,
            "grid_gap": null,
            "max_width": null,
            "order": null,
            "_view_module_version": "1.2.0",
            "grid_template_areas": null,
            "object_position": null,
            "object_fit": null,
            "grid_auto_columns": null,
            "margin": null,
            "display": null,
            "left": null
          }
        },
        "e295b7d464c549f6ab532eb806b3bde8": {
          "model_module": "@jupyter-widgets/controls",
          "model_name": "DescriptionStyleModel",
          "state": {
            "_view_name": "StyleView",
            "_model_name": "DescriptionStyleModel",
            "description_width": "",
            "_view_module": "@jupyter-widgets/base",
            "_model_module_version": "1.5.0",
            "_view_count": null,
            "_view_module_version": "1.2.0",
            "_model_module": "@jupyter-widgets/controls"
          }
        },
        "6cf3357040f84308ac60aa6af2875505": {
          "model_module": "@jupyter-widgets/base",
          "model_name": "LayoutModel",
          "state": {
            "_view_name": "LayoutView",
            "grid_template_rows": null,
            "right": null,
            "justify_content": null,
            "_view_module": "@jupyter-widgets/base",
            "overflow": null,
            "_model_module_version": "1.2.0",
            "_view_count": null,
            "flex_flow": null,
            "width": null,
            "min_width": null,
            "border": null,
            "align_items": null,
            "bottom": null,
            "_model_module": "@jupyter-widgets/base",
            "top": null,
            "grid_column": null,
            "overflow_y": null,
            "overflow_x": null,
            "grid_auto_flow": null,
            "grid_area": null,
            "grid_template_columns": null,
            "flex": null,
            "_model_name": "LayoutModel",
            "justify_items": null,
            "grid_row": null,
            "max_height": null,
            "align_content": null,
            "visibility": null,
            "align_self": null,
            "height": null,
            "min_height": null,
            "padding": null,
            "grid_auto_rows": null,
            "grid_gap": null,
            "max_width": null,
            "order": null,
            "_view_module_version": "1.2.0",
            "grid_template_areas": null,
            "object_position": null,
            "object_fit": null,
            "grid_auto_columns": null,
            "margin": null,
            "display": null,
            "left": null
          }
        }
      }
    },
    "accelerator": "GPU"
  },
  "cells": [
    {
      "cell_type": "markdown",
      "metadata": {
        "id": "view-in-github",
        "colab_type": "text"
      },
      "source": [
        "<a href=\"https://colab.research.google.com/github/SheidaTalei/FinalProject/blob/main/SheidaTalei_KMeanVsBERT_FinalProject.ipynb\" target=\"_parent\"><img src=\"https://colab.research.google.com/assets/colab-badge.svg\" alt=\"Open In Colab\"/></a>"
      ]
    },
    {
      "cell_type": "markdown",
      "metadata": {
        "id": "x_ryjPNL0ZV1"
      },
      "source": [
        "#SUBJECT: K-Mean Vs BERT Embedding\r\n",
        "\r\n",
        "###AUTHOR: Sheida Talei"
      ]
    },
    {
      "cell_type": "code",
      "metadata": {
        "colab": {
          "base_uri": "https://localhost:8080/"
        },
        "id": "knOOWv-A0mHT",
        "outputId": "90374574-84f0-4489-98da-49dfbbb3c92e"
      },
      "source": [
        "import os, sys\r\n",
        "from google.colab import drive\r\n",
        "drive.mount('/content/drive')\r\n",
        "nb_path = '/content/notebooks'\r\n",
        "os.symlink('/content/drive/My Drive/Colab Notebooks', nb_path)\r\n",
        "sys.path.insert(0,nb_path)"
      ],
      "execution_count": null,
      "outputs": [
        {
          "output_type": "stream",
          "text": [
            "Mounted at /content/drive\n"
          ],
          "name": "stdout"
        }
      ]
    },
    {
      "cell_type": "code",
      "metadata": {
        "id": "WEzzIl3mEOwk"
      },
      "source": [
        "import transformers\r\n",
        "from transformers import BertModel, BertTokenizer\r\n",
        "import torch\r\n",
        "import numpy as np\r\n",
        "import pandas as pd\r\n",
        "\r\n",
        "import matplotlib.pyplot as plt\r\n",
        "\r\n",
        "from sklearn.model_selection import train_test_split\r\n",
        "from sklearn.metrics import confusion_matrix, classification_report\r\n",
        "\r\n",
        "\r\n",
        "\r\n"
      ],
      "execution_count": null,
      "outputs": []
    },
    {
      "cell_type": "code",
      "metadata": {
        "id": "44qBOgkYuu88"
      },
      "source": [
        "!pip install --target=$nb_path transformers"
      ],
      "execution_count": null,
      "outputs": []
    },
    {
      "cell_type": "code",
      "metadata": {
        "id": "lBqHxMDVEcjX"
      },
      "source": [
        "\r\n",
        "\r\n",
        "from sklearn.feature_extraction.text import TfidfVectorizer\r\n",
        "#Convert a collection of raw documents to a matrix of TF-IDF features.\r\n",
        "from sklearn.model_selection import train_test_split\r\n",
        "from sklearn.metrics import accuracy_score\r\n",
        "\r\n",
        "import tensorflow as tf\r\n",
        "from tensorflow import keras\r\n",
        "from tensorflow.keras import layers\r\n",
        "\r\n",
        "# from transformers import TFBertModel, TFBertPreTrainedModel, TFBertForSequenceClassification\r\n",
        "# from transformers import glue_convert_examples_to_features, InputExample\r\n",
        "# from sentence_transformers import SentenceTransformer\r\n",
        "\r\n",
        "import matplotlib.pyplot as plt\r\n",
        "from sklearn.cluster import KMeans\r\n",
        "\r\n",
        "import matplotlib.pyplot as plt\r\n",
        "import seaborn as sns; sns.set()  # for plot styling\r\n",
        "from kneed import KneeLocator\r\n",
        "from sklearn import metrics"
      ],
      "execution_count": null,
      "outputs": []
    },
    {
      "cell_type": "code",
      "metadata": {
        "id": "G5xXFt6mLHZe"
      },
      "source": [
        "!pip install --target=$nb_path kneed"
      ],
      "execution_count": null,
      "outputs": []
    },
    {
      "cell_type": "code",
      "metadata": {
        "id": "a21-c6RQx3fM"
      },
      "source": [
        "from sentence_transformers import SentenceTransformer"
      ],
      "execution_count": null,
      "outputs": []
    },
    {
      "cell_type": "code",
      "metadata": {
        "id": "uQ1nITz2zY2r"
      },
      "source": [
        "!pip install --target=$nb_path sentence_transformers"
      ],
      "execution_count": null,
      "outputs": []
    },
    {
      "cell_type": "code",
      "metadata": {
        "id": "48UU026JvL7S"
      },
      "source": [
        "# !pip install --target=$nb_path transformers"
      ],
      "execution_count": null,
      "outputs": []
    },
    {
      "cell_type": "code",
      "metadata": {
        "id": "RMh5LocM0drN"
      },
      "source": [
        "pip install -U sentence-transformers"
      ],
      "execution_count": null,
      "outputs": []
    },
    {
      "cell_type": "code",
      "metadata": {
        "id": "7fs5RzA_0dlq"
      },
      "source": [
        ""
      ],
      "execution_count": null,
      "outputs": []
    },
    {
      "cell_type": "code",
      "metadata": {
        "id": "ksoZ4Jsh4xfE"
      },
      "source": [
        "import matplotlib.pyplot as plt\r\n",
        "import seaborn as sn\r\n",
        "from hazm import *"
      ],
      "execution_count": null,
      "outputs": []
    },
    {
      "cell_type": "code",
      "metadata": {
        "id": "oR1aYQAk4xY5"
      },
      "source": [
        "\r\n",
        "from wordcloud_fa import WordCloudFa"
      ],
      "execution_count": null,
      "outputs": []
    },
    {
      "cell_type": "code",
      "metadata": {
        "colab": {
          "base_uri": "https://localhost:8080/"
        },
        "id": "KBmIoxX2H11w",
        "outputId": "a2ffd592-0f6a-479c-af0f-081c4f0f84c6"
      },
      "source": [
        "!pip install --target=$nb_path hazm"
      ],
      "execution_count": null,
      "outputs": [
        {
          "output_type": "stream",
          "text": [
            "Requirement already satisfied: hazm in /usr/local/lib/python3.7/dist-packages (0.7.0)\n",
            "Requirement already satisfied: nltk==3.3 in /usr/local/lib/python3.7/dist-packages (from hazm) (3.3)\n",
            "Requirement already satisfied: libwapiti>=0.2.1; platform_system != \"Windows\" in /usr/local/lib/python3.7/dist-packages (from hazm) (0.2.1)\n",
            "Requirement already satisfied: six in /usr/local/lib/python3.7/dist-packages (from nltk==3.3->hazm) (1.15.0)\n"
          ],
          "name": "stdout"
        }
      ]
    },
    {
      "cell_type": "code",
      "metadata": {
        "id": "QScdOgCaG5lg"
      },
      "source": [
        "# from flair.embeddings import BertEmbeddings"
      ],
      "execution_count": null,
      "outputs": []
    },
    {
      "cell_type": "code",
      "metadata": {
        "colab": {
          "base_uri": "https://localhost:8080/"
        },
        "id": "v8Sq6jDVyKnp",
        "outputId": "6413f10a-9774-48da-cc06-a2397820da36"
      },
      "source": [
        "# from nltk import tokenize\r\n",
        "\r\n",
        "# import nltk\r\n",
        "# nltk.download('punkt')"
      ],
      "execution_count": null,
      "outputs": [
        {
          "output_type": "stream",
          "text": [
            "[nltk_data] Downloading package punkt to /root/nltk_data...\n",
            "[nltk_data]   Unzipping tokenizers/punkt.zip.\n"
          ],
          "name": "stdout"
        },
        {
          "output_type": "execute_result",
          "data": {
            "text/plain": [
              "True"
            ]
          },
          "metadata": {
            "tags": []
          },
          "execution_count": 4
        }
      ]
    },
    {
      "cell_type": "code",
      "metadata": {
        "id": "uzfWlXM4vDK9"
      },
      "source": [
        "#------------------------------------------Empty Rows Removal----------------------------------------------------------------\r\n",
        "# This function Will: 1- Remove all empty rows from csv file 2- Save data to the same csv\r\n",
        "def removeEmptyRows(fileName):\r\n",
        "    df = pd.read_csv(fileName, encoding='utf-8-sig')\r\n",
        "    df = df.dropna(subset=['text'], how='all', axis=0) \r\n",
        "    df.to_csv(fileName, header=True, encoding='utf-8-sig',  index=False)\r\n",
        "    \r\n",
        "    return df"
      ],
      "execution_count": null,
      "outputs": []
    },
    {
      "cell_type": "code",
      "metadata": {
        "id": "maLL7iTlgdnD"
      },
      "source": [
        "def tokenization (X):\r\n",
        "    tokenized_train_data = []\r\n",
        "    for item in range(len(X)):\r\n",
        "        var = word_tokenize(X[item])\r\n",
        "#         var.append(Y[item])\r\n",
        "        tokenized_train_data.append(var)\r\n",
        "        \r\n",
        "    return tokenized_train_data    "
      ],
      "execution_count": null,
      "outputs": []
    },
    {
      "cell_type": "code",
      "metadata": {
        "id": "eGSQ9LXvvDIw"
      },
      "source": [
        "X_and_Y = removeEmptyRows ('/content/drive/MyDrive/Final/train_temp.csv')\r\n",
        "# X_and_Y = removeEmptyRows ('/content/drive/MyDrive/Final/WightedTweets.csv')\r\n",
        "Y_train= X_and_Y.Label\r\n",
        "X_train = X_and_Y.text\r\n",
        "# X_train = X_and_Y.tweet\r\n",
        "# Y_train =  X_and_Y.Weight"
      ],
      "execution_count": null,
      "outputs": []
    },
    {
      "cell_type": "code",
      "metadata": {
        "id": "jBjjV7PIgkZO"
      },
      "source": [
        "list_x_and_y = tokenization (X_train) "
      ],
      "execution_count": null,
      "outputs": []
    },
    {
      "cell_type": "code",
      "metadata": {
        "id": "Hm7cL0elvDGf"
      },
      "source": [
        "# def preprocessing_for_bert(data):\r\n",
        "#   input_ids = []\r\n",
        "#   attention_masks = []\r\n",
        "#   for row in data:\r\n",
        "#     sents = tokenize.sent_tokenize(row)\r\n",
        "#     print(sents)\r\n",
        "#     for sent in sents:\r\n",
        "#       encoded_sent = tokenizer.encode_plus(text=sent,\r\n",
        "#                                           add_special_tokens=True,\r\n",
        "#                                           max_length=MAX_LEN,\r\n",
        "#                                           pad_to_max_length=True,\r\n",
        "#                                           return_attention_mask=True,\r\n",
        "#                                           truncation=True)\r\n",
        "#       input_ids.append(encoded_sent.get('input_ids'))\r\n",
        "#       attention_masks.append(encoded_sent.get('attention_mask'))\r\n",
        "#   # Convert lists to tensors\r\n",
        "#   input_ids = torch.tensor(input_ids)\r\n",
        "#   attention_masks = torch.tensor(attention_masks)\r\n",
        "\r\n",
        "#   return input_ids, attention_masks\r\n",
        "\r\n",
        "\r\n",
        "# tokens_tensor, segments_tensor = preprocessing_for_bert(X_train)"
      ],
      "execution_count": null,
      "outputs": []
    },
    {
      "cell_type": "code",
      "metadata": {
        "id": "i3WznH3oEPpc"
      },
      "source": [
        "#Loading the model\r\n",
        "\r\n",
        "# import os\r\n",
        "# checkpoint_path = \"/content/drive/MyDrive/Final/Bert1.ckpt\"\r\n",
        "# checkpoint_dir = os.path.dirname(checkpoint_path)\r\n",
        "# model = TFBertForSequenceClassification.from_pretrained('bert-base-multilingual-cased', num_labels = 2, output_hidden_states = True)\r\n",
        "# # model = model = BertModel.from_pretrained('bert-base-multilingual-cased', output_hidden_states = True)\r\n",
        "# optimizer = tf.keras.optimizers.Adam(learning_rate=2e-5, epsilon=1e-08, clipnorm=1.0)\r\n",
        "# loss = tf.keras.losses.SparseCategoricalCrossentropy(from_logits=True)\r\n",
        "# metric_accuracy = tf.keras.metrics.SparseCategoricalAccuracy('accuracy')\r\n",
        "\r\n"
      ],
      "execution_count": null,
      "outputs": []
    },
    {
      "cell_type": "code",
      "metadata": {
        "colab": {
          "base_uri": "https://localhost:8080/"
        },
        "id": "jpY4gMeU2Gha",
        "outputId": "afaf646b-aa91-4ca8-c67a-18c7393eae9e"
      },
      "source": [
        "##DONT REMOVE\r\n",
        "\r\n",
        "# model.compile(optimizer=optimizer, loss=loss, metrics=[ metric_accuracy])\r\n",
        "# latest = tf.train.latest_checkpoint(checkpoint_dir)\r\n",
        "# model.load_weights(latest)\r\n",
        "# model.load_weights(checkpoint_path)\r\n"
      ],
      "execution_count": null,
      "outputs": [
        {
          "output_type": "execute_result",
          "data": {
            "text/plain": [
              "<tensorflow.python.training.tracking.util.CheckpointLoadStatus at 0x7f5484f7c278>"
            ]
          },
          "metadata": {
            "tags": []
          },
          "execution_count": 15
        }
      ]
    },
    {
      "cell_type": "code",
      "metadata": {
        "colab": {
          "base_uri": "https://localhost:8080/",
          "height": 269,
          "referenced_widgets": [
            "0567d3dec34040a7bf72d8033e2fca38",
            "96df93b0d0f04e44ade5ccced112185d",
            "482bec48b19e4602a7eca2136551abba",
            "834b25ce588346edbc492b32a9602c1c",
            "10e23111a2ad4a8080c0b7ea77029b2c",
            "3ed3cf1915dc474f92eacf1420e4ace2",
            "ccf2f2cf3bc54fe2b93fbebc7683ab7e",
            "852f6184c2c94ce5bebc4ba9da51e1fd",
            "c9fb2e918663456fbe6e28e52f098511",
            "942469319182490abf4a58f9ecbfc20f",
            "70432012fb1949f1a03ce275bb7f9bb8",
            "a40bc114239b40878cfd84fcf3a27860",
            "0acd94476a4744c49ae972addf9fa75b",
            "4b8612fb1e5942a0b9bc3ff61760bf02",
            "8102843db4d24c50aa627df3a2fb1971",
            "161c2bb78d4546d381ba416f573192ac",
            "14ce95d822ca4521a560ca8925e14080",
            "b667d756109e4d50b592ae514c4af869",
            "43bbc6331884470f8c0aa78d7aaa18af",
            "7d2f5094e8f742079217eac6b091cf7c",
            "a448cefef60f423ab111d2998a3ca9d3",
            "1a1efba1b8ee47c18f5f00023d4eba5b",
            "ae1d1e9ee1a944e39463aeeefe6df97e",
            "9610bffd19e7465eb269bae46479e0b6",
            "ee33561dcd6d4b329d04e8cf9155f21d",
            "697992a1fb17409993006c30ffc6b82b",
            "2c43324b52334a06a40a24a7e0c89438",
            "1f8be67fba8444b093b1bcde147e5ef2",
            "699779222e634a32812b3a1013f27eeb",
            "efc320d578fa4bd288dbd31dc7b1b7c7",
            "e295b7d464c549f6ab532eb806b3bde8",
            "6cf3357040f84308ac60aa6af2875505"
          ]
        },
        "id": "8NcbgorkHD0r",
        "outputId": "04bca34d-59f6-4e96-b7c5-3ff5670eae08"
      },
      "source": [
        "\r\n",
        "\r\n",
        "\r\n",
        "model = SentenceTransformer('bert-base-multilingual-cased')\r\n",
        "# model = SentenceTransformer('distiluse-base-multilingual-cased-v2')\r\n"
      ],
      "execution_count": null,
      "outputs": [
        {
          "output_type": "stream",
          "text": [
            "Exception when trying to download https://sbert.net/models/bert-base-multilingual-cased.zip. Response 404\n",
            "SentenceTransformer-Model https://sbert.net/models/bert-base-multilingual-cased.zip not found. Try to create it from scratch\n",
            "Try to create Transformer Model bert-base-multilingual-cased with mean pooling\n"
          ],
          "name": "stderr"
        },
        {
          "output_type": "display_data",
          "data": {
            "application/vnd.jupyter.widget-view+json": {
              "model_id": "0567d3dec34040a7bf72d8033e2fca38",
              "version_minor": 0,
              "version_major": 2
            },
            "text/plain": [
              "HBox(children=(FloatProgress(value=0.0, description='Downloading', max=625.0, style=ProgressStyle(description_…"
            ]
          },
          "metadata": {
            "tags": []
          }
        },
        {
          "output_type": "stream",
          "text": [
            "\n"
          ],
          "name": "stdout"
        },
        {
          "output_type": "display_data",
          "data": {
            "application/vnd.jupyter.widget-view+json": {
              "model_id": "c9fb2e918663456fbe6e28e52f098511",
              "version_minor": 0,
              "version_major": 2
            },
            "text/plain": [
              "HBox(children=(FloatProgress(value=0.0, description='Downloading', max=714314041.0, style=ProgressStyle(descri…"
            ]
          },
          "metadata": {
            "tags": []
          }
        },
        {
          "output_type": "stream",
          "text": [
            "\n"
          ],
          "name": "stdout"
        },
        {
          "output_type": "display_data",
          "data": {
            "application/vnd.jupyter.widget-view+json": {
              "model_id": "14ce95d822ca4521a560ca8925e14080",
              "version_minor": 0,
              "version_major": 2
            },
            "text/plain": [
              "HBox(children=(FloatProgress(value=0.0, description='Downloading', max=995526.0, style=ProgressStyle(descripti…"
            ]
          },
          "metadata": {
            "tags": []
          }
        },
        {
          "output_type": "stream",
          "text": [
            "\n"
          ],
          "name": "stdout"
        },
        {
          "output_type": "display_data",
          "data": {
            "application/vnd.jupyter.widget-view+json": {
              "model_id": "ee33561dcd6d4b329d04e8cf9155f21d",
              "version_minor": 0,
              "version_major": 2
            },
            "text/plain": [
              "HBox(children=(FloatProgress(value=0.0, description='Downloading', max=1961828.0, style=ProgressStyle(descript…"
            ]
          },
          "metadata": {
            "tags": []
          }
        },
        {
          "output_type": "stream",
          "text": [
            "\n"
          ],
          "name": "stdout"
        }
      ]
    },
    {
      "cell_type": "code",
      "metadata": {
        "id": "-GkKIEciHDyV"
      },
      "source": [
        "#Source: https://github.com/UKPLab/sentence-transformers\r\n",
        "sentence_embeddings = model.encode(X_train)"
      ],
      "execution_count": null,
      "outputs": []
    },
    {
      "cell_type": "code",
      "metadata": {
        "id": "dxcgIt5afdOf"
      },
      "source": [
        "# num_cluster = 4\r\n",
        "# kmean=KMeans(n_clusters=num_cluster)\r\n",
        "# kmean.fit(sentence_embeddings)\r\n",
        "# labels = kmean.labels_\r\n",
        "# silhoute = metrics.silhouette_score(sentence_embeddings, labels, metric='euclidean')\r\n",
        "# print(\"silhouette_score is: \",silhoute)"
      ],
      "execution_count": null,
      "outputs": []
    },
    {
      "cell_type": "code",
      "metadata": {
        "id": "xerSbEdUfdL7"
      },
      "source": [
        "# centroids = kmean.cluster_centers_"
      ],
      "execution_count": null,
      "outputs": []
    },
    {
      "cell_type": "markdown",
      "metadata": {
        "id": "cL1x-H_KZxxa"
      },
      "source": [
        "# Confusion Matrix"
      ]
    },
    {
      "cell_type": "code",
      "metadata": {
        "id": "60g5PZQvnAkY"
      },
      "source": [
        "#this functon calculates cos theta between two vectors\r\n",
        "def similarity (vector_a, vector_b):\r\n",
        "  ma = np.linalg.norm(vector_a)\r\n",
        "  mb = np.linalg.norm(vector_b)\r\n",
        "  sim = (np.matmul(vector_a,vector_b))/(ma * mb)\r\n",
        "  return sim"
      ],
      "execution_count": null,
      "outputs": []
    },
    {
      "cell_type": "code",
      "metadata": {
        "id": "t1rh9X3gnAiF"
      },
      "source": [
        "centroid_matrix = np.zeros((num_cluster,num_cluster))"
      ],
      "execution_count": null,
      "outputs": []
    },
    {
      "cell_type": "code",
      "metadata": {
        "id": "gLwbNFtm3g8m"
      },
      "source": [
        "for i in range(num_cluster):\r\n",
        "  for j in range(num_cluster):\r\n",
        "    centroid_matrix[i][j] = similarity(centroids[i], centroids[j])"
      ],
      "execution_count": null,
      "outputs": []
    },
    {
      "cell_type": "code",
      "metadata": {
        "id": "kXdL2HYynAf2"
      },
      "source": [
        "print(centroid_matrix)"
      ],
      "execution_count": null,
      "outputs": []
    },
    {
      "cell_type": "code",
      "metadata": {
        "id": "JPw354ebnIEL"
      },
      "source": [
        "#Source: https://stackoverflow.com/questions/35572000/how-can-i-plot-a-confusion-matrix\r\n",
        "df_cm = pd.DataFrame(centroid_matrix, range(1,num_cluster+1), range(1,num_cluster+1))\r\n",
        "plt.figure(figsize = (10,7))\r\n",
        "# sn.color_palette(\"vlag\", as_cmap=True)\r\n",
        "plot = sn.heatmap(df_cm, annot=True, cmap=\"coolwarm\")\r\n",
        "plot.figure.savefig(\"/content/drive/MyDrive/Final/BERT_4.png\")"
      ],
      "execution_count": null,
      "outputs": []
    },
    {
      "cell_type": "code",
      "metadata": {
        "id": "Le29Wo-BOG9V"
      },
      "source": [
        "SSE = []\r\n",
        "SIL = []\r\n",
        "\r\n",
        "clusterList = [22, 70, 100,150,200,250,300,350,400,500,700,1000]\r\n",
        "for cluster in clusterList:\r\n",
        "    kmeans = KMeans(n_jobs = -1, n_clusters = cluster, init='k-means++')\r\n",
        "    kmeans.fit(sentence_embeddings,sample_weight=Y_train) #,sample_weight=Y\r\n",
        "    SSE.append(kmeans.inertia_)\r\n",
        "    labels = kmeans.labels_\r\n",
        "    SIL.append(metrics.silhouette_score(sentence_embeddings, labels, metric='euclidean'))\r\n",
        "    # clusterList.append(cluster)\r\n",
        "    print (cluster)\r\n"
      ],
      "execution_count": null,
      "outputs": []
    },
    {
      "cell_type": "code",
      "metadata": {
        "id": "DVuyVsEfRLLm"
      },
      "source": [
        "frame = pd.DataFrame({'Cluster':clusterList, 'SIL':SIL})\r\n",
        "plt.figure(figsize=(20,10))\r\n",
        "plt.plot(frame['Cluster'], frame['SIL'], marker='o')\r\n",
        "plt.xlabel('Number of clusters')\r\n",
        "plt.ylabel('silhouette_score')"
      ],
      "execution_count": null,
      "outputs": []
    },
    {
      "cell_type": "code",
      "metadata": {
        "id": "xrsHlWZ6VvgP"
      },
      "source": [
        "frame = pd.DataFrame({'Cluster':clusterList, 'SSE':SSE})\r\n",
        "plt.figure(figsize=(12,6))\r\n",
        "plt.plot(frame['Cluster'], frame['SSE'], marker='o')\r\n",
        "plt.xlabel('Number of clusters')\r\n",
        "plt.ylabel('Inertia')"
      ],
      "execution_count": null,
      "outputs": []
    },
    {
      "cell_type": "code",
      "metadata": {
        "id": "Oo0rqrPeOnWQ"
      },
      "source": [
        "kl = KneeLocator(clusterList, SSE, curve=\"convex\", direction=\"decreasing\")\r\n",
        "true_k = kl.elbow\r\n",
        "print (true_k)\r\n",
        "\r\n"
      ],
      "execution_count": null,
      "outputs": []
    },
    {
      "cell_type": "code",
      "metadata": {
        "id": "jNDSJnoqOp1Z"
      },
      "source": [
        "true_k=250\r\n",
        "kmean=KMeans(n_clusters=true_k)\r\n",
        "kmean.fit(sentence_embeddings) #, sample_weight = Y_train"
      ],
      "execution_count": null,
      "outputs": []
    },
    {
      "cell_type": "code",
      "metadata": {
        "id": "M1BMIOxUdeJ6"
      },
      "source": [
        "print(metrics.silhouette_score(sentence_embeddings, labels, metric='euclidean'))"
      ],
      "execution_count": null,
      "outputs": []
    },
    {
      "cell_type": "code",
      "metadata": {
        "id": "z7c7xXTTCQ1k"
      },
      "source": [
        "cluster_assignment = kmean.labels_\r\n"
      ],
      "execution_count": null,
      "outputs": []
    },
    {
      "cell_type": "code",
      "metadata": {
        "id": "firbp7ntfIq-"
      },
      "source": [
        ""
      ],
      "execution_count": null,
      "outputs": []
    },
    {
      "cell_type": "markdown",
      "metadata": {
        "id": "flx2Wu7xfLOu"
      },
      "source": [
        "##word cloud"
      ]
    },
    {
      "cell_type": "code",
      "metadata": {
        "id": "gRoGPXDCfIo1"
      },
      "source": [
        "#source: https://www.datacamp.com/community/tutorials/wordcloud-python\r\n",
        "#https://pypi.org/project/wordcloud-fa/\r\n",
        "def draw_cloudWord(text, fileName): #, frequencies\r\n",
        "\r\n",
        "  wordcloud = WordCloudFa(no_reshape=False,  include_numbers=False, collocations=False, width=800, height=400,background_color=\"white\")\r\n",
        "  wc = wordcloud.generate(text)\r\n",
        "  # frequencies = wordcloud.process_text(text)\r\n",
        "  # wc = wordcloud.generate_from_frequencies(frequencies)\r\n",
        "  image = wc.to_image()\r\n",
        "  image.show()\r\n",
        "  image.save('/content/drive/MyDrive/Final/cloudFolderBERT_250_1/'+fileName +\".png\")\r\n",
        "\r\n"
      ],
      "execution_count": null,
      "outputs": []
    },
    {
      "cell_type": "code",
      "metadata": {
        "id": "CVn-Vq9qfC0U"
      },
      "source": [
        "def writeToFile(word, weight,  fileName, lastFileName):\r\n",
        "    X_and_Y = pd.read_csv(fileName , encoding=\"utf-8\")\r\n",
        "    text = ''\r\n",
        "    counter = 0\r\n",
        "    for item in input_list:\r\n",
        "        for i in range(len(item)):\r\n",
        "            text += list(item)[i] + ' '\r\n",
        "        print(counter)    \r\n",
        "        X_and_Y.loc [counter, 'text'] = text.strip()\r\n",
        "        X_and_Y.to_csv(lastFileName ,index=False, encoding='utf-8-sig')\r\n",
        "        counter = counter + 1\r\n",
        "        text =''"
      ],
      "execution_count": null,
      "outputs": []
    },
    {
      "cell_type": "code",
      "metadata": {
        "id": "8KVNSLcyfCyf"
      },
      "source": [
        "# features = vectorizer.get_feature_names()\r\n",
        "file = pd.read_csv(\"/content/drive/MyDrive/Final/BERT_250.csv\" , encoding=\"utf-8\")\r\n",
        "file1 = pd.read_csv(\"/content/drive/MyDrive/Final/tweets_cluster_250_BERT.csv\" , encoding=\"utf-8\")\r\n",
        "counter = 0\r\n",
        "counter1 = 0\r\n",
        "content = \"\"\r\n",
        "\r\n",
        "#each row == each tweet\r\n",
        "distances = kmean.transform(X=sentence_embeddings)\r\n",
        "print(distances.shape)\r\n",
        "centroids = kmean.cluster_centers_\r\n",
        "text = \"\"\r\n",
        "# weights = np.abs(centroids)\r\n",
        "for i in range(kmean.n_clusters):\r\n",
        "  print(\"Cluster %d:\" % i)\r\n",
        "  file.loc [counter, 'Cluster'] = \"Cluster %d:\" % i\r\n",
        "  file1.loc [counter1, 'Cluster'] = \"Cluster %d:\" % i\r\n",
        "  top5 = np.argsort(distances[:, i])[0:49] \r\n",
        "\r\n",
        "  for j in top5:\r\n",
        "    print(j)\r\n",
        "    index = list_x_and_y[j]\r\n",
        "    \r\n",
        "    \r\n",
        "\r\n",
        "    for word in range(len(index)):\r\n",
        "      \r\n",
        "      text +=index[word].strip() +\" \"\r\n",
        "      content  +=index[word].strip() +\" \"\r\n",
        " \r\n",
        "      print(\"Word: \"+ index[word] + \" distance: \"+ str(distances[j][i] ))\r\n",
        "      counter = counter + 1\r\n",
        "      file.loc [counter, 'Word'] = index[word]\r\n",
        "      file.loc [counter, 'Weight'] = distances[j][i]\r\n",
        "    \r\n",
        "    \r\n",
        "    text =  text.replace(\"gt\", \"\")\r\n",
        "    counter1 = counter1 +1\r\n",
        "    file1.loc [counter1, 'tweet'] = content\r\n",
        "    file1.to_csv(\"/content/drive/MyDrive/Final/tweets_cluster_250_BERT.csv\" ,index=False, encoding='utf-8-sig')\r\n",
        "    print(text)\r\n",
        "    content = \"\"\r\n",
        "  draw_cloudWord(text, \"cloud_tfidf_\"+str(i)) #,Y[i]\r\n",
        "  file.to_csv(\"/content/drive/MyDrive/Final/BERT_250.csv\" ,index=False, encoding='utf-8-sig')\r\n",
        "  text = \"\""
      ],
      "execution_count": null,
      "outputs": []
    },
    {
      "cell_type": "code",
      "metadata": {
        "id": "siDlJYyiCQzT"
      },
      "source": [
        "#https://theaidigest.in/how-to-cluster-text-documents-using-bert/\r\n",
        "clustered_sentences = [[] for i in range(true_k)]\r\n",
        "counter = 0\r\n",
        "for sentence_id, cluster_id in enumerate(cluster_assignment):\r\n",
        "    if(len(clustered_sentences[cluster_id])<=10):\r\n",
        "      clustered_sentences[cluster_id].append(X_train[sentence_id])\r\n"
      ],
      "execution_count": null,
      "outputs": []
    },
    {
      "cell_type": "code",
      "metadata": {
        "id": "hBkjN2OcCQwx"
      },
      "source": [
        "\r\n",
        "for i, cluster in enumerate(clustered_sentences):\r\n",
        "      print(\"Cluster \", i+1)\r\n",
        "      print(cluster)\r\n",
        "      print(\"\")\r\n",
        "      "
      ],
      "execution_count": null,
      "outputs": []
    },
    {
      "cell_type": "code",
      "metadata": {
        "id": "OzpL4sp3V6zc"
      },
      "source": [
        "silhouette_score = metrics.silhouette_score(sentence_embeddings, cluster_assignment, metric='euclidean')\r\n",
        "  \r\n",
        "print (\"Silhouette_score: \")\r\n",
        "print (silhouette_score)"
      ],
      "execution_count": null,
      "outputs": []
    },
    {
      "cell_type": "code",
      "metadata": {
        "id": "2T9_vR1R3SbF"
      },
      "source": [
        "#https://www.w3resource.com/python-exercises/list/python-data-type-list-exercise-30.php\r\n",
        "import collections"
      ],
      "execution_count": null,
      "outputs": []
    },
    {
      "cell_type": "code",
      "metadata": {
        "id": "PK7GBYBX3SYl"
      },
      "source": [
        "my_list = kmean.predict(X=sentence_embeddings)\r\n",
        "ctr = collections.Counter(my_list)"
      ],
      "execution_count": null,
      "outputs": []
    },
    {
      "cell_type": "code",
      "metadata": {
        "id": "F2y3DVFDYJLe"
      },
      "source": [
        ""
      ],
      "execution_count": null,
      "outputs": []
    },
    {
      "cell_type": "code",
      "metadata": {
        "id": "W4uMuab-YJGS"
      },
      "source": [
        "dict(sorted(ctr.items(), key=lambda item: item[0]))"
      ],
      "execution_count": null,
      "outputs": []
    },
    {
      "cell_type": "code",
      "metadata": {
        "id": "qh2zaw2PXv1T"
      },
      "source": [
        "print(ctr)"
      ],
      "execution_count": null,
      "outputs": []
    },
    {
      "cell_type": "code",
      "metadata": {
        "id": "4NRcwoDz4Go2"
      },
      "source": [
        "for i in range(len(ctr)):\r\n",
        "  print (i ,ctr[i] )"
      ],
      "execution_count": null,
      "outputs": []
    }
  ]
}