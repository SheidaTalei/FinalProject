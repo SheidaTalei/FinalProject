{
  "nbformat": 4,
  "nbformat_minor": 0,
  "metadata": {
    "accelerator": "GPU",
    "colab": {
      "name": "SheidaTalei_LSTM_FinalProject.ipynb",
      "provenance": [],
      "collapsed_sections": [],
      "include_colab_link": true
    },
    "kernelspec": {
      "display_name": "Python 3",
      "language": "python",
      "name": "python3"
    },
    "language_info": {
      "codemirror_mode": {
        "name": "ipython",
        "version": 3
      },
      "file_extension": ".py",
      "mimetype": "text/x-python",
      "name": "python",
      "nbconvert_exporter": "python",
      "pygments_lexer": "ipython3",
      "version": "3.8.5"
    }
  },
  "cells": [
    {
      "cell_type": "markdown",
      "metadata": {
        "id": "view-in-github",
        "colab_type": "text"
      },
      "source": [
        "<a href=\"https://colab.research.google.com/github/SheidaTalei/FinalProject/blob/main/SheidaTalei_LSTM_FinalProject.ipynb\" target=\"_parent\"><img src=\"https://colab.research.google.com/assets/colab-badge.svg\" alt=\"Open In Colab\"/></a>"
      ]
    },
    {
      "cell_type": "code",
      "metadata": {
        "colab": {
          "base_uri": "https://localhost:8080/"
        },
        "id": "Aphu-A5aCfZ8",
        "outputId": "19670c49-3938-4410-d417-a4a224e43951"
      },
      "source": [
        "from google.colab import drive\n",
        "drive.mount('/content/drive')"
      ],
      "execution_count": 1,
      "outputs": [
        {
          "output_type": "stream",
          "text": [
            "Mounted at /content/drive\n"
          ],
          "name": "stdout"
        }
      ]
    },
    {
      "cell_type": "code",
      "metadata": {
        "id": "9yv90hltCOCz"
      },
      "source": [
        "import numpy as np\n",
        "import pandas as pd\n",
        "from sklearn.feature_extraction.text import TfidfVectorizer\n",
        "#Convert a collection of raw documents to a matrix of TF-IDF features.\n",
        "from sklearn.model_selection import train_test_split\n",
        "from sklearn.metrics import accuracy_score\n",
        "import regex\n",
        "import tensorflow as tf\n",
        "from tensorflow import keras\n",
        "from tensorflow.keras import layers\n",
        "\n",
        "import re\n",
        "import string"
      ],
      "execution_count": 2,
      "outputs": []
    },
    {
      "cell_type": "code",
      "metadata": {
        "id": "rzzSJswNBZMU"
      },
      "source": [
        "from tensorflow.keras.preprocessing.text import Tokenizer\n",
        "from tensorflow.keras.preprocessing.sequence import pad_sequences\n",
        "from keras.models import Sequential\n",
        "from keras.models import Sequential\n",
        "from keras.layers import Dense\n",
        "from keras.layers import LSTM\n",
        "from keras.layers import Dropout\n",
        "from keras.layers import Embedding\n",
        "from keras.layers import MaxPooling1D\n",
        "from keras.layers import Conv1D\n",
        "\n",
        "\n",
        "from keras.wrappers.scikit_learn import KerasRegressor\n",
        "from sklearn.pipeline import Pipeline\n",
        "from sklearn.model_selection import GridSearchCV\n",
        "from keras.wrappers.scikit_learn import KerasClassifier\n",
        "\n",
        "from sklearn.utils import class_weight\n",
        "\n",
        "from sklearn.metrics import accuracy_score\n",
        "from sklearn.metrics import f1_score\n",
        "from sklearn.metrics import roc_auc_score\n",
        "\n",
        "from sklearn.metrics import  auc"
      ],
      "execution_count": 3,
      "outputs": []
    },
    {
      "cell_type": "code",
      "metadata": {
        "id": "op2BCxa7DQo_"
      },
      "source": [
        "#------------------------------------------Empty Rows Removal----------------------------------------------------------------\n",
        "# This function Will: 1- Remove all empty rows from csv file 2- Save data to the same csv\n",
        "def removeEmptyRows(fileName):\n",
        "    df = pd.read_csv(fileName, encoding='utf-8-sig')\n",
        "    df = df.dropna(subset=['text'], how='all', axis=0) \n",
        "    df.to_csv(fileName, header=True, encoding='utf-8-sig',  index=False)\n",
        "    \n",
        "    return df"
      ],
      "execution_count": 4,
      "outputs": []
    },
    {
      "cell_type": "code",
      "metadata": {
        "id": "MvHKT874KjUQ"
      },
      "source": [
        "df1= removeEmptyRows ('/content/drive/MyDrive/Final/Prepared_Data_1_Labeled.csv')\r\n",
        "df2 =  removeEmptyRows ('/content/drive/MyDrive/Final/Prepared_train_Data_test#1.csv')"
      ],
      "execution_count": 5,
      "outputs": []
    },
    {
      "cell_type": "code",
      "metadata": {
        "id": "QxtbupMfSwTX"
      },
      "source": [
        "X_and_Y =pd.concat([df1, df2], ignore_index=True, names=['tweeter_handle', 'text', 'Label', 'statues_count' ])"
      ],
      "execution_count": 28,
      "outputs": []
    },
    {
      "cell_type": "code",
      "metadata": {
        "id": "TPWDrM3PSjhY"
      },
      "source": [
        "train_data, test_data = train_test_split(X_and_Y, test_size=0.2)"
      ],
      "execution_count": 29,
      "outputs": []
    },
    {
      "cell_type": "code",
      "metadata": {
        "id": "vbkTBwewpruI"
      },
      "source": [
        "# X_and_Y =pd.concat([df1, df2], ignore_index=True, names=['tweeter_handle', 'text', 'Label', 'statues_count' ])\n",
        "\n",
        "Y= train_data.Label\n",
        "X = train_data.text"
      ],
      "execution_count": 30,
      "outputs": []
    },
    {
      "cell_type": "code",
      "metadata": {
        "id": "KlCKP5_5prmZ"
      },
      "source": [
        "X_and_Y_test = removeEmptyRows('/content/drive/MyDrive/Final/Prepared_test_Data_test#1.csv') #Prepared_test_Data_00 \n",
        "Y_test= test_data.Label\n",
        "X_test = test_data.text"
      ],
      "execution_count": 31,
      "outputs": []
    },
    {
      "cell_type": "code",
      "metadata": {
        "id": "zHs3klBg10FN"
      },
      "source": [
        "#This part helps for handeling imbalanced data\n",
        "count_0 = 0\n",
        "count_1 = 0\n",
        "\n",
        "for i in Y:\n",
        "    if (i==0):\n",
        "        count_0 = count_0+1\n",
        "    else:\n",
        "        count_1 = count_1 + 1\n",
        "        "
      ],
      "execution_count": 32,
      "outputs": []
    },
    {
      "cell_type": "code",
      "metadata": {
        "id": "j1SDb_x0qGUQ"
      },
      "source": [
        "p = count_0 / (count_0 + count_1)"
      ],
      "execution_count": 33,
      "outputs": []
    },
    {
      "cell_type": "code",
      "metadata": {
        "colab": {
          "base_uri": "https://localhost:8080/"
        },
        "id": "EI8yA4fSozq5",
        "outputId": "da0408b0-25ef-4261-e6a9-f952f824dcd5"
      },
      "source": [
        "print (\"count_0: \",count_0 )\n",
        "print (\"count_1: \",count_1 )"
      ],
      "execution_count": 34,
      "outputs": [
        {
          "output_type": "stream",
          "text": [
            "count_0:  20709\n",
            "count_1:  21105\n"
          ],
          "name": "stdout"
        }
      ]
    },
    {
      "cell_type": "code",
      "metadata": {
        "id": "JwL9hZ08fSbe"
      },
      "source": [
        "from keras import backend as K\n",
        "\n",
        "def recall_m(y_true, y_pred):\n",
        "    true_positives = K.sum(K.round(K.clip(y_true * y_pred, 0, 1)))\n",
        "    possible_positives = K.sum(K.round(K.clip(y_true, 0, 1)))\n",
        "    recall = true_positives / (possible_positives + K.epsilon())\n",
        "    return recall\n",
        "\n",
        "def precision_m(y_true, y_pred):\n",
        "    true_positives = K.sum(K.round(K.clip(y_true * y_pred, 0, 1)))\n",
        "    predicted_positives = K.sum(K.round(K.clip(y_pred, 0, 1)))\n",
        "    precision = true_positives / (predicted_positives + K.epsilon())\n",
        "    return precision\n",
        "\n",
        "def f1_m(y_true, y_pred):\n",
        "    precision = precision_m(y_true, y_pred)\n",
        "    recall = recall_m(y_true, y_pred)\n",
        "    return 2*((precision*recall)/(precision+recall+K.epsilon()))"
      ],
      "execution_count": 35,
      "outputs": []
    },
    {
      "cell_type": "code",
      "metadata": {
        "id": "tEhEElBKBZNC"
      },
      "source": [
        "#converting words to vectors\n",
        "max_len = 150 #120\n",
        "tokenizer = Tokenizer(num_words = max_len, lower = True, split = ' ')\n",
        "tokenizer.fit_on_texts(X )\n",
        "\n",
        "\n",
        "X = tokenizer.texts_to_sequences(X)\n",
        "\n",
        "#pad sequence is used to ensure that all sequences in a list have the same length.\n",
        "X_ready = pad_sequences(sequences = X, maxlen = max_len, padding = 'pre')"
      ],
      "execution_count": 36,
      "outputs": []
    },
    {
      "cell_type": "code",
      "metadata": {
        "id": "4c4XDKwhBZNH"
      },
      "source": [
        "\n",
        "def createLstmModel(units = 200, dropout = 0.5  ):\n",
        "    \n",
        "    \n",
        "   #https://www.tensorflow.org/tutorials/text/text_classification_rnn\n",
        "        \n",
        "    #Adding Layers\n",
        "    model = Sequential()\n",
        "    model.add(Embedding(5000 , 128 ))#max_feature = 5000 , embedding_dimention = 128\n",
        "\n",
        "    model.add(Conv1D(filters=32, kernel_size=3, padding='same', activation='relu'))\n",
        "    model.add(MaxPooling1D(pool_size=2))  \n",
        "   \n",
        "    # model.add(LSTM(units = units , dropout = 0.2, return_sequences=True ))\n",
        "    # model.add(Dense(units = units, activation=\"relu\"))\n",
        "    # model.add(Dropout(rate = dropout))\n",
        "\n",
        "\n",
        "  \n",
        "    model.add(LSTM(units = units , dropout = 0.2))\n",
        "    model.add(Dense(units = units, activation=\"relu\"))\n",
        "    model.add(Dropout(rate = dropout))\n",
        "\n",
        "    model.add(Dense(units = 1 ,activation=\"sigmoid\"))\n",
        "    model.compile(optimizer='rmsprop', loss='binary_crossentropy', metrics=[f1_m ,tf.keras.metrics.AUC(), 'accuracy'])\n",
        "    \n",
        "    # model.fit(X, Y, batch_size = 150, class_weight = {0: 1/66639, 1: 1/(1- (1/66639))})\n",
        "#     model.summary()\n",
        "    return model\n"
      ],
      "execution_count": 37,
      "outputs": []
    },
    {
      "cell_type": "code",
      "metadata": {
        "id": "M0Slag_sPaFK"
      },
      "source": [
        ""
      ],
      "execution_count": 37,
      "outputs": []
    },
    {
      "cell_type": "code",
      "metadata": {
        "id": "qzMWk1lx21Mh"
      },
      "source": [
        "#source: https://colab.research.google.com/github/tensorflow/docs/blob/master/site/en/tutorials/keras/save_and_load.ipynb#scrollTo=IFPuhwntH8VH\n",
        "import os\n",
        "checkpoint_path = \"/content/drive/MyDrive/Final/lstm.ckpt\"\n",
        "checkpoint_dir = os.path.dirname(checkpoint_path)\n",
        "\n",
        "# Create a callback that saves the model's weights\n",
        "cp_callback = tf.keras.callbacks.ModelCheckpoint(filepath=checkpoint_path,save_weights_only=True,verbose=1)"
      ],
      "execution_count": 38,
      "outputs": []
    },
    {
      "cell_type": "code",
      "metadata": {
        "id": "lK2B8Uf7STHe"
      },
      "source": [
        "# print(type(X_ready))"
      ],
      "execution_count": 39,
      "outputs": []
    },
    {
      "cell_type": "code",
      "metadata": {
        "colab": {
          "base_uri": "https://localhost:8080/"
        },
        "id": "tFg3w9kRBZNN",
        "outputId": "a2594537-83b2-49ff-a31a-c7f0e2a9d97b"
      },
      "source": [
        "# Fit LSTM model\n",
        "#source: https://apmonitor.com/do/index.php/Main/LSTMNetwork\n",
        "\n",
        "# history = model.fit(X_ready, Y , epochs = 2, batch_size = 150, class_weight = {0: 1/66639, 1: 1/(1-66639)})\n",
        "\n",
        "#400\n",
        "model = createLstmModel()\n",
        "history = model.fit(X_ready, \n",
        "          Y,  \n",
        "          epochs=100,\n",
        "          batch_size = 150,\n",
        "          callbacks=[cp_callback], class_weight = {0: 1/p, 1: 1/(1-p)} , validation_split = 0.3) \n",
        "# plt.figure()\n",
        "# plt.ylabel('loss'); plt.xlabel('epoch')\n",
        "# plt.semilogy(history.history['loss'])"
      ],
      "execution_count": 40,
      "outputs": [
        {
          "output_type": "stream",
          "text": [
            "Epoch 1/100\n",
            "196/196 [==============================] - 7s 26ms/step - loss: 1.3364 - f1_m: 0.5128 - auc_2: 0.6008 - accuracy: 0.5663 - val_loss: 0.6205 - val_f1_m: 0.6018 - val_auc_2: 0.7109 - val_accuracy: 0.6459\n",
            "\n",
            "Epoch 00001: saving model to /content/drive/MyDrive/Final/lstm.ckpt\n",
            "Epoch 2/100\n",
            "196/196 [==============================] - 4s 22ms/step - loss: 1.2939 - f1_m: 0.6396 - auc_2: 0.7003 - accuracy: 0.6361 - val_loss: 0.6297 - val_f1_m: 0.6975 - val_auc_2: 0.7208 - val_accuracy: 0.6379\n",
            "\n",
            "Epoch 00002: saving model to /content/drive/MyDrive/Final/lstm.ckpt\n",
            "Epoch 3/100\n",
            "196/196 [==============================] - 4s 22ms/step - loss: 1.2640 - f1_m: 0.6785 - auc_2: 0.7250 - accuracy: 0.6576 - val_loss: 0.5887 - val_f1_m: 0.6358 - val_auc_2: 0.7495 - val_accuracy: 0.6713\n",
            "\n",
            "Epoch 00003: saving model to /content/drive/MyDrive/Final/lstm.ckpt\n",
            "Epoch 4/100\n",
            "196/196 [==============================] - 4s 22ms/step - loss: 1.1528 - f1_m: 0.6812 - auc_2: 0.7571 - accuracy: 0.6818 - val_loss: 0.5735 - val_f1_m: 0.7103 - val_auc_2: 0.7613 - val_accuracy: 0.6795\n",
            "\n",
            "Epoch 00004: saving model to /content/drive/MyDrive/Final/lstm.ckpt\n",
            "Epoch 5/100\n",
            "196/196 [==============================] - 4s 22ms/step - loss: 1.1787 - f1_m: 0.7108 - auc_2: 0.7721 - accuracy: 0.6957 - val_loss: 0.5784 - val_f1_m: 0.7196 - val_auc_2: 0.7671 - val_accuracy: 0.6789\n",
            "\n",
            "Epoch 00005: saving model to /content/drive/MyDrive/Final/lstm.ckpt\n",
            "Epoch 6/100\n",
            "196/196 [==============================] - 4s 22ms/step - loss: 1.0852 - f1_m: 0.7247 - auc_2: 0.7913 - accuracy: 0.7083 - val_loss: 0.5675 - val_f1_m: 0.7194 - val_auc_2: 0.7758 - val_accuracy: 0.6885\n",
            "\n",
            "Epoch 00006: saving model to /content/drive/MyDrive/Final/lstm.ckpt\n",
            "Epoch 7/100\n",
            "196/196 [==============================] - 4s 22ms/step - loss: 1.0592 - f1_m: 0.7319 - auc_2: 0.8046 - accuracy: 0.7176 - val_loss: 0.5757 - val_f1_m: 0.6532 - val_auc_2: 0.7789 - val_accuracy: 0.6921\n",
            "\n",
            "Epoch 00007: saving model to /content/drive/MyDrive/Final/lstm.ckpt\n",
            "Epoch 8/100\n",
            "196/196 [==============================] - 4s 22ms/step - loss: 1.0398 - f1_m: 0.7342 - auc_2: 0.8121 - accuracy: 0.7244 - val_loss: 0.5577 - val_f1_m: 0.7197 - val_auc_2: 0.7797 - val_accuracy: 0.6932\n",
            "\n",
            "Epoch 00008: saving model to /content/drive/MyDrive/Final/lstm.ckpt\n",
            "Epoch 9/100\n",
            "196/196 [==============================] - 4s 22ms/step - loss: 1.0060 - f1_m: 0.7536 - auc_2: 0.8266 - accuracy: 0.7381 - val_loss: 0.5712 - val_f1_m: 0.7289 - val_auc_2: 0.7806 - val_accuracy: 0.6874\n",
            "\n",
            "Epoch 00009: saving model to /content/drive/MyDrive/Final/lstm.ckpt\n",
            "Epoch 10/100\n",
            "196/196 [==============================] - 4s 23ms/step - loss: 0.9922 - f1_m: 0.7510 - auc_2: 0.8304 - accuracy: 0.7391 - val_loss: 0.5497 - val_f1_m: 0.6948 - val_auc_2: 0.7880 - val_accuracy: 0.6983\n",
            "\n",
            "Epoch 00010: saving model to /content/drive/MyDrive/Final/lstm.ckpt\n",
            "Epoch 11/100\n",
            "196/196 [==============================] - 4s 22ms/step - loss: 0.9717 - f1_m: 0.7521 - auc_2: 0.8389 - accuracy: 0.7451 - val_loss: 0.5555 - val_f1_m: 0.7328 - val_auc_2: 0.7907 - val_accuracy: 0.7026\n",
            "\n",
            "Epoch 00011: saving model to /content/drive/MyDrive/Final/lstm.ckpt\n",
            "Epoch 12/100\n",
            "196/196 [==============================] - 4s 22ms/step - loss: 0.9705 - f1_m: 0.7537 - auc_2: 0.8382 - accuracy: 0.7424 - val_loss: 0.5705 - val_f1_m: 0.6699 - val_auc_2: 0.7882 - val_accuracy: 0.6925\n",
            "\n",
            "Epoch 00012: saving model to /content/drive/MyDrive/Final/lstm.ckpt\n",
            "Epoch 13/100\n",
            "196/196 [==============================] - 4s 22ms/step - loss: 0.9605 - f1_m: 0.7564 - auc_2: 0.8430 - accuracy: 0.7466 - val_loss: 0.5500 - val_f1_m: 0.7108 - val_auc_2: 0.7949 - val_accuracy: 0.7071\n",
            "\n",
            "Epoch 00013: saving model to /content/drive/MyDrive/Final/lstm.ckpt\n",
            "Epoch 14/100\n",
            "196/196 [==============================] - 4s 22ms/step - loss: 0.9512 - f1_m: 0.7656 - auc_2: 0.8461 - accuracy: 0.7532 - val_loss: 0.5482 - val_f1_m: 0.7205 - val_auc_2: 0.7984 - val_accuracy: 0.7098\n",
            "\n",
            "Epoch 00014: saving model to /content/drive/MyDrive/Final/lstm.ckpt\n",
            "Epoch 15/100\n",
            "196/196 [==============================] - 4s 22ms/step - loss: 0.9285 - f1_m: 0.7698 - auc_2: 0.8544 - accuracy: 0.7587 - val_loss: 0.5509 - val_f1_m: 0.6799 - val_auc_2: 0.8010 - val_accuracy: 0.7116\n",
            "\n",
            "Epoch 00015: saving model to /content/drive/MyDrive/Final/lstm.ckpt\n",
            "Epoch 16/100\n",
            "196/196 [==============================] - 4s 22ms/step - loss: 0.9300 - f1_m: 0.7652 - auc_2: 0.8538 - accuracy: 0.7586 - val_loss: 0.5541 - val_f1_m: 0.7369 - val_auc_2: 0.7978 - val_accuracy: 0.7107\n",
            "\n",
            "Epoch 00016: saving model to /content/drive/MyDrive/Final/lstm.ckpt\n",
            "Epoch 17/100\n",
            "196/196 [==============================] - 4s 22ms/step - loss: 0.9182 - f1_m: 0.7694 - auc_2: 0.8579 - accuracy: 0.7598 - val_loss: 0.5466 - val_f1_m: 0.7278 - val_auc_2: 0.8039 - val_accuracy: 0.7145\n",
            "\n",
            "Epoch 00017: saving model to /content/drive/MyDrive/Final/lstm.ckpt\n",
            "Epoch 18/100\n",
            "196/196 [==============================] - 4s 22ms/step - loss: 0.9070 - f1_m: 0.7722 - auc_2: 0.8606 - accuracy: 0.7625 - val_loss: 0.5472 - val_f1_m: 0.7031 - val_auc_2: 0.8011 - val_accuracy: 0.7145\n",
            "\n",
            "Epoch 00018: saving model to /content/drive/MyDrive/Final/lstm.ckpt\n",
            "Epoch 19/100\n",
            "196/196 [==============================] - 4s 22ms/step - loss: 0.9254 - f1_m: 0.7727 - auc_2: 0.8636 - accuracy: 0.7651 - val_loss: 0.5449 - val_f1_m: 0.6959 - val_auc_2: 0.8042 - val_accuracy: 0.7182\n",
            "\n",
            "Epoch 00019: saving model to /content/drive/MyDrive/Final/lstm.ckpt\n",
            "Epoch 20/100\n",
            "196/196 [==============================] - 4s 22ms/step - loss: 0.9233 - f1_m: 0.7740 - auc_2: 0.8594 - accuracy: 0.7636 - val_loss: 0.5467 - val_f1_m: 0.7263 - val_auc_2: 0.8023 - val_accuracy: 0.7140\n",
            "\n",
            "Epoch 00020: saving model to /content/drive/MyDrive/Final/lstm.ckpt\n",
            "Epoch 21/100\n",
            "196/196 [==============================] - 4s 22ms/step - loss: 0.8850 - f1_m: 0.7750 - auc_2: 0.8685 - accuracy: 0.7671 - val_loss: 0.5573 - val_f1_m: 0.7341 - val_auc_2: 0.8003 - val_accuracy: 0.7148\n",
            "\n",
            "Epoch 00021: saving model to /content/drive/MyDrive/Final/lstm.ckpt\n",
            "Epoch 22/100\n",
            "196/196 [==============================] - 4s 22ms/step - loss: 0.8761 - f1_m: 0.7772 - auc_2: 0.8715 - accuracy: 0.7713 - val_loss: 0.5592 - val_f1_m: 0.7265 - val_auc_2: 0.8038 - val_accuracy: 0.7138\n",
            "\n",
            "Epoch 00022: saving model to /content/drive/MyDrive/Final/lstm.ckpt\n",
            "Epoch 23/100\n",
            "196/196 [==============================] - 4s 22ms/step - loss: 0.8806 - f1_m: 0.7831 - auc_2: 0.8706 - accuracy: 0.7741 - val_loss: 0.5816 - val_f1_m: 0.7407 - val_auc_2: 0.8001 - val_accuracy: 0.7114\n",
            "\n",
            "Epoch 00023: saving model to /content/drive/MyDrive/Final/lstm.ckpt\n",
            "Epoch 24/100\n",
            "196/196 [==============================] - 4s 22ms/step - loss: 0.8762 - f1_m: 0.7761 - auc_2: 0.8718 - accuracy: 0.7717 - val_loss: 0.5497 - val_f1_m: 0.7131 - val_auc_2: 0.8045 - val_accuracy: 0.7134\n",
            "\n",
            "Epoch 00024: saving model to /content/drive/MyDrive/Final/lstm.ckpt\n",
            "Epoch 25/100\n",
            "196/196 [==============================] - 4s 22ms/step - loss: 0.8709 - f1_m: 0.7798 - auc_2: 0.8725 - accuracy: 0.7723 - val_loss: 0.5500 - val_f1_m: 0.7160 - val_auc_2: 0.8042 - val_accuracy: 0.7164\n",
            "\n",
            "Epoch 00025: saving model to /content/drive/MyDrive/Final/lstm.ckpt\n",
            "Epoch 26/100\n",
            "196/196 [==============================] - 4s 22ms/step - loss: 0.8434 - f1_m: 0.7914 - auc_2: 0.8793 - accuracy: 0.7773 - val_loss: 0.5749 - val_f1_m: 0.7414 - val_auc_2: 0.8035 - val_accuracy: 0.7148\n",
            "\n",
            "Epoch 00026: saving model to /content/drive/MyDrive/Final/lstm.ckpt\n",
            "Epoch 27/100\n",
            "196/196 [==============================] - 4s 22ms/step - loss: 0.8646 - f1_m: 0.7842 - auc_2: 0.8757 - accuracy: 0.7777 - val_loss: 0.5650 - val_f1_m: 0.7415 - val_auc_2: 0.8079 - val_accuracy: 0.7156\n",
            "\n",
            "Epoch 00027: saving model to /content/drive/MyDrive/Final/lstm.ckpt\n",
            "Epoch 28/100\n",
            "196/196 [==============================] - 4s 22ms/step - loss: 0.8563 - f1_m: 0.7846 - auc_2: 0.8765 - accuracy: 0.7764 - val_loss: 0.5430 - val_f1_m: 0.7271 - val_auc_2: 0.8114 - val_accuracy: 0.7236\n",
            "\n",
            "Epoch 00028: saving model to /content/drive/MyDrive/Final/lstm.ckpt\n",
            "Epoch 29/100\n",
            "196/196 [==============================] - 4s 22ms/step - loss: 0.8482 - f1_m: 0.7903 - auc_2: 0.8790 - accuracy: 0.7799 - val_loss: 0.5625 - val_f1_m: 0.6777 - val_auc_2: 0.8064 - val_accuracy: 0.7129\n",
            "\n",
            "Epoch 00029: saving model to /content/drive/MyDrive/Final/lstm.ckpt\n",
            "Epoch 30/100\n",
            "196/196 [==============================] - 4s 22ms/step - loss: 1.0853 - f1_m: 0.7658 - auc_2: 0.8696 - accuracy: 0.7743 - val_loss: 0.5599 - val_f1_m: 0.7298 - val_auc_2: 0.8079 - val_accuracy: 0.7169\n",
            "\n",
            "Epoch 00030: saving model to /content/drive/MyDrive/Final/lstm.ckpt\n",
            "Epoch 31/100\n",
            "196/196 [==============================] - 4s 22ms/step - loss: 0.8437 - f1_m: 0.7930 - auc_2: 0.8823 - accuracy: 0.7822 - val_loss: 0.5563 - val_f1_m: 0.7333 - val_auc_2: 0.8078 - val_accuracy: 0.7199\n",
            "\n",
            "Epoch 00031: saving model to /content/drive/MyDrive/Final/lstm.ckpt\n",
            "Epoch 32/100\n",
            "196/196 [==============================] - 4s 22ms/step - loss: 0.8434 - f1_m: 0.7962 - auc_2: 0.8827 - accuracy: 0.7846 - val_loss: 1.3803 - val_f1_m: 0.6698 - val_auc_2: 0.7910 - val_accuracy: 0.5111\n",
            "\n",
            "Epoch 00032: saving model to /content/drive/MyDrive/Final/lstm.ckpt\n",
            "Epoch 33/100\n",
            "196/196 [==============================] - 4s 22ms/step - loss: 1.1565 - f1_m: 0.7211 - auc_2: 0.7967 - accuracy: 0.7135 - val_loss: 0.5595 - val_f1_m: 0.7357 - val_auc_2: 0.8109 - val_accuracy: 0.7220\n",
            "\n",
            "Epoch 00033: saving model to /content/drive/MyDrive/Final/lstm.ckpt\n",
            "Epoch 34/100\n",
            "196/196 [==============================] - 4s 22ms/step - loss: 0.8206 - f1_m: 0.7991 - auc_2: 0.8867 - accuracy: 0.7887 - val_loss: 0.5560 - val_f1_m: 0.7155 - val_auc_2: 0.8073 - val_accuracy: 0.7191\n",
            "\n",
            "Epoch 00034: saving model to /content/drive/MyDrive/Final/lstm.ckpt\n",
            "Epoch 35/100\n",
            "196/196 [==============================] - 4s 22ms/step - loss: 0.8213 - f1_m: 0.7943 - auc_2: 0.8871 - accuracy: 0.7878 - val_loss: 0.5693 - val_f1_m: 0.7188 - val_auc_2: 0.8085 - val_accuracy: 0.7192\n",
            "\n",
            "Epoch 00035: saving model to /content/drive/MyDrive/Final/lstm.ckpt\n",
            "Epoch 36/100\n",
            "196/196 [==============================] - 4s 22ms/step - loss: 0.8193 - f1_m: 0.7960 - auc_2: 0.8875 - accuracy: 0.7876 - val_loss: 0.5562 - val_f1_m: 0.7133 - val_auc_2: 0.8095 - val_accuracy: 0.7195\n",
            "\n",
            "Epoch 00036: saving model to /content/drive/MyDrive/Final/lstm.ckpt\n",
            "Epoch 37/100\n",
            "196/196 [==============================] - 4s 22ms/step - loss: 0.8021 - f1_m: 0.7962 - auc_2: 0.8921 - accuracy: 0.7887 - val_loss: 0.5474 - val_f1_m: 0.7032 - val_auc_2: 0.8107 - val_accuracy: 0.7230\n",
            "\n",
            "Epoch 00037: saving model to /content/drive/MyDrive/Final/lstm.ckpt\n",
            "Epoch 38/100\n",
            "196/196 [==============================] - 4s 22ms/step - loss: 0.8040 - f1_m: 0.7961 - auc_2: 0.8919 - accuracy: 0.7904 - val_loss: 0.5741 - val_f1_m: 0.7425 - val_auc_2: 0.8097 - val_accuracy: 0.7165\n",
            "\n",
            "Epoch 00038: saving model to /content/drive/MyDrive/Final/lstm.ckpt\n",
            "Epoch 39/100\n",
            "196/196 [==============================] - 4s 22ms/step - loss: 0.8087 - f1_m: 0.7972 - auc_2: 0.8911 - accuracy: 0.7894 - val_loss: 0.5699 - val_f1_m: 0.7457 - val_auc_2: 0.8113 - val_accuracy: 0.7224\n",
            "\n",
            "Epoch 00039: saving model to /content/drive/MyDrive/Final/lstm.ckpt\n",
            "Epoch 40/100\n",
            "196/196 [==============================] - 4s 22ms/step - loss: 0.7837 - f1_m: 0.8029 - auc_2: 0.8976 - accuracy: 0.7958 - val_loss: 0.5628 - val_f1_m: 0.7183 - val_auc_2: 0.8090 - val_accuracy: 0.7210\n",
            "\n",
            "Epoch 00040: saving model to /content/drive/MyDrive/Final/lstm.ckpt\n",
            "Epoch 41/100\n",
            "196/196 [==============================] - 4s 22ms/step - loss: 0.7927 - f1_m: 0.7976 - auc_2: 0.8947 - accuracy: 0.7920 - val_loss: 0.5646 - val_f1_m: 0.7402 - val_auc_2: 0.8113 - val_accuracy: 0.7208\n",
            "\n",
            "Epoch 00041: saving model to /content/drive/MyDrive/Final/lstm.ckpt\n",
            "Epoch 42/100\n",
            "196/196 [==============================] - 4s 22ms/step - loss: 0.7993 - f1_m: 0.8020 - auc_2: 0.8932 - accuracy: 0.7929 - val_loss: 0.5568 - val_f1_m: 0.7089 - val_auc_2: 0.8111 - val_accuracy: 0.7233\n",
            "\n",
            "Epoch 00042: saving model to /content/drive/MyDrive/Final/lstm.ckpt\n",
            "Epoch 43/100\n",
            "196/196 [==============================] - 4s 22ms/step - loss: 0.7914 - f1_m: 0.7980 - auc_2: 0.8961 - accuracy: 0.7945 - val_loss: 0.5673 - val_f1_m: 0.7342 - val_auc_2: 0.8106 - val_accuracy: 0.7220\n",
            "\n",
            "Epoch 00043: saving model to /content/drive/MyDrive/Final/lstm.ckpt\n",
            "Epoch 44/100\n",
            "196/196 [==============================] - 4s 22ms/step - loss: 0.7960 - f1_m: 0.7995 - auc_2: 0.8945 - accuracy: 0.7928 - val_loss: 0.5838 - val_f1_m: 0.7253 - val_auc_2: 0.8124 - val_accuracy: 0.7234\n",
            "\n",
            "Epoch 00044: saving model to /content/drive/MyDrive/Final/lstm.ckpt\n",
            "Epoch 45/100\n",
            "196/196 [==============================] - 4s 22ms/step - loss: 0.8647 - f1_m: 0.7835 - auc_2: 0.8851 - accuracy: 0.7876 - val_loss: 0.5685 - val_f1_m: 0.7290 - val_auc_2: 0.8128 - val_accuracy: 0.7231\n",
            "\n",
            "Epoch 00045: saving model to /content/drive/MyDrive/Final/lstm.ckpt\n",
            "Epoch 46/100\n",
            "196/196 [==============================] - 4s 22ms/step - loss: 0.7752 - f1_m: 0.8015 - auc_2: 0.8994 - accuracy: 0.7964 - val_loss: 0.5663 - val_f1_m: 0.7309 - val_auc_2: 0.8111 - val_accuracy: 0.7244\n",
            "\n",
            "Epoch 00046: saving model to /content/drive/MyDrive/Final/lstm.ckpt\n",
            "Epoch 47/100\n",
            "196/196 [==============================] - 4s 22ms/step - loss: 0.7819 - f1_m: 0.8053 - auc_2: 0.8981 - accuracy: 0.7956 - val_loss: 0.5689 - val_f1_m: 0.7299 - val_auc_2: 0.8121 - val_accuracy: 0.7255\n",
            "\n",
            "Epoch 00047: saving model to /content/drive/MyDrive/Final/lstm.ckpt\n",
            "Epoch 48/100\n",
            "196/196 [==============================] - 4s 22ms/step - loss: 0.7849 - f1_m: 0.8029 - auc_2: 0.8964 - accuracy: 0.7954 - val_loss: 0.5658 - val_f1_m: 0.7305 - val_auc_2: 0.8117 - val_accuracy: 0.7225\n",
            "\n",
            "Epoch 00048: saving model to /content/drive/MyDrive/Final/lstm.ckpt\n",
            "Epoch 49/100\n",
            "196/196 [==============================] - 4s 22ms/step - loss: 0.7744 - f1_m: 0.7998 - auc_2: 0.8992 - accuracy: 0.7969 - val_loss: 0.6041 - val_f1_m: 0.6942 - val_auc_2: 0.8093 - val_accuracy: 0.7220\n",
            "\n",
            "Epoch 00049: saving model to /content/drive/MyDrive/Final/lstm.ckpt\n",
            "Epoch 50/100\n",
            "196/196 [==============================] - 4s 22ms/step - loss: 0.7774 - f1_m: 0.8015 - auc_2: 0.8982 - accuracy: 0.7947 - val_loss: 0.5841 - val_f1_m: 0.7406 - val_auc_2: 0.8120 - val_accuracy: 0.7211\n",
            "\n",
            "Epoch 00050: saving model to /content/drive/MyDrive/Final/lstm.ckpt\n",
            "Epoch 51/100\n",
            "196/196 [==============================] - 4s 22ms/step - loss: 0.7799 - f1_m: 0.7980 - auc_2: 0.8978 - accuracy: 0.7918 - val_loss: 0.5894 - val_f1_m: 0.7269 - val_auc_2: 0.8119 - val_accuracy: 0.7196\n",
            "\n",
            "Epoch 00051: saving model to /content/drive/MyDrive/Final/lstm.ckpt\n",
            "Epoch 52/100\n",
            "196/196 [==============================] - 4s 22ms/step - loss: 0.7620 - f1_m: 0.8107 - auc_2: 0.9037 - accuracy: 0.8038 - val_loss: 0.5957 - val_f1_m: 0.7386 - val_auc_2: 0.8074 - val_accuracy: 0.7189\n",
            "\n",
            "Epoch 00052: saving model to /content/drive/MyDrive/Final/lstm.ckpt\n",
            "Epoch 53/100\n",
            "196/196 [==============================] - 4s 22ms/step - loss: 0.7663 - f1_m: 0.8047 - auc_2: 0.9023 - accuracy: 0.7994 - val_loss: 0.5795 - val_f1_m: 0.7361 - val_auc_2: 0.8129 - val_accuracy: 0.7262\n",
            "\n",
            "Epoch 00053: saving model to /content/drive/MyDrive/Final/lstm.ckpt\n",
            "Epoch 54/100\n",
            "196/196 [==============================] - 4s 22ms/step - loss: 0.7451 - f1_m: 0.8109 - auc_2: 0.9071 - accuracy: 0.8045 - val_loss: 0.6006 - val_f1_m: 0.7375 - val_auc_2: 0.8120 - val_accuracy: 0.7246\n",
            "\n",
            "Epoch 00054: saving model to /content/drive/MyDrive/Final/lstm.ckpt\n",
            "Epoch 55/100\n",
            "196/196 [==============================] - 4s 22ms/step - loss: 1.7754 - f1_m: 0.6849 - auc_2: 0.7870 - accuracy: 0.7219 - val_loss: 0.5805 - val_f1_m: 0.7357 - val_auc_2: 0.8095 - val_accuracy: 0.7215\n",
            "\n",
            "Epoch 00055: saving model to /content/drive/MyDrive/Final/lstm.ckpt\n",
            "Epoch 56/100\n",
            "196/196 [==============================] - 4s 22ms/step - loss: 0.8811 - f1_m: 0.7824 - auc_2: 0.8761 - accuracy: 0.7782 - val_loss: 0.5881 - val_f1_m: 0.7323 - val_auc_2: 0.8135 - val_accuracy: 0.7238\n",
            "\n",
            "Epoch 00056: saving model to /content/drive/MyDrive/Final/lstm.ckpt\n",
            "Epoch 57/100\n",
            "196/196 [==============================] - 4s 22ms/step - loss: 0.7533 - f1_m: 0.8069 - auc_2: 0.9048 - accuracy: 0.8041 - val_loss: 0.5916 - val_f1_m: 0.7363 - val_auc_2: 0.8143 - val_accuracy: 0.7262\n",
            "\n",
            "Epoch 00057: saving model to /content/drive/MyDrive/Final/lstm.ckpt\n",
            "Epoch 58/100\n",
            "196/196 [==============================] - 4s 22ms/step - loss: 0.7660 - f1_m: 0.8055 - auc_2: 0.9029 - accuracy: 0.7992 - val_loss: 0.6053 - val_f1_m: 0.7465 - val_auc_2: 0.8127 - val_accuracy: 0.7230\n",
            "\n",
            "Epoch 00058: saving model to /content/drive/MyDrive/Final/lstm.ckpt\n",
            "Epoch 59/100\n",
            "196/196 [==============================] - 4s 23ms/step - loss: 0.7363 - f1_m: 0.8093 - auc_2: 0.9089 - accuracy: 0.8063 - val_loss: 0.5866 - val_f1_m: 0.7218 - val_auc_2: 0.8107 - val_accuracy: 0.7220\n",
            "\n",
            "Epoch 00059: saving model to /content/drive/MyDrive/Final/lstm.ckpt\n",
            "Epoch 60/100\n",
            "196/196 [==============================] - 4s 23ms/step - loss: 0.7395 - f1_m: 0.8137 - auc_2: 0.9083 - accuracy: 0.8064 - val_loss: 0.5843 - val_f1_m: 0.7020 - val_auc_2: 0.8109 - val_accuracy: 0.7204\n",
            "\n",
            "Epoch 00060: saving model to /content/drive/MyDrive/Final/lstm.ckpt\n",
            "Epoch 61/100\n",
            "196/196 [==============================] - 4s 23ms/step - loss: 0.7458 - f1_m: 0.8136 - auc_2: 0.9081 - accuracy: 0.8072 - val_loss: 0.5951 - val_f1_m: 0.7411 - val_auc_2: 0.8127 - val_accuracy: 0.7246\n",
            "\n",
            "Epoch 00061: saving model to /content/drive/MyDrive/Final/lstm.ckpt\n",
            "Epoch 62/100\n",
            "196/196 [==============================] - 4s 22ms/step - loss: 0.7343 - f1_m: 0.8148 - auc_2: 0.9094 - accuracy: 0.8063 - val_loss: 0.6009 - val_f1_m: 0.7431 - val_auc_2: 0.8131 - val_accuracy: 0.7221\n",
            "\n",
            "Epoch 00062: saving model to /content/drive/MyDrive/Final/lstm.ckpt\n",
            "Epoch 63/100\n",
            "196/196 [==============================] - 4s 22ms/step - loss: 0.7362 - f1_m: 0.8163 - auc_2: 0.9092 - accuracy: 0.8088 - val_loss: 0.6030 - val_f1_m: 0.7223 - val_auc_2: 0.8099 - val_accuracy: 0.7216\n",
            "\n",
            "Epoch 00063: saving model to /content/drive/MyDrive/Final/lstm.ckpt\n",
            "Epoch 64/100\n",
            "196/196 [==============================] - 4s 22ms/step - loss: 0.7344 - f1_m: 0.8126 - auc_2: 0.9097 - accuracy: 0.8075 - val_loss: 0.6182 - val_f1_m: 0.7307 - val_auc_2: 0.8124 - val_accuracy: 0.7248\n",
            "\n",
            "Epoch 00064: saving model to /content/drive/MyDrive/Final/lstm.ckpt\n",
            "Epoch 65/100\n",
            "196/196 [==============================] - 4s 22ms/step - loss: 0.7405 - f1_m: 0.8122 - auc_2: 0.9092 - accuracy: 0.8073 - val_loss: 0.6056 - val_f1_m: 0.7317 - val_auc_2: 0.8144 - val_accuracy: 0.7269\n",
            "\n",
            "Epoch 00065: saving model to /content/drive/MyDrive/Final/lstm.ckpt\n",
            "Epoch 66/100\n",
            "196/196 [==============================] - 4s 22ms/step - loss: 0.7536 - f1_m: 0.8054 - auc_2: 0.9072 - accuracy: 0.8050 - val_loss: 0.6105 - val_f1_m: 0.7401 - val_auc_2: 0.8143 - val_accuracy: 0.7258\n",
            "\n",
            "Epoch 00066: saving model to /content/drive/MyDrive/Final/lstm.ckpt\n",
            "Epoch 67/100\n",
            "196/196 [==============================] - 4s 22ms/step - loss: 0.7221 - f1_m: 0.8161 - auc_2: 0.9127 - accuracy: 0.8086 - val_loss: 0.5984 - val_f1_m: 0.7338 - val_auc_2: 0.8148 - val_accuracy: 0.7275\n",
            "\n",
            "Epoch 00067: saving model to /content/drive/MyDrive/Final/lstm.ckpt\n",
            "Epoch 68/100\n",
            "196/196 [==============================] - 4s 22ms/step - loss: 0.7068 - f1_m: 0.8241 - auc_2: 0.9170 - accuracy: 0.8198 - val_loss: 0.6016 - val_f1_m: 0.7411 - val_auc_2: 0.8139 - val_accuracy: 0.7256\n",
            "\n",
            "Epoch 00068: saving model to /content/drive/MyDrive/Final/lstm.ckpt\n",
            "Epoch 69/100\n",
            "196/196 [==============================] - 4s 22ms/step - loss: 0.7119 - f1_m: 0.8190 - auc_2: 0.9150 - accuracy: 0.8143 - val_loss: 0.6068 - val_f1_m: 0.7242 - val_auc_2: 0.8126 - val_accuracy: 0.7249\n",
            "\n",
            "Epoch 00069: saving model to /content/drive/MyDrive/Final/lstm.ckpt\n",
            "Epoch 70/100\n",
            "196/196 [==============================] - 4s 23ms/step - loss: 0.7238 - f1_m: 0.8177 - auc_2: 0.9125 - accuracy: 0.8118 - val_loss: 0.6031 - val_f1_m: 0.7339 - val_auc_2: 0.8140 - val_accuracy: 0.7270\n",
            "\n",
            "Epoch 00070: saving model to /content/drive/MyDrive/Final/lstm.ckpt\n",
            "Epoch 71/100\n",
            "196/196 [==============================] - 4s 22ms/step - loss: 0.7018 - f1_m: 0.8174 - auc_2: 0.9178 - accuracy: 0.8148 - val_loss: 0.5980 - val_f1_m: 0.7318 - val_auc_2: 0.8122 - val_accuracy: 0.7225\n",
            "\n",
            "Epoch 00071: saving model to /content/drive/MyDrive/Final/lstm.ckpt\n",
            "Epoch 72/100\n",
            "196/196 [==============================] - 4s 22ms/step - loss: 0.7412 - f1_m: 0.8140 - auc_2: 0.9115 - accuracy: 0.8114 - val_loss: 0.6059 - val_f1_m: 0.7126 - val_auc_2: 0.8133 - val_accuracy: 0.7251\n",
            "\n",
            "Epoch 00072: saving model to /content/drive/MyDrive/Final/lstm.ckpt\n",
            "Epoch 73/100\n",
            "196/196 [==============================] - 4s 22ms/step - loss: 0.6871 - f1_m: 0.8194 - auc_2: 0.9211 - accuracy: 0.8176 - val_loss: 0.5865 - val_f1_m: 0.7390 - val_auc_2: 0.8147 - val_accuracy: 0.7292\n",
            "\n",
            "Epoch 00073: saving model to /content/drive/MyDrive/Final/lstm.ckpt\n",
            "Epoch 74/100\n",
            "196/196 [==============================] - 4s 22ms/step - loss: 0.7002 - f1_m: 0.8257 - auc_2: 0.9181 - accuracy: 0.8196 - val_loss: 0.6233 - val_f1_m: 0.7272 - val_auc_2: 0.8153 - val_accuracy: 0.7255\n",
            "\n",
            "Epoch 00074: saving model to /content/drive/MyDrive/Final/lstm.ckpt\n",
            "Epoch 75/100\n",
            "196/196 [==============================] - 4s 22ms/step - loss: 0.6816 - f1_m: 0.8311 - auc_2: 0.9225 - accuracy: 0.8226 - val_loss: 0.6217 - val_f1_m: 0.7319 - val_auc_2: 0.8161 - val_accuracy: 0.7292\n",
            "\n",
            "Epoch 00075: saving model to /content/drive/MyDrive/Final/lstm.ckpt\n",
            "Epoch 76/100\n",
            "196/196 [==============================] - 4s 22ms/step - loss: 0.6985 - f1_m: 0.8185 - auc_2: 0.9183 - accuracy: 0.8156 - val_loss: 0.6415 - val_f1_m: 0.7001 - val_auc_2: 0.8117 - val_accuracy: 0.7251\n",
            "\n",
            "Epoch 00076: saving model to /content/drive/MyDrive/Final/lstm.ckpt\n",
            "Epoch 77/100\n",
            "196/196 [==============================] - 4s 22ms/step - loss: 0.6957 - f1_m: 0.8190 - auc_2: 0.9198 - accuracy: 0.8189 - val_loss: 0.6188 - val_f1_m: 0.7370 - val_auc_2: 0.8142 - val_accuracy: 0.7269\n",
            "\n",
            "Epoch 00077: saving model to /content/drive/MyDrive/Final/lstm.ckpt\n",
            "Epoch 78/100\n",
            "196/196 [==============================] - 4s 22ms/step - loss: 0.6950 - f1_m: 0.8264 - auc_2: 0.9197 - accuracy: 0.8189 - val_loss: 0.6097 - val_f1_m: 0.7298 - val_auc_2: 0.8132 - val_accuracy: 0.7256\n",
            "\n",
            "Epoch 00078: saving model to /content/drive/MyDrive/Final/lstm.ckpt\n",
            "Epoch 79/100\n",
            "196/196 [==============================] - 4s 22ms/step - loss: 0.6766 - f1_m: 0.8333 - auc_2: 0.9242 - accuracy: 0.8257 - val_loss: 0.6242 - val_f1_m: 0.6962 - val_auc_2: 0.8122 - val_accuracy: 0.7220\n",
            "\n",
            "Epoch 00079: saving model to /content/drive/MyDrive/Final/lstm.ckpt\n",
            "Epoch 80/100\n",
            "196/196 [==============================] - 4s 22ms/step - loss: 1.0033 - f1_m: 0.7669 - auc_2: 0.8744 - accuracy: 0.7845 - val_loss: 0.6173 - val_f1_m: 0.7394 - val_auc_2: 0.8144 - val_accuracy: 0.7251\n",
            "\n",
            "Epoch 00080: saving model to /content/drive/MyDrive/Final/lstm.ckpt\n",
            "Epoch 81/100\n",
            "196/196 [==============================] - 4s 22ms/step - loss: 0.6969 - f1_m: 0.8235 - auc_2: 0.9188 - accuracy: 0.8178 - val_loss: 0.6482 - val_f1_m: 0.7372 - val_auc_2: 0.8167 - val_accuracy: 0.7322\n",
            "\n",
            "Epoch 00081: saving model to /content/drive/MyDrive/Final/lstm.ckpt\n",
            "Epoch 82/100\n",
            "196/196 [==============================] - 4s 22ms/step - loss: 0.6731 - f1_m: 0.8293 - auc_2: 0.9246 - accuracy: 0.8255 - val_loss: 0.6300 - val_f1_m: 0.7380 - val_auc_2: 0.8134 - val_accuracy: 0.7259\n",
            "\n",
            "Epoch 00082: saving model to /content/drive/MyDrive/Final/lstm.ckpt\n",
            "Epoch 83/100\n",
            "196/196 [==============================] - 4s 22ms/step - loss: 0.6947 - f1_m: 0.8272 - auc_2: 0.9206 - accuracy: 0.8202 - val_loss: 0.6289 - val_f1_m: 0.7307 - val_auc_2: 0.8162 - val_accuracy: 0.7285\n",
            "\n",
            "Epoch 00083: saving model to /content/drive/MyDrive/Final/lstm.ckpt\n",
            "Epoch 84/100\n",
            "196/196 [==============================] - 4s 22ms/step - loss: 0.6856 - f1_m: 0.8230 - auc_2: 0.9216 - accuracy: 0.8205 - val_loss: 0.6198 - val_f1_m: 0.7411 - val_auc_2: 0.8153 - val_accuracy: 0.7301\n",
            "\n",
            "Epoch 00084: saving model to /content/drive/MyDrive/Final/lstm.ckpt\n",
            "Epoch 85/100\n",
            "196/196 [==============================] - 4s 22ms/step - loss: 0.6648 - f1_m: 0.8329 - auc_2: 0.9267 - accuracy: 0.8264 - val_loss: 0.6541 - val_f1_m: 0.7105 - val_auc_2: 0.8142 - val_accuracy: 0.7270\n",
            "\n",
            "Epoch 00085: saving model to /content/drive/MyDrive/Final/lstm.ckpt\n",
            "Epoch 86/100\n",
            "196/196 [==============================] - 4s 23ms/step - loss: 0.6884 - f1_m: 0.8228 - auc_2: 0.9223 - accuracy: 0.8226 - val_loss: 0.6176 - val_f1_m: 0.7520 - val_auc_2: 0.8141 - val_accuracy: 0.7229\n",
            "\n",
            "Epoch 00086: saving model to /content/drive/MyDrive/Final/lstm.ckpt\n",
            "Epoch 87/100\n",
            "196/196 [==============================] - 4s 22ms/step - loss: 0.7632 - f1_m: 0.8114 - auc_2: 0.9089 - accuracy: 0.8120 - val_loss: 0.6181 - val_f1_m: 0.5019 - val_auc_2: 0.7974 - val_accuracy: 0.6486\n",
            "\n",
            "Epoch 00087: saving model to /content/drive/MyDrive/Final/lstm.ckpt\n",
            "Epoch 88/100\n",
            "196/196 [==============================] - 4s 22ms/step - loss: 0.8604 - f1_m: 0.7736 - auc_2: 0.8776 - accuracy: 0.7776 - val_loss: 0.6501 - val_f1_m: 0.7163 - val_auc_2: 0.8143 - val_accuracy: 0.7326\n",
            "\n",
            "Epoch 00088: saving model to /content/drive/MyDrive/Final/lstm.ckpt\n",
            "Epoch 89/100\n",
            "196/196 [==============================] - 4s 22ms/step - loss: 0.6746 - f1_m: 0.8323 - auc_2: 0.9243 - accuracy: 0.8259 - val_loss: 0.6263 - val_f1_m: 0.7145 - val_auc_2: 0.8161 - val_accuracy: 0.7314\n",
            "\n",
            "Epoch 00089: saving model to /content/drive/MyDrive/Final/lstm.ckpt\n",
            "Epoch 90/100\n",
            "196/196 [==============================] - 4s 22ms/step - loss: 0.6672 - f1_m: 0.8257 - auc_2: 0.9263 - accuracy: 0.8269 - val_loss: 0.5958 - val_f1_m: 0.7397 - val_auc_2: 0.8153 - val_accuracy: 0.7299\n",
            "\n",
            "Epoch 00090: saving model to /content/drive/MyDrive/Final/lstm.ckpt\n",
            "Epoch 91/100\n",
            "196/196 [==============================] - 4s 22ms/step - loss: 0.6550 - f1_m: 0.8331 - auc_2: 0.9287 - accuracy: 0.8272 - val_loss: 0.6208 - val_f1_m: 0.7401 - val_auc_2: 0.8148 - val_accuracy: 0.7300\n",
            "\n",
            "Epoch 00091: saving model to /content/drive/MyDrive/Final/lstm.ckpt\n",
            "Epoch 92/100\n",
            "196/196 [==============================] - 4s 22ms/step - loss: 0.6595 - f1_m: 0.8357 - auc_2: 0.9273 - accuracy: 0.8275 - val_loss: 0.6474 - val_f1_m: 0.7360 - val_auc_2: 0.8147 - val_accuracy: 0.7295\n",
            "\n",
            "Epoch 00092: saving model to /content/drive/MyDrive/Final/lstm.ckpt\n",
            "Epoch 93/100\n",
            "196/196 [==============================] - 4s 22ms/step - loss: 0.6493 - f1_m: 0.8334 - auc_2: 0.9295 - accuracy: 0.8282 - val_loss: 0.6204 - val_f1_m: 0.7366 - val_auc_2: 0.8168 - val_accuracy: 0.7290\n",
            "\n",
            "Epoch 00093: saving model to /content/drive/MyDrive/Final/lstm.ckpt\n",
            "Epoch 94/100\n",
            "196/196 [==============================] - 4s 22ms/step - loss: 0.6518 - f1_m: 0.8361 - auc_2: 0.9297 - accuracy: 0.8311 - val_loss: 0.6204 - val_f1_m: 0.7054 - val_auc_2: 0.8143 - val_accuracy: 0.7251\n",
            "\n",
            "Epoch 00094: saving model to /content/drive/MyDrive/Final/lstm.ckpt\n",
            "Epoch 95/100\n",
            "196/196 [==============================] - 4s 22ms/step - loss: 0.6531 - f1_m: 0.8316 - auc_2: 0.9291 - accuracy: 0.8309 - val_loss: 0.6234 - val_f1_m: 0.6416 - val_auc_2: 0.8070 - val_accuracy: 0.7010\n",
            "\n",
            "Epoch 00095: saving model to /content/drive/MyDrive/Final/lstm.ckpt\n",
            "Epoch 96/100\n",
            "196/196 [==============================] - 4s 22ms/step - loss: 0.7179 - f1_m: 0.8020 - auc_2: 0.9139 - accuracy: 0.8089 - val_loss: 0.6501 - val_f1_m: 0.7083 - val_auc_2: 0.8153 - val_accuracy: 0.7278\n",
            "\n",
            "Epoch 00096: saving model to /content/drive/MyDrive/Final/lstm.ckpt\n",
            "Epoch 97/100\n",
            "196/196 [==============================] - 4s 22ms/step - loss: 0.6574 - f1_m: 0.8303 - auc_2: 0.9276 - accuracy: 0.8272 - val_loss: 0.6715 - val_f1_m: 0.7030 - val_auc_2: 0.8126 - val_accuracy: 0.7258\n",
            "\n",
            "Epoch 00097: saving model to /content/drive/MyDrive/Final/lstm.ckpt\n",
            "Epoch 98/100\n",
            "196/196 [==============================] - 4s 22ms/step - loss: 0.6727 - f1_m: 0.8290 - auc_2: 0.9244 - accuracy: 0.8242 - val_loss: 0.6521 - val_f1_m: 0.7270 - val_auc_2: 0.8137 - val_accuracy: 0.7268\n",
            "\n",
            "Epoch 00098: saving model to /content/drive/MyDrive/Final/lstm.ckpt\n",
            "Epoch 99/100\n",
            "196/196 [==============================] - 4s 22ms/step - loss: 0.6422 - f1_m: 0.8357 - auc_2: 0.9313 - accuracy: 0.8322 - val_loss: 0.6690 - val_f1_m: 0.7370 - val_auc_2: 0.8161 - val_accuracy: 0.7285\n",
            "\n",
            "Epoch 00099: saving model to /content/drive/MyDrive/Final/lstm.ckpt\n",
            "Epoch 100/100\n",
            "196/196 [==============================] - 4s 22ms/step - loss: 0.6432 - f1_m: 0.8312 - auc_2: 0.9303 - accuracy: 0.8281 - val_loss: 0.6690 - val_f1_m: 0.7329 - val_auc_2: 0.8160 - val_accuracy: 0.7289\n",
            "\n",
            "Epoch 00100: saving model to /content/drive/MyDrive/Final/lstm.ckpt\n"
          ],
          "name": "stdout"
        }
      ]
    },
    {
      "cell_type": "code",
      "metadata": {
        "id": "3h0cYcXhViIl"
      },
      "source": [
        "#source: https://www.tensorflow.org/tutorials/text/text_classification_rnn\n",
        "import matplotlib.pyplot as plt\n",
        "\n",
        "def plot_graphs(history, metric):\n",
        "  plt.plot(history.history[metric])\n",
        "  plt.plot(history.history['val_'+metric], '')\n",
        "  plt.xlabel(\"Epochs\")\n",
        "  plt.ylabel(metric)\n",
        "  plt.legend([metric, 'val_'+metric])"
      ],
      "execution_count": 43,
      "outputs": []
    },
    {
      "cell_type": "code",
      "metadata": {
        "id": "vRtUqj__VWEN",
        "colab": {
          "base_uri": "https://localhost:8080/",
          "height": 519
        },
        "outputId": "51d03ad5-368f-481a-a82e-43828bec9fbf"
      },
      "source": [
        "plt.figure(figsize=(16,8))\n",
        "plt.subplot(1,2,1)\n",
        "plot_graphs(history, 'accuracy')\n",
        "plt.ylim(None,1)\n",
        "plt.subplot(1,2,2)\n",
        "plot_graphs(history, 'loss')\n",
        "plt.ylim(0,None)"
      ],
      "execution_count": 44,
      "outputs": [
        {
          "output_type": "execute_result",
          "data": {
            "text/plain": [
              "(0.0, 1.4221172869205474)"
            ]
          },
          "metadata": {
            "tags": []
          },
          "execution_count": 44
        },
        {
          "output_type": "display_data",
          "data": {
            "image/png": "[encoded data removed]",
            "text/plain": [
              "<Figure size 1152x576 with 2 Axes>"
            ]
          },
          "metadata": {
            "tags": [],
            "needs_background": "light"
          }
        }
      ]
    },
    {
      "cell_type": "code",
      "metadata": {
        "id": "-1SvJZGg58qP"
      },
      "source": [
        "import os\n",
        "checkpoint_path = \"/content/drive/MyDrive/Final/lstm.ckpt\"\n",
        "model = createLstmModel()\n",
        "model.load_weights(checkpoint_path)\n",
        "cp_callback = tf.keras.callbacks.ModelCheckpoint(filepath=checkpoint_path,save_weights_only=True,verbose=1)"
      ],
      "execution_count": null,
      "outputs": []
    },
    {
      "cell_type": "code",
      "metadata": {
        "id": "p_VhYnq4BZNQ"
      },
      "source": [
        "# class_weight = {0: 1/66639, 1: 1/(1- (1/66639))}\n",
        "# model = KerasClassifier(build_fn=createLstmModel , epochs=1000   )\n",
        "\n",
        "# # class_weights = class_weight.compute_class_weight('balanced', np.unique(Y), Y)\n",
        "# # pipeline =  [\n",
        "# # #         ('tokenizer', Tokenizer(num_words = max_feature, lower = True, split = ' ')),\n",
        "# # #         ('pad', pad_sequences(sequences = X , maxlen = max_feature, padding = 'pre')),\n",
        "# #         ('estimator', model)\n",
        "# #     ]\n",
        "\n",
        "# parameters = { 'dropout' : [0.5,0.1, 0.01], 'units':[100,  300, 700, 1000] , 'batch_size' :[150]\n",
        "# #     'tokenizer__num_words': (100, 200, 300),\n",
        "# #     'pad__maxlen':( 200, 300, 400),\n",
        "    \n",
        "#     # 'estimator__dropout': (0.5,0.1, 0.01),\n",
        "#     # 'estimator__units' :(100,  300, 700, 1000)\n",
        "   \n",
        "# }\n",
        "\n",
        "\n",
        "# #source: https://datascience.stackexchange.com/questions/13490/how-to-set-class-weights-for-imbalanced-classes-in-keras\n",
        "\n",
        "# # grid_search_tune = GridSearchCV(Pipeline(pipeline), parameters, cv=20, verbose=1  )\n",
        "\n",
        "# grid_search_tune = GridSearchCV(model , parameters, cv=20 , verbose=1)\n",
        "\n",
        "# LSTM = grid_search_tune.fit(X, Y)\n",
        "#?????????? check batch_size and Class_weight\n"
      ],
      "execution_count": null,
      "outputs": []
    },
    {
      "cell_type": "code",
      "metadata": {
        "id": "E6kfl2FVBZNU"
      },
      "source": [
        "# print (grid_search_tune.best_estimator_.steps)\n",
        "\n",
        "# print ('Best Parameter for LSTM ',grid_search_tune.best_params_)\n",
        "# print('Best Score for LSTM: ',grid_search_tune.best_score_)"
      ],
      "execution_count": null,
      "outputs": []
    },
    {
      "cell_type": "code",
      "metadata": {
        "id": "httu2ESUBZNX"
      },
      "source": [
        "\n",
        "# tokenizer = Tokenizer(num_words = max_len, lower = True, split = ' ')\n",
        "#converting words to vectors\n",
        "tokenizer.fit_on_texts(X_test )\n",
        "\n",
        "X_temp = tokenizer.texts_to_sequences(X_test)\n",
        "\n",
        "#pad sequence is used to ensure that all sequences in a list have the same length.\n",
        "X_ready_test = pad_sequences(sequences = X_temp, maxlen = max_len, padding = 'pre')\n",
        "\n",
        "\n"
      ],
      "execution_count": 41,
      "outputs": []
    },
    {
      "cell_type": "code",
      "metadata": {
        "id": "7hnhjannBZNa"
      },
      "source": [
        "y_predict =model.predict(X_ready_test)"
      ],
      "execution_count": null,
      "outputs": []
    },
    {
      "cell_type": "code",
      "metadata": {
        "id": "a_UAA8qzKwcm"
      },
      "source": [
        "# print(y_predict)"
      ],
      "execution_count": null,
      "outputs": []
    },
    {
      "cell_type": "code",
      "metadata": {
        "id": "55u_D1VsBZNd"
      },
      "source": [
        "# print('Accuracy: ' , accuracy_score( Y_test,y_predict))\n",
        "# #Source: https://scikit-learn.org/stable/modules/generated/sklearn.metrics.f1_score.html#sklearn.metrics.f1_score\n",
        "# print('F1-score: ', f1_score(Y_test, y_predict))\n",
        "# #source: https://scikit-learn.org/stable/modules/generated/sklearn.metrics.roc_auc_score.html#sklearn.metrics.roc_auc_score\n",
        "# print('roc_auc_score: ', roc_auc_score(Y_test, y_predict))"
      ],
      "execution_count": null,
      "outputs": []
    },
    {
      "cell_type": "code",
      "metadata": {
        "colab": {
          "base_uri": "https://localhost:8080/"
        },
        "id": "phGDKAmbvAw4",
        "outputId": "6ce0a1a8-c18a-4826-e6c4-802ff9e5bcde"
      },
      "source": [
        "loss, f1_score, auc,accuracy = model.evaluate(X_ready_test, Y_test, verbose=0)\n",
        "print('Accuracy:  %.3f' , accuracy)\n",
        "\n",
        "print('F1-score:  %.3f', f1_score)\n",
        "\n",
        "print('roc_auc_score:  %.3f', auc)\n"
      ],
      "execution_count": 42,
      "outputs": [
        {
          "output_type": "stream",
          "text": [
            "Accuracy:  %.3f 0.5740386247634888\n",
            "F1-score:  %.3f 0.5795719027519226\n",
            "roc_auc_score:  %.3f 0.6000317335128784\n"
          ],
          "name": "stdout"
        }
      ]
    },
    {
      "cell_type": "code",
      "metadata": {
        "id": "iHrwAEXb-nvo"
      },
      "source": [
        "train_data.to_csv('/content/drive/MyDrive/Final/train_temp.csv' ,index=False, encoding='utf-8-sig')\r\n",
        "test_data.to_csv('/content/drive/MyDrive/Final/test_temp.csv' ,index=False, encoding='utf-8-sig')"
      ],
      "execution_count": 45,
      "outputs": []
    },
    {
      "cell_type": "code",
      "metadata": {
        "id": "Hxaeh7l3V2O8"
      },
      "source": [
        ""
      ],
      "execution_count": null,
      "outputs": []
    }
  ]
}