{
  "nbformat": 4,
  "nbformat_minor": 0,
  "metadata": {
    "accelerator": "GPU",
    "colab": {
      "name": "SheidaTalei_LSTM_FinalProject.ipynb",
      "provenance": [],
      "collapsed_sections": [],
      "include_colab_link": true
    },
    "kernelspec": {
      "display_name": "Python 3",
      "language": "python",
      "name": "python3"
    },
    "language_info": {
      "codemirror_mode": {
        "name": "ipython",
        "version": 3
      },
      "file_extension": ".py",
      "mimetype": "text/x-python",
      "name": "python",
      "nbconvert_exporter": "python",
      "pygments_lexer": "ipython3",
      "version": "3.8.5"
    }
  },
  "cells": [
    {
      "cell_type": "markdown",
      "metadata": {
        "id": "view-in-github",
        "colab_type": "text"
      },
      "source": [
        "<a href=\"https://colab.research.google.com/github/SheidaTalei/FinalProject/blob/main/SheidaTalei_LSTM_FinalProject.ipynb\" target=\"_parent\"><img src=\"https://colab.research.google.com/assets/colab-badge.svg\" alt=\"Open In Colab\"/></a>"
      ]
    },
    {
      "cell_type": "code",
      "metadata": {
        "id": "Aphu-A5aCfZ8",
        "colab": {
          "base_uri": "https://localhost:8080/"
        },
        "outputId": "e5fba555-cad7-4d96-b384-b54ec3bb3af6"
      },
      "source": [
        "from google.colab import drive\n",
        "drive.mount('/content/drive')"
      ],
      "execution_count": 1,
      "outputs": [
        {
          "output_type": "stream",
          "text": [
            "Mounted at /content/drive\n"
          ],
          "name": "stdout"
        }
      ]
    },
    {
      "cell_type": "code",
      "metadata": {
        "id": "9yv90hltCOCz"
      },
      "source": [
        "import numpy as np\n",
        "import pandas as pd\n",
        "from sklearn.feature_extraction.text import TfidfVectorizer\n",
        "#Convert a collection of raw documents to a matrix of TF-IDF features.\n",
        "from sklearn.model_selection import train_test_split\n",
        "from sklearn.metrics import accuracy_score\n",
        "import regex\n",
        "import tensorflow as tf\n",
        "from tensorflow import keras\n",
        "from tensorflow.keras import layers\n",
        "\n",
        "import re\n",
        "import string"
      ],
      "execution_count": 2,
      "outputs": []
    },
    {
      "cell_type": "code",
      "metadata": {
        "id": "rzzSJswNBZMU"
      },
      "source": [
        "from tensorflow.keras.preprocessing.text import Tokenizer\n",
        "from tensorflow.keras.preprocessing.sequence import pad_sequences\n",
        "from keras.models import Sequential\n",
        "from keras.models import Sequential\n",
        "from keras.layers import Dense\n",
        "from keras.layers import LSTM\n",
        "from keras.layers import Dropout\n",
        "from keras.layers import Embedding\n",
        "from keras.layers import MaxPooling1D\n",
        "from keras.layers import Conv1D\n",
        "\n",
        "\n",
        "from keras.wrappers.scikit_learn import KerasRegressor\n",
        "from sklearn.pipeline import Pipeline\n",
        "from sklearn.model_selection import GridSearchCV\n",
        "from keras.wrappers.scikit_learn import KerasClassifier\n",
        "\n",
        "from sklearn.utils import class_weight\n",
        "\n",
        "from sklearn.metrics import accuracy_score\n",
        "from sklearn.metrics import f1_score\n",
        "from sklearn.metrics import roc_auc_score\n",
        "\n",
        "from sklearn.metrics import  auc"
      ],
      "execution_count": 3,
      "outputs": []
    },
    {
      "cell_type": "code",
      "metadata": {
        "id": "op2BCxa7DQo_"
      },
      "source": [
        "#------------------------------------------Empty Rows Removal----------------------------------------------------------------\n",
        "# This function Will: 1- Remove all empty rows from csv file 2- Save data to the same csv\n",
        "def removeEmptyRows(fileName):\n",
        "    df = pd.read_csv(fileName, encoding='utf-8-sig')\n",
        "    df = df.dropna(subset=['text'], how='all', axis=0) \n",
        "    df.to_csv(fileName, header=True, encoding='utf-8-sig',  index=False)\n",
        "    \n",
        "    return df"
      ],
      "execution_count": 4,
      "outputs": []
    },
    {
      "cell_type": "code",
      "metadata": {
        "id": "vbkTBwewpruI"
      },
      "source": [
        "X_and_Y = removeEmptyRows ('/content/drive/MyDrive/Final/Prepared_train_Data.csv')\n",
        "\n",
        "Y= X_and_Y.Label\n",
        "X = X_and_Y.text"
      ],
      "execution_count": 5,
      "outputs": []
    },
    {
      "cell_type": "code",
      "metadata": {
        "id": "KlCKP5_5prmZ"
      },
      "source": [
        "X_and_Y_test = removeEmptyRows('/content/drive/MyDrive/Final/Prepared_test_Data.csv')\n",
        "Y_test= X_and_Y_test.Label\n",
        "X_test = X_and_Y_test.text"
      ],
      "execution_count": 6,
      "outputs": []
    },
    {
      "cell_type": "code",
      "metadata": {
        "id": "zHs3klBg10FN"
      },
      "source": [
        "#This part helps for handeling imbalanced data\n",
        "count_0 = 0\n",
        "count_1 = 0\n",
        "\n",
        "for i in Y:\n",
        "    if (i==0):\n",
        "        count_0 = count_0+1\n",
        "    else:\n",
        "        count_1 = count_1 + 1\n",
        "        "
      ],
      "execution_count": 7,
      "outputs": []
    },
    {
      "cell_type": "code",
      "metadata": {
        "id": "j1SDb_x0qGUQ"
      },
      "source": [
        "p = count_0 / (count_0 + count_1)"
      ],
      "execution_count": 8,
      "outputs": []
    },
    {
      "cell_type": "code",
      "metadata": {
        "colab": {
          "base_uri": "https://localhost:8080/"
        },
        "id": "EI8yA4fSozq5",
        "outputId": "59f93cde-d35e-41ec-88d6-a8bb6c65c4c1"
      },
      "source": [
        "print (\"count_0: \",count_0 )\n",
        "print (\"count_1: \",count_1 )"
      ],
      "execution_count": 9,
      "outputs": [
        {
          "output_type": "stream",
          "text": [
            "count_0:  66639\n",
            "count_1:  12154\n"
          ],
          "name": "stdout"
        }
      ]
    },
    {
      "cell_type": "code",
      "metadata": {
        "id": "JwL9hZ08fSbe"
      },
      "source": [
        "from keras import backend as K\n",
        "\n",
        "def recall_m(y_true, y_pred):\n",
        "    true_positives = K.sum(K.round(K.clip(y_true * y_pred, 0, 1)))\n",
        "    possible_positives = K.sum(K.round(K.clip(y_true, 0, 1)))\n",
        "    recall = true_positives / (possible_positives + K.epsilon())\n",
        "    return recall\n",
        "\n",
        "def precision_m(y_true, y_pred):\n",
        "    true_positives = K.sum(K.round(K.clip(y_true * y_pred, 0, 1)))\n",
        "    predicted_positives = K.sum(K.round(K.clip(y_pred, 0, 1)))\n",
        "    precision = true_positives / (predicted_positives + K.epsilon())\n",
        "    return precision\n",
        "\n",
        "def f1_m(y_true, y_pred):\n",
        "    precision = precision_m(y_true, y_pred)\n",
        "    recall = recall_m(y_true, y_pred)\n",
        "    return 2*((precision*recall)/(precision+recall+K.epsilon()))"
      ],
      "execution_count": 10,
      "outputs": []
    },
    {
      "cell_type": "code",
      "metadata": {
        "id": "tEhEElBKBZNC"
      },
      "source": [
        "#converting words to vectors\n",
        "max_len = 150 #120\n",
        "tokenizer = Tokenizer(num_words = max_len, lower = True, split = ' ')\n",
        "tokenizer.fit_on_texts(X )\n",
        "\n",
        "\n",
        "X = tokenizer.texts_to_sequences(X)\n",
        "\n",
        "#pad sequence is used to ensure that all sequences in a list have the same length.\n",
        "X_ready = pad_sequences(sequences = X, maxlen = max_len, padding = 'pre')"
      ],
      "execution_count": 11,
      "outputs": []
    },
    {
      "cell_type": "code",
      "metadata": {
        "id": "4c4XDKwhBZNH"
      },
      "source": [
        "\n",
        "def createLstmModel(units = 200, dropout = 0.5  ):\n",
        "    \n",
        "    \n",
        "   #https://www.tensorflow.org/tutorials/text/text_classification_rnn\n",
        "        \n",
        "    #Adding Layers\n",
        "    model = Sequential()\n",
        "    model.add(Embedding(2000 , 128 ))#max_feature = 5000 , embedding_dimention = 128\n",
        "\n",
        "    model.add(Conv1D(filters=32, kernel_size=3, padding='same', activation='relu'))\n",
        "    model.add(MaxPooling1D(pool_size=2))  \n",
        "   \n",
        "    # model.add(LSTM(units = units , dropout = 0.2, return_sequences=True ))\n",
        "    # model.add(Dense(units = units, activation=\"relu\"))\n",
        "    # model.add(Dropout(rate = dropout))\n",
        "\n",
        "\n",
        "  \n",
        "    model.add(LSTM(units = units , dropout = 0.2))\n",
        "    model.add(Dense(units = units, activation=\"relu\"))\n",
        "    model.add(Dropout(rate = dropout))\n",
        "\n",
        "    model.add(Dense(units = 1 ,activation=\"sigmoid\"))\n",
        "    model.compile(optimizer='rmsprop', loss='binary_crossentropy', metrics=[f1_m ,tf.keras.metrics.AUC(), 'accuracy'])\n",
        "    \n",
        "    # model.fit(X, Y, batch_size = 150, class_weight = {0: 1/66639, 1: 1/(1- (1/66639))})\n",
        "#     model.summary()\n",
        "    return model\n"
      ],
      "execution_count": 16,
      "outputs": []
    },
    {
      "cell_type": "code",
      "metadata": {
        "id": "M0Slag_sPaFK"
      },
      "source": [
        ""
      ],
      "execution_count": null,
      "outputs": []
    },
    {
      "cell_type": "code",
      "metadata": {
        "id": "qzMWk1lx21Mh"
      },
      "source": [
        "#source: https://colab.research.google.com/github/tensorflow/docs/blob/master/site/en/tutorials/keras/save_and_load.ipynb#scrollTo=IFPuhwntH8VH\n",
        "import os\n",
        "checkpoint_path = \"/content/drive/MyDrive/Final/lstm.ckpt\"\n",
        "checkpoint_dir = os.path.dirname(checkpoint_path)\n",
        "\n",
        "# Create a callback that saves the model's weights\n",
        "cp_callback = tf.keras.callbacks.ModelCheckpoint(filepath=checkpoint_path,save_weights_only=True,verbose=1)"
      ],
      "execution_count": 17,
      "outputs": []
    },
    {
      "cell_type": "code",
      "metadata": {
        "colab": {
          "base_uri": "https://localhost:8080/"
        },
        "id": "lK2B8Uf7STHe",
        "outputId": "cae68577-2739-4f17-e95a-2e2467a7d782"
      },
      "source": [
        "# print(type(X_ready))"
      ],
      "execution_count": 15,
      "outputs": [
        {
          "output_type": "stream",
          "text": [
            "<class 'numpy.ndarray'>\n"
          ],
          "name": "stdout"
        }
      ]
    },
    {
      "cell_type": "code",
      "metadata": {
        "colab": {
          "base_uri": "https://localhost:8080/"
        },
        "id": "tFg3w9kRBZNN",
        "outputId": "293e4f3c-4108-4c68-f3ed-92fd187f9af6"
      },
      "source": [
        "# Fit LSTM model\n",
        "#source: https://apmonitor.com/do/index.php/Main/LSTMNetwork\n",
        "# model = createLstmModel()\n",
        "# history = model.fit(X_ready, Y , epochs = 2, batch_size = 150, class_weight = {0: 1/66639, 1: 1/(1-66639)})\n",
        "\n",
        "#400\n",
        "\n",
        "history = model.fit(X_ready, \n",
        "          Y,  \n",
        "          epochs=300,\n",
        "          batch_size = 150,\n",
        "          callbacks=[cp_callback], class_weight = {0: 1/p, 1: 1/(1-p)} , validation_split = 0.3) \n",
        "# plt.figure()\n",
        "# plt.ylabel('loss'); plt.xlabel('epoch')\n",
        "# plt.semilogy(history.history['loss'])"
      ],
      "execution_count": null,
      "outputs": [
        {
          "output_type": "stream",
          "text": [
            "Epoch 1/300\n",
            "368/368 [==============================] - ETA: 0s - loss: 0.7922 - f1_m: 0.5289 - auc_2: 0.9005 - accuracy: 0.7599\n",
            "Epoch 00001: saving model to /content/drive/MyDrive/Final/lstm.ckpt\n",
            "368/368 [==============================] - 18s 48ms/step - loss: 0.7922 - f1_m: 0.5289 - auc_2: 0.9005 - accuracy: 0.7599 - val_loss: 0.6022 - val_f1_m: 0.4759 - val_auc_2: 0.8451 - val_accuracy: 0.7353\n",
            "Epoch 2/300\n",
            "367/368 [============================>.] - ETA: 0s - loss: 0.7975 - f1_m: 0.5260 - auc_2: 0.8980 - accuracy: 0.7545\n",
            "Epoch 00002: saving model to /content/drive/MyDrive/Final/lstm.ckpt\n",
            "368/368 [==============================] - 17s 46ms/step - loss: 0.7971 - f1_m: 0.5259 - auc_2: 0.8981 - accuracy: 0.7545 - val_loss: 0.6486 - val_f1_m: 0.4473 - val_auc_2: 0.8447 - val_accuracy: 0.6847\n",
            "Epoch 3/300\n",
            "368/368 [==============================] - ETA: 0s - loss: 0.7971 - f1_m: 0.5300 - auc_2: 0.9010 - accuracy: 0.7591\n",
            "Epoch 00003: saving model to /content/drive/MyDrive/Final/lstm.ckpt\n",
            "368/368 [==============================] - 17s 46ms/step - loss: 0.7971 - f1_m: 0.5300 - auc_2: 0.9010 - accuracy: 0.7591 - val_loss: 0.5901 - val_f1_m: 0.4799 - val_auc_2: 0.8466 - val_accuracy: 0.7464\n",
            "Epoch 4/300\n",
            "367/368 [============================>.] - ETA: 0s - loss: 0.7888 - f1_m: 0.5290 - auc_2: 0.9016 - accuracy: 0.7588\n",
            "Epoch 00004: saving model to /content/drive/MyDrive/Final/lstm.ckpt\n",
            "368/368 [==============================] - 17s 46ms/step - loss: 0.7909 - f1_m: 0.5290 - auc_2: 0.9015 - accuracy: 0.7588 - val_loss: 0.6667 - val_f1_m: 0.4525 - val_auc_2: 0.8437 - val_accuracy: 0.6992\n",
            "Epoch 5/300\n",
            "367/368 [============================>.] - ETA: 0s - loss: 0.7966 - f1_m: 0.5343 - auc_2: 0.9002 - accuracy: 0.7654\n",
            "Epoch 00005: saving model to /content/drive/MyDrive/Final/lstm.ckpt\n",
            "368/368 [==============================] - 17s 46ms/step - loss: 0.7967 - f1_m: 0.5344 - auc_2: 0.9001 - accuracy: 0.7655 - val_loss: 0.5690 - val_f1_m: 0.4801 - val_auc_2: 0.8437 - val_accuracy: 0.7523\n",
            "Epoch 6/300\n",
            "367/368 [============================>.] - ETA: 0s - loss: 0.7943 - f1_m: 0.5288 - auc_2: 0.8999 - accuracy: 0.7601\n",
            "Epoch 00006: saving model to /content/drive/MyDrive/Final/lstm.ckpt\n",
            "368/368 [==============================] - 17s 46ms/step - loss: 0.7942 - f1_m: 0.5286 - auc_2: 0.8999 - accuracy: 0.7601 - val_loss: 0.5910 - val_f1_m: 0.4775 - val_auc_2: 0.8442 - val_accuracy: 0.7453\n",
            "Epoch 7/300\n",
            "367/368 [============================>.] - ETA: 0s - loss: 0.7913 - f1_m: 0.5305 - auc_2: 0.9009 - accuracy: 0.7600\n",
            "Epoch 00007: saving model to /content/drive/MyDrive/Final/lstm.ckpt\n",
            "368/368 [==============================] - 17s 46ms/step - loss: 0.7909 - f1_m: 0.5302 - auc_2: 0.9009 - accuracy: 0.7600 - val_loss: 0.6059 - val_f1_m: 0.5027 - val_auc_2: 0.8466 - val_accuracy: 0.7823\n",
            "Epoch 8/300\n",
            "367/368 [============================>.] - ETA: 0s - loss: 0.8087 - f1_m: 0.5289 - auc_2: 0.8964 - accuracy: 0.7623\n",
            "Epoch 00008: saving model to /content/drive/MyDrive/Final/lstm.ckpt\n",
            "368/368 [==============================] - 17s 46ms/step - loss: 0.8088 - f1_m: 0.5289 - auc_2: 0.8964 - accuracy: 0.7623 - val_loss: 0.8615 - val_f1_m: 0.4286 - val_auc_2: 0.8385 - val_accuracy: 0.6529\n",
            "Epoch 9/300\n",
            "368/368 [==============================] - ETA: 0s - loss: 0.7942 - f1_m: 0.5348 - auc_2: 0.9002 - accuracy: 0.7685\n",
            "Epoch 00009: saving model to /content/drive/MyDrive/Final/lstm.ckpt\n",
            "368/368 [==============================] - 17s 46ms/step - loss: 0.7942 - f1_m: 0.5348 - auc_2: 0.9002 - accuracy: 0.7685 - val_loss: 0.6611 - val_f1_m: 0.4794 - val_auc_2: 0.8410 - val_accuracy: 0.7524\n",
            "Epoch 10/300\n",
            "367/368 [============================>.] - ETA: 0s - loss: 0.9326 - f1_m: 0.5042 - auc_2: 0.8714 - accuracy: 0.7464\n",
            "Epoch 00010: saving model to /content/drive/MyDrive/Final/lstm.ckpt\n",
            "368/368 [==============================] - 17s 46ms/step - loss: 0.9325 - f1_m: 0.5043 - auc_2: 0.8714 - accuracy: 0.7464 - val_loss: 0.4965 - val_f1_m: 0.4803 - val_auc_2: 0.8358 - val_accuracy: 0.7626\n",
            "Epoch 11/300\n",
            "367/368 [============================>.] - ETA: 0s - loss: 0.8854 - f1_m: 0.5125 - auc_2: 0.8783 - accuracy: 0.7549\n",
            "Epoch 00011: saving model to /content/drive/MyDrive/Final/lstm.ckpt\n",
            "368/368 [==============================] - 17s 47ms/step - loss: 0.8853 - f1_m: 0.5122 - auc_2: 0.8783 - accuracy: 0.7547 - val_loss: 0.5818 - val_f1_m: 0.4768 - val_auc_2: 0.8385 - val_accuracy: 0.7477\n",
            "Epoch 12/300\n",
            "368/368 [==============================] - ETA: 0s - loss: 0.8734 - f1_m: 0.5157 - auc_2: 0.8812 - accuracy: 0.7551\n",
            "Epoch 00012: saving model to /content/drive/MyDrive/Final/lstm.ckpt\n",
            "368/368 [==============================] - 17s 47ms/step - loss: 0.8734 - f1_m: 0.5157 - auc_2: 0.8812 - accuracy: 0.7551 - val_loss: 0.5742 - val_f1_m: 0.4601 - val_auc_2: 0.8426 - val_accuracy: 0.7111\n",
            "Epoch 13/300\n",
            "368/368 [==============================] - ETA: 0s - loss: 0.8235 - f1_m: 0.5269 - auc_2: 0.8919 - accuracy: 0.7660\n",
            "Epoch 00013: saving model to /content/drive/MyDrive/Final/lstm.ckpt\n",
            "368/368 [==============================] - 17s 47ms/step - loss: 0.8235 - f1_m: 0.5269 - auc_2: 0.8919 - accuracy: 0.7660 - val_loss: 0.5987 - val_f1_m: 0.4945 - val_auc_2: 0.8441 - val_accuracy: 0.7735\n",
            "Epoch 14/300\n",
            "368/368 [==============================] - ETA: 0s - loss: 0.8323 - f1_m: 0.5227 - auc_2: 0.8928 - accuracy: 0.7588\n",
            "Epoch 00014: saving model to /content/drive/MyDrive/Final/lstm.ckpt\n",
            "368/368 [==============================] - 17s 46ms/step - loss: 0.8323 - f1_m: 0.5227 - auc_2: 0.8928 - accuracy: 0.7588 - val_loss: 0.6107 - val_f1_m: 0.4684 - val_auc_2: 0.8410 - val_accuracy: 0.7314\n",
            "Epoch 15/300\n",
            "367/368 [============================>.] - ETA: 0s - loss: 0.8304 - f1_m: 0.5208 - auc_2: 0.8927 - accuracy: 0.7562\n",
            "Epoch 00015: saving model to /content/drive/MyDrive/Final/lstm.ckpt\n",
            "368/368 [==============================] - 17s 46ms/step - loss: 0.8305 - f1_m: 0.5207 - auc_2: 0.8927 - accuracy: 0.7562 - val_loss: 0.5748 - val_f1_m: 0.4620 - val_auc_2: 0.8424 - val_accuracy: 0.7172\n",
            "Epoch 16/300\n",
            "367/368 [============================>.] - ETA: 0s - loss: 0.8655 - f1_m: 0.5155 - auc_2: 0.8861 - accuracy: 0.7520\n",
            "Epoch 00016: saving model to /content/drive/MyDrive/Final/lstm.ckpt\n",
            "368/368 [==============================] - 17s 46ms/step - loss: 0.8653 - f1_m: 0.5152 - auc_2: 0.8861 - accuracy: 0.7518 - val_loss: 0.5526 - val_f1_m: 0.4865 - val_auc_2: 0.8433 - val_accuracy: 0.7647\n",
            "Epoch 17/300\n",
            "368/368 [==============================] - ETA: 0s - loss: 0.8219 - f1_m: 0.5295 - auc_2: 0.8952 - accuracy: 0.7656\n",
            "Epoch 00017: saving model to /content/drive/MyDrive/Final/lstm.ckpt\n",
            "368/368 [==============================] - 17s 46ms/step - loss: 0.8219 - f1_m: 0.5295 - auc_2: 0.8952 - accuracy: 0.7656 - val_loss: 0.5327 - val_f1_m: 0.5008 - val_auc_2: 0.8448 - val_accuracy: 0.8017\n",
            "Epoch 18/300\n",
            "367/368 [============================>.] - ETA: 0s - loss: 0.8629 - f1_m: 0.5261 - auc_2: 0.8948 - accuracy: 0.7623\n",
            "Epoch 00018: saving model to /content/drive/MyDrive/Final/lstm.ckpt\n",
            "368/368 [==============================] - 17s 46ms/step - loss: 0.8628 - f1_m: 0.5261 - auc_2: 0.8948 - accuracy: 0.7621 - val_loss: 0.5822 - val_f1_m: 0.4646 - val_auc_2: 0.8408 - val_accuracy: 0.7213\n",
            "Epoch 19/300\n",
            "368/368 [==============================] - ETA: 0s - loss: 0.8119 - f1_m: 0.5280 - auc_2: 0.8960 - accuracy: 0.7632\n",
            "Epoch 00019: saving model to /content/drive/MyDrive/Final/lstm.ckpt\n",
            "368/368 [==============================] - 17s 47ms/step - loss: 0.8119 - f1_m: 0.5280 - auc_2: 0.8960 - accuracy: 0.7632 - val_loss: 0.6948 - val_f1_m: 0.4445 - val_auc_2: 0.8429 - val_accuracy: 0.6814\n",
            "Epoch 20/300\n",
            "367/368 [============================>.] - ETA: 0s - loss: 0.8103 - f1_m: 0.5337 - auc_2: 0.8975 - accuracy: 0.7667\n",
            "Epoch 00020: saving model to /content/drive/MyDrive/Final/lstm.ckpt\n",
            "368/368 [==============================] - 17s 47ms/step - loss: 0.8141 - f1_m: 0.5333 - auc_2: 0.8973 - accuracy: 0.7666 - val_loss: 0.5572 - val_f1_m: 0.4538 - val_auc_2: 0.8409 - val_accuracy: 0.7062\n",
            "Epoch 21/300\n",
            "368/368 [==============================] - ETA: 0s - loss: 0.8068 - f1_m: 0.5304 - auc_2: 0.8987 - accuracy: 0.7642\n",
            "Epoch 00021: saving model to /content/drive/MyDrive/Final/lstm.ckpt\n",
            "368/368 [==============================] - 18s 49ms/step - loss: 0.8068 - f1_m: 0.5304 - auc_2: 0.8987 - accuracy: 0.7642 - val_loss: 0.5547 - val_f1_m: 0.4865 - val_auc_2: 0.8440 - val_accuracy: 0.7606\n",
            "Epoch 22/300\n",
            "368/368 [==============================] - ETA: 0s - loss: 0.8018 - f1_m: 0.5287 - auc_2: 0.8982 - accuracy: 0.7605\n",
            "Epoch 00022: saving model to /content/drive/MyDrive/Final/lstm.ckpt\n",
            "368/368 [==============================] - 18s 49ms/step - loss: 0.8018 - f1_m: 0.5287 - auc_2: 0.8982 - accuracy: 0.7605 - val_loss: 0.6218 - val_f1_m: 0.4824 - val_auc_2: 0.8434 - val_accuracy: 0.7556\n",
            "Epoch 23/300\n",
            "368/368 [==============================] - ETA: 0s - loss: 0.7948 - f1_m: 0.5346 - auc_2: 0.9007 - accuracy: 0.7662\n",
            "Epoch 00023: saving model to /content/drive/MyDrive/Final/lstm.ckpt\n",
            "368/368 [==============================] - 18s 49ms/step - loss: 0.7948 - f1_m: 0.5346 - auc_2: 0.9007 - accuracy: 0.7662 - val_loss: 0.5410 - val_f1_m: 0.5046 - val_auc_2: 0.8467 - val_accuracy: 0.7967\n",
            "Epoch 24/300\n",
            "367/368 [============================>.] - ETA: 0s - loss: 0.8993 - f1_m: 0.5294 - auc_2: 0.8982 - accuracy: 0.7643\n",
            "Epoch 00024: saving model to /content/drive/MyDrive/Final/lstm.ckpt\n",
            "368/368 [==============================] - 18s 49ms/step - loss: 0.8991 - f1_m: 0.5294 - auc_2: 0.8982 - accuracy: 0.7642 - val_loss: 0.5653 - val_f1_m: 0.4814 - val_auc_2: 0.8453 - val_accuracy: 0.7517\n",
            "Epoch 25/300\n",
            "367/368 [============================>.] - ETA: 0s - loss: 0.8022 - f1_m: 0.5362 - auc_2: 0.8983 - accuracy: 0.7681\n",
            "Epoch 00025: saving model to /content/drive/MyDrive/Final/lstm.ckpt\n",
            "368/368 [==============================] - 18s 49ms/step - loss: 0.8021 - f1_m: 0.5361 - auc_2: 0.8983 - accuracy: 0.7680 - val_loss: 0.6026 - val_f1_m: 0.4777 - val_auc_2: 0.8443 - val_accuracy: 0.7434\n",
            "Epoch 26/300\n",
            "367/368 [============================>.] - ETA: 0s - loss: 1.1349 - f1_m: 0.5296 - auc_2: 0.8973 - accuracy: 0.7621\n",
            "Epoch 00026: saving model to /content/drive/MyDrive/Final/lstm.ckpt\n",
            "368/368 [==============================] - 18s 49ms/step - loss: 1.1341 - f1_m: 0.5293 - auc_2: 0.8973 - accuracy: 0.7622 - val_loss: 0.6240 - val_f1_m: 0.4704 - val_auc_2: 0.8469 - val_accuracy: 0.7269\n",
            "Epoch 27/300\n",
            "368/368 [==============================] - ETA: 0s - loss: 1.0644 - f1_m: 0.5287 - auc_2: 0.8986 - accuracy: 0.7611\n",
            "Epoch 00027: saving model to /content/drive/MyDrive/Final/lstm.ckpt\n",
            "368/368 [==============================] - 18s 49ms/step - loss: 1.0644 - f1_m: 0.5287 - auc_2: 0.8986 - accuracy: 0.7611 - val_loss: 0.6526 - val_f1_m: 0.4506 - val_auc_2: 0.8384 - val_accuracy: 0.6974\n",
            "Epoch 28/300\n",
            "368/368 [==============================] - ETA: 0s - loss: 0.8496 - f1_m: 0.5329 - auc_2: 0.9004 - accuracy: 0.7665\n",
            "Epoch 00028: saving model to /content/drive/MyDrive/Final/lstm.ckpt\n",
            "368/368 [==============================] - 18s 49ms/step - loss: 0.8496 - f1_m: 0.5329 - auc_2: 0.9004 - accuracy: 0.7665 - val_loss: 0.5773 - val_f1_m: 0.4944 - val_auc_2: 0.8421 - val_accuracy: 0.7833\n",
            "Epoch 29/300\n",
            "367/368 [============================>.] - ETA: 0s - loss: 0.8090 - f1_m: 0.5293 - auc_2: 0.8997 - accuracy: 0.7613\n",
            "Epoch 00029: saving model to /content/drive/MyDrive/Final/lstm.ckpt\n",
            "368/368 [==============================] - 18s 50ms/step - loss: 0.8086 - f1_m: 0.5292 - auc_2: 0.8998 - accuracy: 0.7613 - val_loss: 0.6245 - val_f1_m: 0.4860 - val_auc_2: 0.8465 - val_accuracy: 0.7554\n",
            "Epoch 30/300\n",
            "368/368 [==============================] - ETA: 0s - loss: 0.7815 - f1_m: 0.5356 - auc_2: 0.9032 - accuracy: 0.7664\n",
            "Epoch 00030: saving model to /content/drive/MyDrive/Final/lstm.ckpt\n",
            "368/368 [==============================] - 18s 49ms/step - loss: 0.7815 - f1_m: 0.5356 - auc_2: 0.9032 - accuracy: 0.7664 - val_loss: 0.7136 - val_f1_m: 0.4590 - val_auc_2: 0.8446 - val_accuracy: 0.7072\n",
            "Epoch 31/300\n",
            "367/368 [============================>.] - ETA: 0s - loss: 0.7988 - f1_m: 0.5315 - auc_2: 0.9020 - accuracy: 0.7637\n",
            "Epoch 00031: saving model to /content/drive/MyDrive/Final/lstm.ckpt\n",
            "368/368 [==============================] - 18s 49ms/step - loss: 0.7991 - f1_m: 0.5317 - auc_2: 0.9020 - accuracy: 0.7636 - val_loss: 0.7549 - val_f1_m: 0.4635 - val_auc_2: 0.8449 - val_accuracy: 0.7155\n",
            "Epoch 32/300\n",
            "367/368 [============================>.] - ETA: 0s - loss: 0.7918 - f1_m: 0.5318 - auc_2: 0.9032 - accuracy: 0.7631\n",
            "Epoch 00032: saving model to /content/drive/MyDrive/Final/lstm.ckpt\n",
            "368/368 [==============================] - 18s 49ms/step - loss: 0.7920 - f1_m: 0.5319 - auc_2: 0.9031 - accuracy: 0.7630 - val_loss: 0.6934 - val_f1_m: 0.4610 - val_auc_2: 0.8415 - val_accuracy: 0.7158\n",
            "Epoch 33/300\n",
            "368/368 [==============================] - ETA: 0s - loss: 0.7935 - f1_m: 0.5372 - auc_2: 0.9014 - accuracy: 0.7696\n",
            "Epoch 00033: saving model to /content/drive/MyDrive/Final/lstm.ckpt\n",
            "368/368 [==============================] - 18s 49ms/step - loss: 0.7935 - f1_m: 0.5372 - auc_2: 0.9014 - accuracy: 0.7696 - val_loss: 0.8559 - val_f1_m: 0.4457 - val_auc_2: 0.8449 - val_accuracy: 0.6784\n",
            "Epoch 34/300\n",
            "367/368 [============================>.] - ETA: 0s - loss: 0.7828 - f1_m: 0.5346 - auc_2: 0.9027 - accuracy: 0.7669\n",
            "Epoch 00034: saving model to /content/drive/MyDrive/Final/lstm.ckpt\n",
            "368/368 [==============================] - 18s 50ms/step - loss: 0.7826 - f1_m: 0.5347 - auc_2: 0.9028 - accuracy: 0.7669 - val_loss: 0.7853 - val_f1_m: 0.4630 - val_auc_2: 0.8449 - val_accuracy: 0.7152\n",
            "Epoch 35/300\n",
            "367/368 [============================>.] - ETA: 0s - loss: 0.7878 - f1_m: 0.5338 - auc_2: 0.9034 - accuracy: 0.7656\n",
            "Epoch 00035: saving model to /content/drive/MyDrive/Final/lstm.ckpt\n",
            "368/368 [==============================] - 18s 48ms/step - loss: 0.7875 - f1_m: 0.5342 - auc_2: 0.9035 - accuracy: 0.7658 - val_loss: 0.8412 - val_f1_m: 0.4786 - val_auc_2: 0.8429 - val_accuracy: 0.7456\n",
            "Epoch 36/300\n",
            "368/368 [==============================] - ETA: 0s - loss: 0.8069 - f1_m: 0.5365 - auc_2: 0.9033 - accuracy: 0.7671\n",
            "Epoch 00036: saving model to /content/drive/MyDrive/Final/lstm.ckpt\n",
            "368/368 [==============================] - 18s 49ms/step - loss: 0.8069 - f1_m: 0.5365 - auc_2: 0.9033 - accuracy: 0.7671 - val_loss: 0.8383 - val_f1_m: 0.4473 - val_auc_2: 0.8423 - val_accuracy: 0.6855\n",
            "Epoch 37/300\n",
            "367/368 [============================>.] - ETA: 0s - loss: 0.7947 - f1_m: 0.5388 - auc_2: 0.9039 - accuracy: 0.7703\n",
            "Epoch 00037: saving model to /content/drive/MyDrive/Final/lstm.ckpt\n",
            "368/368 [==============================] - 18s 49ms/step - loss: 0.7948 - f1_m: 0.5390 - auc_2: 0.9039 - accuracy: 0.7704 - val_loss: 0.7046 - val_f1_m: 0.4686 - val_auc_2: 0.8434 - val_accuracy: 0.7284\n",
            "Epoch 38/300\n",
            "367/368 [============================>.] - ETA: 0s - loss: 1.5718 - f1_m: 0.4879 - auc_2: 0.8600 - accuracy: 0.7143\n",
            "Epoch 00038: saving model to /content/drive/MyDrive/Final/lstm.ckpt\n",
            "368/368 [==============================] - 18s 49ms/step - loss: 1.5704 - f1_m: 0.4881 - auc_2: 0.8600 - accuracy: 0.7144 - val_loss: 0.7785 - val_f1_m: 0.4431 - val_auc_2: 0.8250 - val_accuracy: 0.7021\n",
            "Epoch 39/300\n",
            "368/368 [==============================] - ETA: 0s - loss: 1.0570 - f1_m: 0.5060 - auc_2: 0.8754 - accuracy: 0.7539\n",
            "Epoch 00039: saving model to /content/drive/MyDrive/Final/lstm.ckpt\n",
            "368/368 [==============================] - 18s 49ms/step - loss: 1.0570 - f1_m: 0.5060 - auc_2: 0.8754 - accuracy: 0.7539 - val_loss: 0.7416 - val_f1_m: 0.4711 - val_auc_2: 0.8383 - val_accuracy: 0.7398\n",
            "Epoch 40/300\n",
            "367/368 [============================>.] - ETA: 0s - loss: 0.8764 - f1_m: 0.5278 - auc_2: 0.8899 - accuracy: 0.7696\n",
            "Epoch 00040: saving model to /content/drive/MyDrive/Final/lstm.ckpt\n",
            "368/368 [==============================] - 18s 50ms/step - loss: 0.8762 - f1_m: 0.5283 - auc_2: 0.8900 - accuracy: 0.7697 - val_loss: 0.8322 - val_f1_m: 0.4466 - val_auc_2: 0.8422 - val_accuracy: 0.6847\n",
            "Epoch 41/300\n",
            "367/368 [============================>.] - ETA: 0s - loss: 0.8340 - f1_m: 0.5323 - auc_2: 0.8938 - accuracy: 0.7699\n",
            "Epoch 00041: saving model to /content/drive/MyDrive/Final/lstm.ckpt\n",
            "368/368 [==============================] - 18s 49ms/step - loss: 0.8342 - f1_m: 0.5321 - auc_2: 0.8937 - accuracy: 0.7698 - val_loss: 0.7441 - val_f1_m: 0.4590 - val_auc_2: 0.8403 - val_accuracy: 0.7155\n",
            "Epoch 42/300\n",
            "368/368 [==============================] - ETA: 0s - loss: 0.8230 - f1_m: 0.5306 - auc_2: 0.8959 - accuracy: 0.7690\n",
            "Epoch 00042: saving model to /content/drive/MyDrive/Final/lstm.ckpt\n",
            "368/368 [==============================] - 18s 50ms/step - loss: 0.8230 - f1_m: 0.5306 - auc_2: 0.8959 - accuracy: 0.7690 - val_loss: 0.7362 - val_f1_m: 0.4780 - val_auc_2: 0.8435 - val_accuracy: 0.7469\n",
            "Epoch 43/300\n",
            "368/368 [==============================] - ETA: 0s - loss: 0.8217 - f1_m: 0.5392 - auc_2: 0.8980 - accuracy: 0.7746\n",
            "Epoch 00043: saving model to /content/drive/MyDrive/Final/lstm.ckpt\n",
            "368/368 [==============================] - 18s 49ms/step - loss: 0.8217 - f1_m: 0.5392 - auc_2: 0.8980 - accuracy: 0.7746 - val_loss: 0.8625 - val_f1_m: 0.4733 - val_auc_2: 0.8427 - val_accuracy: 0.7345\n",
            "Epoch 44/300\n",
            "367/368 [============================>.] - ETA: 0s - loss: 0.8125 - f1_m: 0.5340 - auc_2: 0.8985 - accuracy: 0.7692\n",
            "Epoch 00044: saving model to /content/drive/MyDrive/Final/lstm.ckpt\n",
            "368/368 [==============================] - 18s 49ms/step - loss: 0.8124 - f1_m: 0.5341 - auc_2: 0.8985 - accuracy: 0.7692 - val_loss: 0.9027 - val_f1_m: 0.4461 - val_auc_2: 0.8403 - val_accuracy: 0.6871\n",
            "Epoch 45/300\n",
            "367/368 [============================>.] - ETA: 0s - loss: 0.8124 - f1_m: 0.5368 - auc_2: 0.8994 - accuracy: 0.7722\n",
            "Epoch 00045: saving model to /content/drive/MyDrive/Final/lstm.ckpt\n",
            "368/368 [==============================] - 18s 50ms/step - loss: 0.8123 - f1_m: 0.5368 - auc_2: 0.8994 - accuracy: 0.7721 - val_loss: 0.9235 - val_f1_m: 0.4794 - val_auc_2: 0.8417 - val_accuracy: 0.7524\n",
            "Epoch 46/300\n",
            "368/368 [==============================] - ETA: 0s - loss: 0.8147 - f1_m: 0.5382 - auc_2: 0.9015 - accuracy: 0.7711\n",
            "Epoch 00046: saving model to /content/drive/MyDrive/Final/lstm.ckpt\n",
            "368/368 [==============================] - 18s 50ms/step - loss: 0.8147 - f1_m: 0.5382 - auc_2: 0.9015 - accuracy: 0.7711 - val_loss: 0.8380 - val_f1_m: 0.4897 - val_auc_2: 0.8434 - val_accuracy: 0.7729\n",
            "Epoch 47/300\n",
            "367/368 [============================>.] - ETA: 0s - loss: 0.8112 - f1_m: 0.5422 - auc_2: 0.9023 - accuracy: 0.7752\n",
            "Epoch 00047: saving model to /content/drive/MyDrive/Final/lstm.ckpt\n",
            "368/368 [==============================] - 18s 50ms/step - loss: 0.8110 - f1_m: 0.5423 - auc_2: 0.9024 - accuracy: 0.7753 - val_loss: 0.9236 - val_f1_m: 0.4172 - val_auc_2: 0.8352 - val_accuracy: 0.6308\n",
            "Epoch 48/300\n",
            "368/368 [==============================] - ETA: 0s - loss: 0.8224 - f1_m: 0.5336 - auc_2: 0.8980 - accuracy: 0.7679\n",
            "Epoch 00048: saving model to /content/drive/MyDrive/Final/lstm.ckpt\n",
            "368/368 [==============================] - 18s 49ms/step - loss: 0.8224 - f1_m: 0.5336 - auc_2: 0.8980 - accuracy: 0.7679 - val_loss: 0.7707 - val_f1_m: 0.4502 - val_auc_2: 0.8389 - val_accuracy: 0.6975\n",
            "Epoch 49/300\n",
            "367/368 [============================>.] - ETA: 0s - loss: 0.8351 - f1_m: 0.5352 - auc_2: 0.9000 - accuracy: 0.7706\n",
            "Epoch 00049: saving model to /content/drive/MyDrive/Final/lstm.ckpt\n",
            "368/368 [==============================] - 18s 49ms/step - loss: 0.8348 - f1_m: 0.5353 - auc_2: 0.9001 - accuracy: 0.7706 - val_loss: 0.7939 - val_f1_m: 0.4781 - val_auc_2: 0.8418 - val_accuracy: 0.7467\n",
            "Epoch 50/300\n",
            "368/368 [==============================] - ETA: 0s - loss: 0.8066 - f1_m: 0.5355 - auc_2: 0.9012 - accuracy: 0.7683\n",
            "Epoch 00050: saving model to /content/drive/MyDrive/Final/lstm.ckpt\n",
            "368/368 [==============================] - 18s 49ms/step - loss: 0.8066 - f1_m: 0.5355 - auc_2: 0.9012 - accuracy: 0.7683 - val_loss: 0.9949 - val_f1_m: 0.4656 - val_auc_2: 0.8410 - val_accuracy: 0.7263\n",
            "Epoch 51/300\n",
            "368/368 [==============================] - ETA: 0s - loss: 0.8069 - f1_m: 0.5368 - auc_2: 0.9004 - accuracy: 0.7712\n",
            "Epoch 00051: saving model to /content/drive/MyDrive/Final/lstm.ckpt\n",
            "368/368 [==============================] - 18s 50ms/step - loss: 0.8069 - f1_m: 0.5368 - auc_2: 0.9004 - accuracy: 0.7712 - val_loss: 0.9516 - val_f1_m: 0.4490 - val_auc_2: 0.8399 - val_accuracy: 0.6917\n",
            "Epoch 52/300\n",
            "367/368 [============================>.] - ETA: 0s - loss: 0.7896 - f1_m: 0.5338 - auc_2: 0.9023 - accuracy: 0.7666\n",
            "Epoch 00052: saving model to /content/drive/MyDrive/Final/lstm.ckpt\n",
            "368/368 [==============================] - 18s 50ms/step - loss: 0.7895 - f1_m: 0.5340 - auc_2: 0.9023 - accuracy: 0.7667 - val_loss: 0.8012 - val_f1_m: 0.5025 - val_auc_2: 0.8415 - val_accuracy: 0.8032\n",
            "Epoch 53/300\n",
            "367/368 [============================>.] - ETA: 0s - loss: 0.8123 - f1_m: 0.5367 - auc_2: 0.9018 - accuracy: 0.7682\n",
            "Epoch 00053: saving model to /content/drive/MyDrive/Final/lstm.ckpt\n",
            "368/368 [==============================] - 18s 49ms/step - loss: 0.8119 - f1_m: 0.5368 - auc_2: 0.9019 - accuracy: 0.7682 - val_loss: 0.9022 - val_f1_m: 0.4770 - val_auc_2: 0.8397 - val_accuracy: 0.7486\n",
            "Epoch 54/300\n",
            "367/368 [============================>.] - ETA: 0s - loss: 0.8013 - f1_m: 0.5329 - auc_2: 0.9020 - accuracy: 0.7662\n",
            "Epoch 00054: saving model to /content/drive/MyDrive/Final/lstm.ckpt\n",
            "368/368 [==============================] - 18s 49ms/step - loss: 0.8008 - f1_m: 0.5335 - auc_2: 0.9021 - accuracy: 0.7664 - val_loss: 0.8057 - val_f1_m: 0.4831 - val_auc_2: 0.8391 - val_accuracy: 0.7650\n",
            "Epoch 55/300\n",
            "368/368 [==============================] - ETA: 0s - loss: 0.7967 - f1_m: 0.5369 - auc_2: 0.9015 - accuracy: 0.7695\n",
            "Epoch 00055: saving model to /content/drive/MyDrive/Final/lstm.ckpt\n",
            "368/368 [==============================] - 18s 50ms/step - loss: 0.7967 - f1_m: 0.5369 - auc_2: 0.9015 - accuracy: 0.7695 - val_loss: 0.8560 - val_f1_m: 0.4750 - val_auc_2: 0.8403 - val_accuracy: 0.7440\n",
            "Epoch 56/300\n",
            "367/368 [============================>.] - ETA: 0s - loss: 0.7941 - f1_m: 0.5321 - auc_2: 0.9019 - accuracy: 0.7641\n",
            "Epoch 00056: saving model to /content/drive/MyDrive/Final/lstm.ckpt\n",
            "368/368 [==============================] - 18s 49ms/step - loss: 0.7941 - f1_m: 0.5321 - auc_2: 0.9019 - accuracy: 0.7640 - val_loss: 0.9806 - val_f1_m: 0.4671 - val_auc_2: 0.8423 - val_accuracy: 0.7280\n",
            "Epoch 57/300\n",
            "368/368 [==============================] - ETA: 0s - loss: 0.8027 - f1_m: 0.5332 - auc_2: 0.9008 - accuracy: 0.7676\n",
            "Epoch 00057: saving model to /content/drive/MyDrive/Final/lstm.ckpt\n",
            "368/368 [==============================] - 18s 50ms/step - loss: 0.8027 - f1_m: 0.5332 - auc_2: 0.9008 - accuracy: 0.7676 - val_loss: 1.0024 - val_f1_m: 0.4448 - val_auc_2: 0.8430 - val_accuracy: 0.6803\n",
            "Epoch 58/300\n",
            "368/368 [==============================] - ETA: 0s - loss: 0.7958 - f1_m: 0.5393 - auc_2: 0.9031 - accuracy: 0.7706\n",
            "Epoch 00058: saving model to /content/drive/MyDrive/Final/lstm.ckpt\n",
            "368/368 [==============================] - 18s 49ms/step - loss: 0.7958 - f1_m: 0.5393 - auc_2: 0.9031 - accuracy: 0.7706 - val_loss: 0.8791 - val_f1_m: 0.4817 - val_auc_2: 0.8411 - val_accuracy: 0.7589\n",
            "Epoch 59/300\n",
            "367/368 [============================>.] - ETA: 0s - loss: 0.7992 - f1_m: 0.5366 - auc_2: 0.9022 - accuracy: 0.7689\n",
            "Epoch 00059: saving model to /content/drive/MyDrive/Final/lstm.ckpt\n",
            "368/368 [==============================] - 18s 50ms/step - loss: 0.7989 - f1_m: 0.5364 - auc_2: 0.9022 - accuracy: 0.7689 - val_loss: 1.0097 - val_f1_m: 0.4779 - val_auc_2: 0.8403 - val_accuracy: 0.7501\n",
            "Epoch 60/300\n",
            "368/368 [==============================] - ETA: 0s - loss: 0.7926 - f1_m: 0.5391 - auc_2: 0.9036 - accuracy: 0.7722\n",
            "Epoch 00060: saving model to /content/drive/MyDrive/Final/lstm.ckpt\n",
            "368/368 [==============================] - 18s 50ms/step - loss: 0.7926 - f1_m: 0.5391 - auc_2: 0.9036 - accuracy: 0.7722 - val_loss: 1.0079 - val_f1_m: 0.4591 - val_auc_2: 0.8391 - val_accuracy: 0.7150\n",
            "Epoch 61/300\n",
            "368/368 [==============================] - ETA: 0s - loss: 0.8047 - f1_m: 0.5429 - auc_2: 0.9029 - accuracy: 0.7745\n",
            "Epoch 00061: saving model to /content/drive/MyDrive/Final/lstm.ckpt\n",
            "368/368 [==============================] - 18s 49ms/step - loss: 0.8047 - f1_m: 0.5429 - auc_2: 0.9029 - accuracy: 0.7745 - val_loss: 1.0230 - val_f1_m: 0.4668 - val_auc_2: 0.8391 - val_accuracy: 0.7283\n",
            "Epoch 62/300\n",
            "368/368 [==============================] - ETA: 0s - loss: 0.8255 - f1_m: 0.5293 - auc_2: 0.8996 - accuracy: 0.7610\n",
            "Epoch 00062: saving model to /content/drive/MyDrive/Final/lstm.ckpt\n",
            "368/368 [==============================] - 18s 50ms/step - loss: 0.8255 - f1_m: 0.5293 - auc_2: 0.8996 - accuracy: 0.7610 - val_loss: 1.1263 - val_f1_m: 0.4827 - val_auc_2: 0.8374 - val_accuracy: 0.7647\n",
            "Epoch 63/300\n",
            "368/368 [==============================] - ETA: 0s - loss: 0.8515 - f1_m: 0.5297 - auc_2: 0.8995 - accuracy: 0.7620\n",
            "Epoch 00063: saving model to /content/drive/MyDrive/Final/lstm.ckpt\n",
            "368/368 [==============================] - 19s 50ms/step - loss: 0.8515 - f1_m: 0.5297 - auc_2: 0.8995 - accuracy: 0.7620 - val_loss: 1.1112 - val_f1_m: 0.4769 - val_auc_2: 0.8406 - val_accuracy: 0.7452\n",
            "Epoch 64/300\n",
            "368/368 [==============================] - ETA: 0s - loss: 0.7957 - f1_m: 0.5340 - auc_2: 0.9018 - accuracy: 0.7677\n",
            "Epoch 00064: saving model to /content/drive/MyDrive/Final/lstm.ckpt\n",
            "368/368 [==============================] - 18s 50ms/step - loss: 0.7957 - f1_m: 0.5340 - auc_2: 0.9018 - accuracy: 0.7677 - val_loss: 1.0502 - val_f1_m: 0.4766 - val_auc_2: 0.8386 - val_accuracy: 0.7501\n",
            "Epoch 65/300\n",
            "284/368 [======================>.......] - ETA: 3s - loss: 0.7896 - f1_m: 0.5395 - auc_2: 0.9028 - accuracy: 0.7715"
          ],
          "name": "stdout"
        }
      ]
    },
    {
      "cell_type": "code",
      "metadata": {
        "id": "3h0cYcXhViIl"
      },
      "source": [
        "#source: https://www.tensorflow.org/tutorials/text/text_classification_rnn\n",
        "import matplotlib.pyplot as plt\n",
        "\n",
        "def plot_graphs(history, metric):\n",
        "  plt.plot(history.history[metric])\n",
        "  plt.plot(history.history['val_'+metric], '')\n",
        "  plt.xlabel(\"Epochs\")\n",
        "  plt.ylabel(metric)\n",
        "  plt.legend([metric, 'val_'+metric])"
      ],
      "execution_count": 19,
      "outputs": []
    },
    {
      "cell_type": "code",
      "metadata": {
        "colab": {
          "base_uri": "https://localhost:8080/",
          "height": 518
        },
        "id": "vRtUqj__VWEN",
        "outputId": "a2da28c9-4758-4fc8-d603-3386daf15cef"
      },
      "source": [
        "plt.figure(figsize=(16,8))\n",
        "plt.subplot(1,2,1)\n",
        "plot_graphs(history, 'accuracy')\n",
        "plt.ylim(None,1)\n",
        "plt.subplot(1,2,2)\n",
        "plot_graphs(history, 'loss')\n",
        "plt.ylim(0,None)"
      ],
      "execution_count": 20,
      "outputs": [
        {
          "output_type": "execute_result",
          "data": {
            "text/plain": [
              "(0.0, 2.24828150421381)"
            ]
          },
          "metadata": {
            "tags": []
          },
          "execution_count": 20
        },
        {
          "output_type": "display_data",
          "data": {
            "image/png": "[encoded data removed]",
            "text/plain": [
              "<Figure size 1152x576 with 2 Axes>"
            ]
          },
          "metadata": {
            "tags": [],
            "needs_background": "light"
          }
        }
      ]
    },
    {
      "cell_type": "code",
      "metadata": {
        "id": "-1SvJZGg58qP"
      },
      "source": [
        "import os\n",
        "checkpoint_path = \"/content/drive/MyDrive/Final/lstm.ckpt\"\n",
        "model = createLstmModel()\n",
        "model.load_weights(checkpoint_path)\n",
        "cp_callback = tf.keras.callbacks.ModelCheckpoint(filepath=checkpoint_path,save_weights_only=True,verbose=1)"
      ],
      "execution_count": 21,
      "outputs": []
    },
    {
      "cell_type": "code",
      "metadata": {
        "id": "p_VhYnq4BZNQ"
      },
      "source": [
        "# class_weight = {0: 1/66639, 1: 1/(1- (1/66639))}\n",
        "# model = KerasClassifier(build_fn=createLstmModel , epochs=1000   )\n",
        "\n",
        "# # class_weights = class_weight.compute_class_weight('balanced', np.unique(Y), Y)\n",
        "# # pipeline =  [\n",
        "# # #         ('tokenizer', Tokenizer(num_words = max_feature, lower = True, split = ' ')),\n",
        "# # #         ('pad', pad_sequences(sequences = X , maxlen = max_feature, padding = 'pre')),\n",
        "# #         ('estimator', model)\n",
        "# #     ]\n",
        "\n",
        "# parameters = { 'dropout' : [0.5,0.1, 0.01], 'units':[100,  300, 700, 1000] , 'batch_size' :[150]\n",
        "# #     'tokenizer__num_words': (100, 200, 300),\n",
        "# #     'pad__maxlen':( 200, 300, 400),\n",
        "    \n",
        "#     # 'estimator__dropout': (0.5,0.1, 0.01),\n",
        "#     # 'estimator__units' :(100,  300, 700, 1000)\n",
        "   \n",
        "# }\n",
        "\n",
        "\n",
        "# #source: https://datascience.stackexchange.com/questions/13490/how-to-set-class-weights-for-imbalanced-classes-in-keras\n",
        "\n",
        "# # grid_search_tune = GridSearchCV(Pipeline(pipeline), parameters, cv=20, verbose=1  )\n",
        "\n",
        "# grid_search_tune = GridSearchCV(model , parameters, cv=20 , verbose=1)\n",
        "\n",
        "# LSTM = grid_search_tune.fit(X, Y)\n",
        "#?????????? check batch_size and Class_weight\n"
      ],
      "execution_count": null,
      "outputs": []
    },
    {
      "cell_type": "code",
      "metadata": {
        "id": "E6kfl2FVBZNU"
      },
      "source": [
        "# print (grid_search_tune.best_estimator_.steps)\n",
        "\n",
        "# print ('Best Parameter for LSTM ',grid_search_tune.best_params_)\n",
        "# print('Best Score for LSTM: ',grid_search_tune.best_score_)"
      ],
      "execution_count": null,
      "outputs": []
    },
    {
      "cell_type": "code",
      "metadata": {
        "id": "httu2ESUBZNX"
      },
      "source": [
        "\n",
        "\n",
        "#converting words to vectors\n",
        "tokenizer.fit_on_texts(X_test )\n",
        "\n",
        "X_temp = tokenizer.texts_to_sequences(X_test)\n",
        "\n",
        "#pad sequence is used to ensure that all sequences in a list have the same length.\n",
        "X_ready_test = pad_sequences(sequences = X_temp, maxlen = max_len, padding = 'pre')\n",
        "\n",
        "\n"
      ],
      "execution_count": null,
      "outputs": []
    },
    {
      "cell_type": "code",
      "metadata": {
        "id": "7hnhjannBZNa"
      },
      "source": [
        "y_predict =model.predict(X_ready_test)"
      ],
      "execution_count": null,
      "outputs": []
    },
    {
      "cell_type": "code",
      "metadata": {
        "id": "55u_D1VsBZNd"
      },
      "source": [
        "# print('Accuracy: ' , accuracy_score( Y_test,y_predict))\n",
        "# #Source: https://scikit-learn.org/stable/modules/generated/sklearn.metrics.f1_score.html#sklearn.metrics.f1_score\n",
        "# print('F1-score: ', f1_score(Y_test, y_predict))\n",
        "# #source: https://scikit-learn.org/stable/modules/generated/sklearn.metrics.roc_auc_score.html#sklearn.metrics.roc_auc_score\n",
        "# print('roc_auc_score: ', roc_auc_score(Y_test, y_predict))"
      ],
      "execution_count": null,
      "outputs": []
    },
    {
      "cell_type": "code",
      "metadata": {
        "colab": {
          "base_uri": "https://localhost:8080/"
        },
        "id": "phGDKAmbvAw4",
        "outputId": "97a68bdd-8c8f-41f0-bd7e-2a4ca74f36a2"
      },
      "source": [
        "loss, f1_score, auc,accuracy = model.evaluate(X_ready_test, Y_test, verbose=0)\n",
        "print('Accuracy:  %.3f' , accuracy)\n",
        "\n",
        "print('F1-score:  %.3f', f1_score)\n",
        "\n",
        "print('roc_auc_score:  %.3f', auc)\n"
      ],
      "execution_count": null,
      "outputs": [
        {
          "output_type": "stream",
          "text": [
            "Accuracy:  %.3f 0.627826452255249\n",
            "F1-score:  %.3f 0.25447702407836914\n",
            "roc_auc_score:  %.3f 0.5802638530731201\n"
          ],
          "name": "stdout"
        }
      ]
    },
    {
      "cell_type": "code",
      "metadata": {
        "id": "iHrwAEXb-nvo"
      },
      "source": [
        ""
      ],
      "execution_count": null,
      "outputs": []
    }
  ]
}