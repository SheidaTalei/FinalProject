{
  "nbformat": 4,
  "nbformat_minor": 0,
  "metadata": {
    "kernelspec": {
      "display_name": "Python 3",
      "language": "python",
      "name": "python3"
    },
    "language_info": {
      "codemirror_mode": {
        "name": "ipython",
        "version": 3
      },
      "file_extension": ".py",
      "mimetype": "text/x-python",
      "name": "python",
      "nbconvert_exporter": "python",
      "pygments_lexer": "ipython3",
      "version": "3.8.5"
    },
    "colab": {
      "name": "SheidaTalei_LSTM_FinalProject.ipynb",
      "provenance": [],
      "collapsed_sections": [],
      "include_colab_link": true
    },
    "accelerator": "GPU"
  },
  "cells": [
    {
      "cell_type": "markdown",
      "metadata": {
        "id": "view-in-github",
        "colab_type": "text"
      },
      "source": [
        "<a href=\"https://colab.research.google.com/github/SheidaTalei/FinalProject/blob/main/SheidaTalei_LSTM_FinalProject.ipynb\" target=\"_parent\"><img src=\"https://colab.research.google.com/assets/colab-badge.svg\" alt=\"Open In Colab\"/></a>"
      ]
    },
    {
      "cell_type": "code",
      "metadata": {
        "id": "Aphu-A5aCfZ8",
        "colab": {
          "base_uri": "https://localhost:8080/"
        },
        "outputId": "03e56196-45f9-4898-ffc5-65c069093827"
      },
      "source": [
        "from google.colab import drive\n",
        "drive.mount('/content/drive')"
      ],
      "execution_count": 1,
      "outputs": [
        {
          "output_type": "stream",
          "text": [
            "Mounted at /content/drive\n"
          ],
          "name": "stdout"
        }
      ]
    },
    {
      "cell_type": "code",
      "metadata": {
        "id": "9yv90hltCOCz"
      },
      "source": [
        "import numpy as np\n",
        "import pandas as pd\n",
        "from sklearn.feature_extraction.text import TfidfVectorizer\n",
        "#Convert a collection of raw documents to a matrix of TF-IDF features.\n",
        "from sklearn.model_selection import train_test_split\n",
        "from sklearn.metrics import accuracy_score\n",
        "import regex\n",
        "import tensorflow as tf\n",
        "from tensorflow import keras\n",
        "from tensorflow.keras import layers\n",
        "\n",
        "import re\n",
        "import string"
      ],
      "execution_count": 46,
      "outputs": []
    },
    {
      "cell_type": "code",
      "metadata": {
        "id": "rzzSJswNBZMU"
      },
      "source": [
        "from tensorflow.keras.preprocessing.text import Tokenizer\n",
        "from tensorflow.keras.preprocessing.sequence import pad_sequences\n",
        "from keras.models import Sequential\n",
        "from keras.models import Sequential\n",
        "from keras.layers import Dense\n",
        "from keras.layers import LSTM\n",
        "from keras.layers import Dropout\n",
        "from keras.layers import Embedding\n",
        "from keras.layers import MaxPooling1D\n",
        "from keras.layers import Conv1D\n",
        "\n",
        "\n",
        "from keras.wrappers.scikit_learn import KerasRegressor\n",
        "from sklearn.pipeline import Pipeline\n",
        "from sklearn.model_selection import GridSearchCV\n",
        "from keras.wrappers.scikit_learn import KerasClassifier\n",
        "\n",
        "\n",
        "\n",
        "from sklearn.metrics import accuracy_score\n",
        "from sklearn.metrics import f1_score\n",
        "from sklearn.metrics import roc_auc_score\n",
        "\n"
      ],
      "execution_count": 47,
      "outputs": []
    },
    {
      "cell_type": "code",
      "metadata": {
        "id": "op2BCxa7DQo_"
      },
      "source": [
        "#------------------------------------------Empty Rows Removal----------------------------------------------------------------\n",
        "# This function Will: 1- Remove all empty rows from csv file 2- Save data to the same csv\n",
        "def removeEmptyRows(fileName):\n",
        "    df = pd.read_csv(fileName, encoding='utf-8-sig')\n",
        "    df = df.dropna(subset=['text'], how='all', axis=0) \n",
        "    df.to_csv(fileName, header=True, encoding='utf-8-sig',  index=False)\n",
        "    \n",
        "    return df"
      ],
      "execution_count": 48,
      "outputs": []
    },
    {
      "cell_type": "code",
      "metadata": {
        "id": "vbkTBwewpruI"
      },
      "source": [
        "X_and_Y = removeEmptyRows ('/content/drive/MyDrive/Final/Prepared_train_Data.csv')\n",
        "\n",
        "Y= X_and_Y.Label\n",
        "X = X_and_Y.text"
      ],
      "execution_count": 49,
      "outputs": []
    },
    {
      "cell_type": "code",
      "metadata": {
        "id": "KlCKP5_5prmZ"
      },
      "source": [
        "X_and_Y_test = removeEmptyRows('/content/drive/MyDrive/Final/Prepared_test_Data.csv')\n",
        "Y_test= X_and_Y_test.Label\n",
        "X_test = X_and_Y_test.text"
      ],
      "execution_count": 50,
      "outputs": []
    },
    {
      "cell_type": "code",
      "metadata": {
        "id": "tEhEElBKBZNC"
      },
      "source": [
        "#converting words to vectors\n",
        "max_feature = 200\n",
        "tokenizer = Tokenizer(num_words = max_feature, lower = True, split = ' ')\n",
        "tokenizer.fit_on_texts(X )\n",
        "\n",
        "\n",
        "X = tokenizer.texts_to_sequences(X)\n",
        "\n",
        "#pad sequence is used to ensure that all sequences in a list have the same length.\n",
        "X = pad_sequences(sequences = X, maxlen = max_feature, padding = 'pre')"
      ],
      "execution_count": 51,
      "outputs": []
    },
    {
      "cell_type": "code",
      "metadata": {
        "id": "4c4XDKwhBZNH"
      },
      "source": [
        "def createLstmModel(units = 200, dropout = 0.5 ):\n",
        "    \n",
        "    \n",
        "   #https://www.tensorflow.org/tutorials/text/text_classification_rnn\n",
        "        \n",
        "    #Adding Layers\n",
        "    model = Sequential()\n",
        "    model.add(Embedding(input_dim=300, output_dim=units))\n",
        "\n",
        "    model.add(Conv1D(filters=32, kernel_size=5, padding='same', activation='relu'))\n",
        "    model.add(MaxPooling1D(pool_size=2))  \n",
        "   \n",
        "    # model.add(LSTM(units = units , dropout = 0.2, return_sequences=True ))\n",
        "    # model.add(Dense(units = units, activation=\"relu\"))\n",
        "    # model.add(Dropout(rate = dropout))\n",
        "\n",
        "\n",
        "  \n",
        "    model.add(LSTM(units = units , dropout = 0.2))\n",
        "    model.add(Dense(units = units, activation=\"relu\"))\n",
        "    model.add(Dropout(rate = dropout))\n",
        "\n",
        "    model.add(Dense(units = 1 ,activation=\"sigmoid\"))\n",
        "    model.compile(optimizer='adam', loss='binary_crossentropy', metrics=[tf.keras.metrics.AUC(), 'accuracy'])\n",
        "#     model.fit(X, Y_train)\n",
        "#     model.summary()\n",
        "    return model\n"
      ],
      "execution_count": 52,
      "outputs": []
    },
    {
      "cell_type": "code",
      "metadata": {
        "id": "tFg3w9kRBZNN"
      },
      "source": [
        "# Fit LSTM model\n",
        "#source: https://apmonitor.com/do/index.php/Main/LSTMNetwork\n",
        "# model = createLstmModel()\n",
        "# history = model.fit(X, Y_train , epochs = 1)\n",
        "\n",
        "# plt.figure()\n",
        "# plt.ylabel('loss'); plt.xlabel('epoch')\n",
        "# plt.semilogy(history.history['loss'])"
      ],
      "execution_count": 53,
      "outputs": []
    },
    {
      "cell_type": "code",
      "metadata": {
        "id": "p_VhYnq4BZNQ",
        "colab": {
          "base_uri": "https://localhost:8080/"
        },
        "outputId": "624fee71-f2c6-4b7e-c59f-cd11ac2bc4bd"
      },
      "source": [
        "model = KerasClassifier(build_fn=createLstmModel, epochs=1)\n",
        "\n",
        "\n",
        "pipeline =  [\n",
        "#         ('tokenizer', Tokenizer(num_words = max_feature, lower = True, split = ' ')),\n",
        "#         ('pad', pad_sequences(sequences = X , maxlen = max_feature, padding = 'pre')),\n",
        "        ('estimator', model)\n",
        "    ]\n",
        "\n",
        "parameters = {\n",
        "#     'tokenizer__num_words': (100, 200, 300),\n",
        "#     'pad__maxlen':( 200, 300, 400),\n",
        "    \n",
        "    'estimator__dropout': (0.5,0.1, 0.01),\n",
        "    'estimator__units' :(100,  300, 700, 1000)\n",
        "}\n",
        "\n",
        "grid_search_tune = GridSearchCV(Pipeline(pipeline), parameters, cv=3, verbose=1)\n",
        "\n",
        "LSTM = grid_search_tune.fit(X, Y)\n",
        "\n"
      ],
      "execution_count": 54,
      "outputs": [
        {
          "output_type": "stream",
          "text": [
            "Fitting 3 folds for each of 12 candidates, totalling 36 fits\n"
          ],
          "name": "stdout"
        },
        {
          "output_type": "stream",
          "text": [
            "[Parallel(n_jobs=1)]: Using backend SequentialBackend with 1 concurrent workers.\n"
          ],
          "name": "stderr"
        },
        {
          "output_type": "stream",
          "text": [
            "631/631 [==============================] - 6s 10ms/step - loss: 0.5485 - auc_74: 0.5011 - accuracy: 0.7688\n",
            "316/316 [==============================] - 2s 6ms/step - loss: 0.5283 - auc_74: 0.4924 - accuracy: 0.7794\n",
            "631/631 [==============================] - 7s 11ms/step - loss: 0.5450 - auc_75: 0.4956 - accuracy: 0.7729\n",
            "316/316 [==============================] - 2s 5ms/step - loss: 0.5402 - auc_75: 0.4913 - accuracy: 0.7719\n",
            "631/631 [==============================] - 7s 10ms/step - loss: 0.5408 - auc_76: 0.4981 - accuracy: 0.7755\n",
            "316/316 [==============================] - 2s 6ms/step - loss: 0.5456 - auc_76: 0.5005 - accuracy: 0.7664\n",
            "631/631 [==============================] - 9s 14ms/step - loss: 0.5466 - auc_77: 0.5079 - accuracy: 0.7685\n",
            "316/316 [==============================] - 2s 6ms/step - loss: 0.5279 - auc_77: 0.4935 - accuracy: 0.7794\n",
            "631/631 [==============================] - 9s 15ms/step - loss: 0.5435 - auc_78: 0.5081 - accuracy: 0.7727\n",
            "316/316 [==============================] - 2s 7ms/step - loss: 0.5379 - auc_78: 0.4940 - accuracy: 0.7719\n",
            "631/631 [==============================] - 9s 14ms/step - loss: 0.5420 - auc_79: 0.4886 - accuracy: 0.7754\n",
            "316/316 [==============================] - 2s 6ms/step - loss: 0.5467 - auc_79: 0.4932 - accuracy: 0.7664\n",
            "631/631 [==============================] - 20s 32ms/step - loss: 0.5469 - auc_80: 0.5023 - accuracy: 0.7690\n",
            "316/316 [==============================] - 4s 13ms/step - loss: 0.5292 - auc_80: 0.5011 - accuracy: 0.7794\n",
            "631/631 [==============================] - 20s 32ms/step - loss: 0.5479 - auc_81: 0.5026 - accuracy: 0.7727\n",
            "316/316 [==============================] - 4s 14ms/step - loss: 0.5439 - auc_81: 0.5040 - accuracy: 0.7719\n",
            "631/631 [==============================] - 20s 32ms/step - loss: 0.5415 - auc_82: 0.5037 - accuracy: 0.7749\n",
            "316/316 [==============================] - 4s 14ms/step - loss: 0.5444 - auc_82: 0.4926 - accuracy: 0.7664\n",
            "631/631 [==============================] - 31s 50ms/step - loss: 0.5509 - auc_83: 0.5017 - accuracy: 0.7682\n",
            "316/316 [==============================] - 6s 20ms/step - loss: 0.5282 - auc_83: 0.5061 - accuracy: 0.7794\n",
            "631/631 [==============================] - 31s 50ms/step - loss: 0.5420 - auc_84: 0.5103 - accuracy: 0.7724\n",
            "316/316 [==============================] - 6s 20ms/step - loss: 0.5403 - auc_84: 0.5049 - accuracy: 0.7719\n",
            "631/631 [==============================] - 31s 49ms/step - loss: 0.5402 - auc_85: 0.5037 - accuracy: 0.7752\n",
            "316/316 [==============================] - 6s 20ms/step - loss: 0.5452 - auc_85: 0.4963 - accuracy: 0.7664\n",
            "631/631 [==============================] - 7s 10ms/step - loss: 0.5454 - auc_86: 0.5085 - accuracy: 0.7691\n",
            "316/316 [==============================] - 2s 5ms/step - loss: 0.5279 - auc_86: 0.4929 - accuracy: 0.7794\n",
            "631/631 [==============================] - 7s 11ms/step - loss: 0.5408 - auc_87: 0.4985 - accuracy: 0.7726\n",
            "316/316 [==============================] - 2s 5ms/step - loss: 0.5379 - auc_87: 0.5019 - accuracy: 0.7719\n",
            "631/631 [==============================] - 6s 10ms/step - loss: 0.5387 - auc_88: 0.4952 - accuracy: 0.7750\n",
            "316/316 [==============================] - 2s 5ms/step - loss: 0.5454 - auc_88: 0.5000 - accuracy: 0.7664\n",
            "631/631 [==============================] - 9s 14ms/step - loss: 0.5458 - auc_89: 0.4970 - accuracy: 0.7690\n",
            "316/316 [==============================] - 2s 6ms/step - loss: 0.5307 - auc_89: 0.4941 - accuracy: 0.7794\n",
            "631/631 [==============================] - 9s 15ms/step - loss: 0.5411 - auc_90: 0.5043 - accuracy: 0.7717\n",
            "316/316 [==============================] - 2s 6ms/step - loss: 0.5371 - auc_90: 0.5052 - accuracy: 0.7719\n",
            "631/631 [==============================] - 9s 15ms/step - loss: 0.5384 - auc_91: 0.4971 - accuracy: 0.7754\n",
            "316/316 [==============================] - 2s 7ms/step - loss: 0.5455 - auc_91: 0.5011 - accuracy: 0.7664\n",
            "631/631 [==============================] - 20s 32ms/step - loss: 0.5461 - auc_92: 0.4988 - accuracy: 0.7691\n",
            "316/316 [==============================] - 4s 13ms/step - loss: 0.5309 - auc_92: 0.4913 - accuracy: 0.7794\n",
            "631/631 [==============================] - 20s 32ms/step - loss: 0.5441 - auc_93: 0.5083 - accuracy: 0.7728\n",
            "316/316 [==============================] - 4s 13ms/step - loss: 0.5434 - auc_93: 0.4927 - accuracy: 0.7719\n",
            "631/631 [==============================] - 20s 32ms/step - loss: 0.5417 - auc_94: 0.5065 - accuracy: 0.7756\n",
            "316/316 [==============================] - 4s 13ms/step - loss: 0.5440 - auc_94: 0.5018 - accuracy: 0.7664\n",
            "631/631 [==============================] - 31s 50ms/step - loss: 0.5464 - auc_95: 0.5006 - accuracy: 0.7679\n",
            "316/316 [==============================] - 6s 20ms/step - loss: 0.5335 - auc_95: 0.4896 - accuracy: 0.7794\n",
            "631/631 [==============================] - 31s 50ms/step - loss: 0.5420 - auc_96: 0.4952 - accuracy: 0.7725\n",
            "316/316 [==============================] - 6s 20ms/step - loss: 0.5420 - auc_96: 0.4961 - accuracy: 0.7719\n",
            "631/631 [==============================] - 31s 50ms/step - loss: 0.5411 - auc_97: 0.4972 - accuracy: 0.7754\n",
            "316/316 [==============================] - 6s 20ms/step - loss: 0.5443 - auc_97: 0.5002 - accuracy: 0.7664\n",
            "631/631 [==============================] - 7s 10ms/step - loss: 0.5454 - auc_98: 0.4928 - accuracy: 0.7686\n",
            "316/316 [==============================] - 2s 5ms/step - loss: 0.5279 - auc_98: 0.5028 - accuracy: 0.7794\n",
            "631/631 [==============================] - 6s 10ms/step - loss: 0.5402 - auc_99: 0.4935 - accuracy: 0.7729\n",
            "316/316 [==============================] - 2s 6ms/step - loss: 0.5433 - auc_99: 0.4961 - accuracy: 0.7719\n",
            "631/631 [==============================] - 7s 10ms/step - loss: 0.5362 - auc_100: 0.5004 - accuracy: 0.7754\n",
            "316/316 [==============================] - 2s 5ms/step - loss: 0.5436 - auc_100: 0.5007 - accuracy: 0.7664\n",
            "631/631 [==============================] - 9s 14ms/step - loss: 0.5452 - auc_101: 0.4990 - accuracy: 0.7690\n",
            "316/316 [==============================] - 2s 6ms/step - loss: 0.5284 - auc_101: 0.4907 - accuracy: 0.7794\n",
            "631/631 [==============================] - 9s 15ms/step - loss: 0.5421 - auc_102: 0.5049 - accuracy: 0.7729\n",
            "316/316 [==============================] - 2s 6ms/step - loss: 0.5408 - auc_102: 0.4964 - accuracy: 0.7719\n",
            "631/631 [==============================] - 9s 14ms/step - loss: 0.5387 - auc_103: 0.4935 - accuracy: 0.7751\n",
            "316/316 [==============================] - 2s 6ms/step - loss: 0.5448 - auc_103: 0.4970 - accuracy: 0.7664\n",
            "631/631 [==============================] - 20s 32ms/step - loss: 0.5481 - auc_104: 0.5014 - accuracy: 0.7682\n",
            "316/316 [==============================] - 4s 13ms/step - loss: 0.5301 - auc_104: 0.4942 - accuracy: 0.7794\n",
            "631/631 [==============================] - 20s 32ms/step - loss: 0.5412 - auc_105: 0.4989 - accuracy: 0.7729\n",
            "316/316 [==============================] - 4s 14ms/step - loss: 0.5387 - auc_105: 0.4923 - accuracy: 0.7719\n",
            "631/631 [==============================] - 20s 32ms/step - loss: 0.5398 - auc_106: 0.5012 - accuracy: 0.7746\n",
            "316/316 [==============================] - 4s 14ms/step - loss: 0.5518 - auc_106: 0.5025 - accuracy: 0.7664\n",
            "631/631 [==============================] - 31s 50ms/step - loss: 0.5460 - auc_107: 0.5011 - accuracy: 0.7683\n",
            "316/316 [==============================] - 6s 20ms/step - loss: 0.5335 - auc_107: 0.4986 - accuracy: 0.7794\n",
            "631/631 [==============================] - 31s 50ms/step - loss: 0.5428 - auc_108: 0.5008 - accuracy: 0.7723\n",
            "316/316 [==============================] - 6s 20ms/step - loss: 0.5386 - auc_108: 0.4927 - accuracy: 0.7719\n",
            "631/631 [==============================] - 31s 50ms/step - loss: 0.5395 - auc_109: 0.4947 - accuracy: 0.7756\n",
            "316/316 [==============================] - 6s 20ms/step - loss: 0.5498 - auc_109: 0.4966 - accuracy: 0.7664\n"
          ],
          "name": "stdout"
        },
        {
          "output_type": "stream",
          "text": [
            "[Parallel(n_jobs=1)]: Done  36 out of  36 | elapsed: 14.1min finished\n"
          ],
          "name": "stderr"
        },
        {
          "output_type": "stream",
          "text": [
            "946/946 [==============================] - 10s 10ms/step - loss: 0.5439 - auc_110: 0.4919 - accuracy: 0.7726\n"
          ],
          "name": "stdout"
        }
      ]
    },
    {
      "cell_type": "code",
      "metadata": {
        "id": "E6kfl2FVBZNU",
        "colab": {
          "base_uri": "https://localhost:8080/"
        },
        "outputId": "3308464a-ae17-4401-8843-74a77f6fe73e"
      },
      "source": [
        "print (grid_search_tune.best_estimator_.steps)\n",
        "\n",
        "print ('Best Parameter for LSTM ',grid_search_tune.best_params_)\n",
        "print('Best Score for LSTM: ',grid_search_tune.best_score_)"
      ],
      "execution_count": 55,
      "outputs": [
        {
          "output_type": "stream",
          "text": [
            "[('estimator', <tensorflow.python.keras.wrappers.scikit_learn.KerasClassifier object at 0x7f7746a28ac8>)]\n",
            "Best Parameter for LSTM  {'estimator__dropout': 0.5, 'estimator__units': 100}\n",
            "Best Score for LSTM:  0.7725560069084167\n"
          ],
          "name": "stdout"
        }
      ]
    },
    {
      "cell_type": "code",
      "metadata": {
        "id": "httu2ESUBZNX"
      },
      "source": [
        "max_feature = 200\n",
        "tokenizer = Tokenizer(num_words = max_feature, lower = True, split = ' ')\n",
        "tokenizer.fit_on_texts(X_test )\n",
        "\n",
        "\n",
        "X = tokenizer.texts_to_sequences(X_test)\n",
        "\n",
        "#pad sequence is used to ensure that all sequences in a list have the same length.\n",
        "X = pad_sequences(sequences = X, maxlen = max_feature, padding = 'pre')"
      ],
      "execution_count": 56,
      "outputs": []
    },
    {
      "cell_type": "code",
      "metadata": {
        "id": "7hnhjannBZNa"
      },
      "source": [
        "y_predict =grid_search_tune.predict(X)"
      ],
      "execution_count": 57,
      "outputs": []
    },
    {
      "cell_type": "code",
      "metadata": {
        "id": "55u_D1VsBZNd",
        "colab": {
          "base_uri": "https://localhost:8080/"
        },
        "outputId": "636f6bb7-fa94-4d65-bfb7-845b0951dd1f"
      },
      "source": [
        "print('Accuracy: ' , accuracy_score( Y_test,y_predict))\n",
        "#Source: https://scikit-learn.org/stable/modules/generated/sklearn.metrics.f1_score.html#sklearn.metrics.f1_score\n",
        "print('F1-score: ', f1_score(Y_test, y_predict))\n",
        "#source: https://scikit-learn.org/stable/modules/generated/sklearn.metrics.roc_auc_score.html#sklearn.metrics.roc_auc_score\n",
        "print('roc_auc_score: ', roc_auc_score(Y_test, y_predict))"
      ],
      "execution_count": 58,
      "outputs": [
        {
          "output_type": "stream",
          "text": [
            "Accuracy:  0.7743983073261042\n",
            "F1-score:  0.0\n",
            "roc_auc_score:  0.5\n"
          ],
          "name": "stdout"
        }
      ]
    },
    {
      "cell_type": "code",
      "metadata": {
        "id": "phGDKAmbvAw4"
      },
      "source": [
        ""
      ],
      "execution_count": 58,
      "outputs": []
    }
  ]
}