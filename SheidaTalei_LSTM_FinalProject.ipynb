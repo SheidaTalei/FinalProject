{
  "nbformat": 4,
  "nbformat_minor": 0,
  "metadata": {
    "accelerator": "GPU",
    "colab": {
      "name": "SheidaTalei_LSTM_FinalProject.ipynb",
      "provenance": [],
      "collapsed_sections": [],
      "include_colab_link": true
    },
    "kernelspec": {
      "display_name": "Python 3",
      "language": "python",
      "name": "python3"
    },
    "language_info": {
      "codemirror_mode": {
        "name": "ipython",
        "version": 3
      },
      "file_extension": ".py",
      "mimetype": "text/x-python",
      "name": "python",
      "nbconvert_exporter": "python",
      "pygments_lexer": "ipython3",
      "version": "3.8.5"
    }
  },
  "cells": [
    {
      "cell_type": "markdown",
      "metadata": {
        "id": "view-in-github",
        "colab_type": "text"
      },
      "source": [
        "<a href=\"https://colab.research.google.com/github/SheidaTalei/FinalProject/blob/main/SheidaTalei_LSTM_FinalProject.ipynb\" target=\"_parent\"><img src=\"https://colab.research.google.com/assets/colab-badge.svg\" alt=\"Open In Colab\"/></a>"
      ]
    },
    {
      "cell_type": "code",
      "metadata": {
        "colab": {
          "base_uri": "https://localhost:8080/"
        },
        "id": "Aphu-A5aCfZ8",
        "outputId": "a4f4c3ec-7d1e-48cb-97a8-c937d55d30c4"
      },
      "source": [
        "from google.colab import drive\n",
        "drive.mount('/content/drive')"
      ],
      "execution_count": 1,
      "outputs": [
        {
          "output_type": "stream",
          "text": [
            "Mounted at /content/drive\n"
          ],
          "name": "stdout"
        }
      ]
    },
    {
      "cell_type": "code",
      "metadata": {
        "id": "9yv90hltCOCz"
      },
      "source": [
        "import numpy as np\n",
        "import pandas as pd\n",
        "from sklearn.feature_extraction.text import TfidfVectorizer\n",
        "#Convert a collection of raw documents to a matrix of TF-IDF features.\n",
        "from sklearn.model_selection import train_test_split\n",
        "from sklearn.metrics import accuracy_score\n",
        "import regex\n",
        "import tensorflow as tf\n",
        "from tensorflow import keras\n",
        "from tensorflow.keras import layers\n",
        "\n",
        "import re\n",
        "import string"
      ],
      "execution_count": 2,
      "outputs": []
    },
    {
      "cell_type": "code",
      "metadata": {
        "id": "rzzSJswNBZMU"
      },
      "source": [
        "from tensorflow.keras.preprocessing.text import Tokenizer\n",
        "from tensorflow.keras.preprocessing.sequence import pad_sequences\n",
        "from keras.models import Sequential\n",
        "from keras.models import Sequential\n",
        "from keras.layers import Dense\n",
        "from keras.layers import LSTM\n",
        "from keras.layers import Dropout\n",
        "from keras.layers import Embedding\n",
        "from keras.layers import MaxPooling1D\n",
        "from keras.layers import Conv1D\n",
        "\n",
        "\n",
        "from keras.wrappers.scikit_learn import KerasRegressor\n",
        "from sklearn.pipeline import Pipeline\n",
        "from sklearn.model_selection import GridSearchCV\n",
        "from keras.wrappers.scikit_learn import KerasClassifier\n",
        "\n",
        "from sklearn.utils import class_weight\n",
        "\n",
        "from sklearn.metrics import accuracy_score\n",
        "from sklearn.metrics import f1_score\n",
        "from sklearn.metrics import roc_auc_score\n",
        "\n",
        "from sklearn.metrics import  auc"
      ],
      "execution_count": 3,
      "outputs": []
    },
    {
      "cell_type": "code",
      "metadata": {
        "id": "op2BCxa7DQo_"
      },
      "source": [
        "#------------------------------------------Empty Rows Removal----------------------------------------------------------------\n",
        "# This function Will: 1- Remove all empty rows from csv file 2- Save data to the same csv\n",
        "def removeEmptyRows(fileName):\n",
        "    df = pd.read_csv(fileName, encoding='utf-8-sig')\n",
        "    df = df.dropna(subset=['text'], how='all', axis=0) \n",
        "    df.to_csv(fileName, header=True, encoding='utf-8-sig',  index=False)\n",
        "    \n",
        "    return df"
      ],
      "execution_count": 4,
      "outputs": []
    },
    {
      "cell_type": "code",
      "metadata": {
        "id": "vbkTBwewpruI"
      },
      "source": [
        "X_and_Y = removeEmptyRows ('/content/drive/MyDrive/Final/Prepared_train_Data_test#1.csv')\n",
        "\n",
        "Y= X_and_Y.Label\n",
        "X = X_and_Y.text"
      ],
      "execution_count": 5,
      "outputs": []
    },
    {
      "cell_type": "code",
      "metadata": {
        "id": "KlCKP5_5prmZ"
      },
      "source": [
        "X_and_Y_test = removeEmptyRows('/content/drive/MyDrive/Final/Prepared_test_Data_test#1.csv') #Prepared_test_Data_00 \n",
        "Y_test= X_and_Y_test.Label\n",
        "X_test = X_and_Y_test.text"
      ],
      "execution_count": 6,
      "outputs": []
    },
    {
      "cell_type": "code",
      "metadata": {
        "id": "zHs3klBg10FN"
      },
      "source": [
        "#This part helps for handeling imbalanced data\n",
        "count_0 = 0\n",
        "count_1 = 0\n",
        "\n",
        "for i in Y:\n",
        "    if (i==0):\n",
        "        count_0 = count_0+1\n",
        "    else:\n",
        "        count_1 = count_1 + 1\n",
        "        "
      ],
      "execution_count": 7,
      "outputs": []
    },
    {
      "cell_type": "code",
      "metadata": {
        "id": "j1SDb_x0qGUQ"
      },
      "source": [
        "p = count_0 / (count_0 + count_1)"
      ],
      "execution_count": 8,
      "outputs": []
    },
    {
      "cell_type": "code",
      "metadata": {
        "colab": {
          "base_uri": "https://localhost:8080/"
        },
        "id": "EI8yA4fSozq5",
        "outputId": "7a340777-5e82-4732-b722-4e5c8c903c27"
      },
      "source": [
        "print (\"count_0: \",count_0 )\n",
        "print (\"count_1: \",count_1 )"
      ],
      "execution_count": 9,
      "outputs": [
        {
          "output_type": "stream",
          "text": [
            "count_0:  2251\n",
            "count_1:  1735\n"
          ],
          "name": "stdout"
        }
      ]
    },
    {
      "cell_type": "code",
      "metadata": {
        "id": "JwL9hZ08fSbe"
      },
      "source": [
        "from keras import backend as K\n",
        "\n",
        "def recall_m(y_true, y_pred):\n",
        "    true_positives = K.sum(K.round(K.clip(y_true * y_pred, 0, 1)))\n",
        "    possible_positives = K.sum(K.round(K.clip(y_true, 0, 1)))\n",
        "    recall = true_positives / (possible_positives + K.epsilon())\n",
        "    return recall\n",
        "\n",
        "def precision_m(y_true, y_pred):\n",
        "    true_positives = K.sum(K.round(K.clip(y_true * y_pred, 0, 1)))\n",
        "    predicted_positives = K.sum(K.round(K.clip(y_pred, 0, 1)))\n",
        "    precision = true_positives / (predicted_positives + K.epsilon())\n",
        "    return precision\n",
        "\n",
        "def f1_m(y_true, y_pred):\n",
        "    precision = precision_m(y_true, y_pred)\n",
        "    recall = recall_m(y_true, y_pred)\n",
        "    return 2*((precision*recall)/(precision+recall+K.epsilon()))"
      ],
      "execution_count": 10,
      "outputs": []
    },
    {
      "cell_type": "code",
      "metadata": {
        "id": "tEhEElBKBZNC"
      },
      "source": [
        "#converting words to vectors\n",
        "max_len = 150 #120\n",
        "tokenizer = Tokenizer(num_words = max_len, lower = True, split = ' ')\n",
        "tokenizer.fit_on_texts(X )\n",
        "\n",
        "\n",
        "X = tokenizer.texts_to_sequences(X)\n",
        "\n",
        "#pad sequence is used to ensure that all sequences in a list have the same length.\n",
        "X_ready = pad_sequences(sequences = X, maxlen = max_len, padding = 'pre')"
      ],
      "execution_count": 11,
      "outputs": []
    },
    {
      "cell_type": "code",
      "metadata": {
        "id": "4c4XDKwhBZNH"
      },
      "source": [
        "\n",
        "def createLstmModel(units = 900, dropout = 0.5  ):\n",
        "    \n",
        "    \n",
        "   #https://www.tensorflow.org/tutorials/text/text_classification_rnn\n",
        "        \n",
        "    #Adding Layers\n",
        "    model = Sequential()\n",
        "    model.add(Embedding(500 , 128 ))#max_feature = 5000 , embedding_dimention = 128\n",
        "\n",
        "    model.add(Conv1D(filters=32, kernel_size=3, padding='same', activation='relu'))\n",
        "    model.add(MaxPooling1D(pool_size=2))  \n",
        "   \n",
        "    # model.add(LSTM(units = units , dropout = 0.2, return_sequences=True ))\n",
        "    # model.add(Dense(units = units, activation=\"relu\"))\n",
        "    # model.add(Dropout(rate = dropout))\n",
        "\n",
        "\n",
        "  \n",
        "    model.add(LSTM(units = units , dropout = 0.2))\n",
        "    model.add(Dense(units = units, activation=\"relu\"))\n",
        "    model.add(Dropout(rate = dropout))\n",
        "\n",
        "    model.add(Dense(units = 1 ,activation=\"sigmoid\"))\n",
        "    model.compile(optimizer='rmsprop', loss='binary_crossentropy', metrics=[f1_m ,tf.keras.metrics.AUC(), 'accuracy'])\n",
        "    \n",
        "    # model.fit(X, Y, batch_size = 150, class_weight = {0: 1/66639, 1: 1/(1- (1/66639))})\n",
        "#     model.summary()\n",
        "    return model\n"
      ],
      "execution_count": 73,
      "outputs": []
    },
    {
      "cell_type": "code",
      "metadata": {
        "id": "M0Slag_sPaFK"
      },
      "source": [
        ""
      ],
      "execution_count": 62,
      "outputs": []
    },
    {
      "cell_type": "code",
      "metadata": {
        "id": "qzMWk1lx21Mh"
      },
      "source": [
        "#source: https://colab.research.google.com/github/tensorflow/docs/blob/master/site/en/tutorials/keras/save_and_load.ipynb#scrollTo=IFPuhwntH8VH\n",
        "import os\n",
        "checkpoint_path = \"/content/drive/MyDrive/Final/lstm.ckpt\"\n",
        "checkpoint_dir = os.path.dirname(checkpoint_path)\n",
        "\n",
        "# Create a callback that saves the model's weights\n",
        "cp_callback = tf.keras.callbacks.ModelCheckpoint(filepath=checkpoint_path,save_weights_only=True,verbose=1)"
      ],
      "execution_count": 74,
      "outputs": []
    },
    {
      "cell_type": "code",
      "metadata": {
        "id": "lK2B8Uf7STHe"
      },
      "source": [
        "# print(type(X_ready))"
      ],
      "execution_count": 75,
      "outputs": []
    },
    {
      "cell_type": "code",
      "metadata": {
        "colab": {
          "base_uri": "https://localhost:8080/"
        },
        "id": "tFg3w9kRBZNN",
        "outputId": "584a8def-d8f5-410c-b8da-d2fc6673adeb"
      },
      "source": [
        "# Fit LSTM model\n",
        "#source: https://apmonitor.com/do/index.php/Main/LSTMNetwork\n",
        "\n",
        "# history = model.fit(X_ready, Y , epochs = 2, batch_size = 150, class_weight = {0: 1/66639, 1: 1/(1-66639)})\n",
        "\n",
        "#400\n",
        "model = createLstmModel()\n",
        "history = model.fit(X_ready, \n",
        "          Y,  \n",
        "          epochs=100,\n",
        "          batch_size = 150,\n",
        "          callbacks=[cp_callback], class_weight = {0: 1/p, 1: 1/(1-p)} , validation_split = 0.3) \n",
        "# plt.figure()\n",
        "# plt.ylabel('loss'); plt.xlabel('epoch')\n",
        "# plt.semilogy(history.history['loss'])"
      ],
      "execution_count": 76,
      "outputs": [
        {
          "output_type": "stream",
          "text": [
            "Epoch 1/100\n",
            "19/19 [==============================] - 5s 157ms/step - loss: 1.4453 - f1_m: 0.4410 - auc_8: 0.6028 - accuracy: 0.5558 - val_loss: 0.4008 - val_f1_m: 0.8423 - val_auc_8: 0.9300 - val_accuracy: 0.8478\n",
            "\n",
            "Epoch 00001: saving model to /content/drive/MyDrive/Final/lstm.ckpt\n",
            "Epoch 2/100\n",
            "19/19 [==============================] - 2s 115ms/step - loss: 0.7606 - f1_m: 0.8392 - auc_8: 0.9128 - accuracy: 0.8506 - val_loss: 0.3421 - val_f1_m: 0.8431 - val_auc_8: 0.9351 - val_accuracy: 0.8512\n",
            "\n",
            "Epoch 00002: saving model to /content/drive/MyDrive/Final/lstm.ckpt\n",
            "Epoch 3/100\n",
            "19/19 [==============================] - 2s 116ms/step - loss: 0.6285 - f1_m: 0.8580 - auc_8: 0.9399 - accuracy: 0.8715 - val_loss: 0.3210 - val_f1_m: 0.8533 - val_auc_8: 0.9388 - val_accuracy: 0.8587\n",
            "\n",
            "Epoch 00003: saving model to /content/drive/MyDrive/Final/lstm.ckpt\n",
            "Epoch 4/100\n",
            "19/19 [==============================] - 2s 117ms/step - loss: 0.5824 - f1_m: 0.8710 - auc_8: 0.9448 - accuracy: 0.8818 - val_loss: 0.3173 - val_f1_m: 0.8388 - val_auc_8: 0.9420 - val_accuracy: 0.8595\n",
            "\n",
            "Epoch 00004: saving model to /content/drive/MyDrive/Final/lstm.ckpt\n",
            "Epoch 5/100\n",
            "19/19 [==============================] - 2s 118ms/step - loss: 0.5711 - f1_m: 0.8692 - auc_8: 0.9504 - accuracy: 0.8822 - val_loss: 0.3472 - val_f1_m: 0.8489 - val_auc_8: 0.9420 - val_accuracy: 0.8503\n",
            "\n",
            "Epoch 00005: saving model to /content/drive/MyDrive/Final/lstm.ckpt\n",
            "Epoch 6/100\n",
            "19/19 [==============================] - 2s 117ms/step - loss: 1.7488 - f1_m: 0.8488 - auc_8: 0.9007 - accuracy: 0.8553 - val_loss: 0.3031 - val_f1_m: 0.8593 - val_auc_8: 0.9441 - val_accuracy: 0.8662\n",
            "\n",
            "Epoch 00006: saving model to /content/drive/MyDrive/Final/lstm.ckpt\n",
            "Epoch 7/100\n",
            "19/19 [==============================] - 2s 119ms/step - loss: 0.5089 - f1_m: 0.8803 - auc_8: 0.9593 - accuracy: 0.8925 - val_loss: 0.2928 - val_f1_m: 0.8750 - val_auc_8: 0.9457 - val_accuracy: 0.8855\n",
            "\n",
            "Epoch 00007: saving model to /content/drive/MyDrive/Final/lstm.ckpt\n",
            "Epoch 8/100\n",
            "19/19 [==============================] - 2s 118ms/step - loss: 0.4698 - f1_m: 0.8973 - auc_8: 0.9635 - accuracy: 0.9069 - val_loss: 0.3153 - val_f1_m: 0.8626 - val_auc_8: 0.9475 - val_accuracy: 0.8662\n",
            "\n",
            "Epoch 00008: saving model to /content/drive/MyDrive/Final/lstm.ckpt\n",
            "Epoch 9/100\n",
            "19/19 [==============================] - 2s 118ms/step - loss: 0.4620 - f1_m: 0.8867 - auc_8: 0.9663 - accuracy: 0.8981 - val_loss: 0.2862 - val_f1_m: 0.8619 - val_auc_8: 0.9491 - val_accuracy: 0.8763\n",
            "\n",
            "Epoch 00009: saving model to /content/drive/MyDrive/Final/lstm.ckpt\n",
            "Epoch 10/100\n",
            "19/19 [==============================] - 2s 118ms/step - loss: 0.4355 - f1_m: 0.9153 - auc_8: 0.9693 - accuracy: 0.9232 - val_loss: 0.3458 - val_f1_m: 0.8524 - val_auc_8: 0.9476 - val_accuracy: 0.8537\n",
            "\n",
            "Epoch 00010: saving model to /content/drive/MyDrive/Final/lstm.ckpt\n",
            "Epoch 11/100\n",
            "19/19 [==============================] - 2s 118ms/step - loss: 0.4382 - f1_m: 0.9029 - auc_8: 0.9680 - accuracy: 0.9150 - val_loss: 0.2906 - val_f1_m: 0.8715 - val_auc_8: 0.9499 - val_accuracy: 0.8788\n",
            "\n",
            "Epoch 00011: saving model to /content/drive/MyDrive/Final/lstm.ckpt\n",
            "Epoch 12/100\n",
            "19/19 [==============================] - 2s 118ms/step - loss: 0.4008 - f1_m: 0.9077 - auc_8: 0.9740 - accuracy: 0.9205 - val_loss: 0.2887 - val_f1_m: 0.8644 - val_auc_8: 0.9507 - val_accuracy: 0.8771\n",
            "\n",
            "Epoch 00012: saving model to /content/drive/MyDrive/Final/lstm.ckpt\n",
            "Epoch 13/100\n",
            "19/19 [==============================] - 2s 118ms/step - loss: 0.3761 - f1_m: 0.9211 - auc_8: 0.9754 - accuracy: 0.9303 - val_loss: 0.3317 - val_f1_m: 0.8766 - val_auc_8: 0.9491 - val_accuracy: 0.8821\n",
            "\n",
            "Epoch 00013: saving model to /content/drive/MyDrive/Final/lstm.ckpt\n",
            "Epoch 14/100\n",
            "19/19 [==============================] - 2s 118ms/step - loss: 1.1178 - f1_m: 0.8399 - auc_8: 0.9129 - accuracy: 0.8888 - val_loss: 0.2994 - val_f1_m: 0.8705 - val_auc_8: 0.9516 - val_accuracy: 0.8829\n",
            "\n",
            "Epoch 00014: saving model to /content/drive/MyDrive/Final/lstm.ckpt\n",
            "Epoch 15/100\n",
            "19/19 [==============================] - 2s 118ms/step - loss: 0.3248 - f1_m: 0.9391 - auc_8: 0.9812 - accuracy: 0.9451 - val_loss: 0.3090 - val_f1_m: 0.8669 - val_auc_8: 0.9500 - val_accuracy: 0.8813\n",
            "\n",
            "Epoch 00015: saving model to /content/drive/MyDrive/Final/lstm.ckpt\n",
            "Epoch 16/100\n",
            "19/19 [==============================] - 2s 116ms/step - loss: 0.3303 - f1_m: 0.9330 - auc_8: 0.9798 - accuracy: 0.9402 - val_loss: 0.3212 - val_f1_m: 0.8615 - val_auc_8: 0.9490 - val_accuracy: 0.8746\n",
            "\n",
            "Epoch 00016: saving model to /content/drive/MyDrive/Final/lstm.ckpt\n",
            "Epoch 17/100\n",
            "19/19 [==============================] - 2s 116ms/step - loss: 0.2781 - f1_m: 0.9389 - auc_8: 0.9869 - accuracy: 0.9470 - val_loss: 0.3155 - val_f1_m: 0.8654 - val_auc_8: 0.9487 - val_accuracy: 0.8788\n",
            "\n",
            "Epoch 00017: saving model to /content/drive/MyDrive/Final/lstm.ckpt\n",
            "Epoch 18/100\n",
            "19/19 [==============================] - 2s 115ms/step - loss: 0.2528 - f1_m: 0.9512 - auc_8: 0.9884 - accuracy: 0.9566 - val_loss: 0.3421 - val_f1_m: 0.8599 - val_auc_8: 0.9455 - val_accuracy: 0.8754\n",
            "\n",
            "Epoch 00018: saving model to /content/drive/MyDrive/Final/lstm.ckpt\n",
            "Epoch 19/100\n",
            "19/19 [==============================] - 2s 114ms/step - loss: 0.2637 - f1_m: 0.9461 - auc_8: 0.9876 - accuracy: 0.9516 - val_loss: 0.3388 - val_f1_m: 0.8626 - val_auc_8: 0.9472 - val_accuracy: 0.8737\n",
            "\n",
            "Epoch 00019: saving model to /content/drive/MyDrive/Final/lstm.ckpt\n",
            "Epoch 20/100\n",
            "19/19 [==============================] - 2s 114ms/step - loss: 3.0358 - f1_m: 0.8702 - auc_8: 0.9385 - accuracy: 0.9153 - val_loss: 0.3514 - val_f1_m: 0.8619 - val_auc_8: 0.9452 - val_accuracy: 0.8746\n",
            "\n",
            "Epoch 00020: saving model to /content/drive/MyDrive/Final/lstm.ckpt\n",
            "Epoch 21/100\n",
            "19/19 [==============================] - 2s 113ms/step - loss: 0.2492 - f1_m: 0.9411 - auc_8: 0.9892 - accuracy: 0.9492 - val_loss: 0.3570 - val_f1_m: 0.8732 - val_auc_8: 0.9474 - val_accuracy: 0.8821\n",
            "\n",
            "Epoch 00021: saving model to /content/drive/MyDrive/Final/lstm.ckpt\n",
            "Epoch 22/100\n",
            "19/19 [==============================] - 2s 113ms/step - loss: 0.2223 - f1_m: 0.9523 - auc_8: 0.9912 - accuracy: 0.9590 - val_loss: 0.3646 - val_f1_m: 0.8633 - val_auc_8: 0.9422 - val_accuracy: 0.8779\n",
            "\n",
            "Epoch 00022: saving model to /content/drive/MyDrive/Final/lstm.ckpt\n",
            "Epoch 23/100\n",
            "19/19 [==============================] - 2s 112ms/step - loss: 0.1970 - f1_m: 0.9554 - auc_8: 0.9925 - accuracy: 0.9620 - val_loss: 0.3479 - val_f1_m: 0.8613 - val_auc_8: 0.9461 - val_accuracy: 0.8754\n",
            "\n",
            "Epoch 00023: saving model to /content/drive/MyDrive/Final/lstm.ckpt\n",
            "Epoch 24/100\n",
            "19/19 [==============================] - 2s 112ms/step - loss: 0.2416 - f1_m: 0.9475 - auc_8: 0.9903 - accuracy: 0.9551 - val_loss: 0.3802 - val_f1_m: 0.8578 - val_auc_8: 0.9427 - val_accuracy: 0.8754\n",
            "\n",
            "Epoch 00024: saving model to /content/drive/MyDrive/Final/lstm.ckpt\n",
            "Epoch 25/100\n",
            "19/19 [==============================] - 2s 113ms/step - loss: 0.2267 - f1_m: 0.9517 - auc_8: 0.9898 - accuracy: 0.9574 - val_loss: 0.3830 - val_f1_m: 0.8661 - val_auc_8: 0.9439 - val_accuracy: 0.8788\n",
            "\n",
            "Epoch 00025: saving model to /content/drive/MyDrive/Final/lstm.ckpt\n",
            "Epoch 26/100\n",
            "19/19 [==============================] - 2s 112ms/step - loss: 0.2655 - f1_m: 0.9553 - auc_8: 0.9900 - accuracy: 0.9631 - val_loss: 0.4821 - val_f1_m: 0.8452 - val_auc_8: 0.9317 - val_accuracy: 0.8512\n",
            "\n",
            "Epoch 00026: saving model to /content/drive/MyDrive/Final/lstm.ckpt\n",
            "Epoch 27/100\n",
            "19/19 [==============================] - 2s 112ms/step - loss: 0.2387 - f1_m: 0.9522 - auc_8: 0.9907 - accuracy: 0.9573 - val_loss: 0.4012 - val_f1_m: 0.8614 - val_auc_8: 0.9398 - val_accuracy: 0.8746\n",
            "\n",
            "Epoch 00027: saving model to /content/drive/MyDrive/Final/lstm.ckpt\n",
            "Epoch 28/100\n",
            "19/19 [==============================] - 2s 112ms/step - loss: 0.1908 - f1_m: 0.9582 - auc_8: 0.9933 - accuracy: 0.9631 - val_loss: 0.4126 - val_f1_m: 0.8641 - val_auc_8: 0.9400 - val_accuracy: 0.8737\n",
            "\n",
            "Epoch 00028: saving model to /content/drive/MyDrive/Final/lstm.ckpt\n",
            "Epoch 29/100\n",
            "19/19 [==============================] - 2s 111ms/step - loss: 0.1767 - f1_m: 0.9662 - auc_8: 0.9934 - accuracy: 0.9694 - val_loss: 0.4460 - val_f1_m: 0.8606 - val_auc_8: 0.9384 - val_accuracy: 0.8779\n",
            "\n",
            "Epoch 00029: saving model to /content/drive/MyDrive/Final/lstm.ckpt\n",
            "Epoch 30/100\n",
            "19/19 [==============================] - 2s 112ms/step - loss: 0.1951 - f1_m: 0.9531 - auc_8: 0.9931 - accuracy: 0.9600 - val_loss: 0.4343 - val_f1_m: 0.8622 - val_auc_8: 0.9376 - val_accuracy: 0.8771\n",
            "\n",
            "Epoch 00030: saving model to /content/drive/MyDrive/Final/lstm.ckpt\n",
            "Epoch 31/100\n",
            "19/19 [==============================] - 2s 111ms/step - loss: 0.1956 - f1_m: 0.9528 - auc_8: 0.9927 - accuracy: 0.9591 - val_loss: 0.4448 - val_f1_m: 0.8590 - val_auc_8: 0.9391 - val_accuracy: 0.8771\n",
            "\n",
            "Epoch 00031: saving model to /content/drive/MyDrive/Final/lstm.ckpt\n",
            "Epoch 32/100\n",
            "19/19 [==============================] - 2s 112ms/step - loss: 0.1730 - f1_m: 0.9656 - auc_8: 0.9945 - accuracy: 0.9711 - val_loss: 0.5726 - val_f1_m: 0.8301 - val_auc_8: 0.9203 - val_accuracy: 0.8336\n",
            "\n",
            "Epoch 00032: saving model to /content/drive/MyDrive/Final/lstm.ckpt\n",
            "Epoch 33/100\n",
            "19/19 [==============================] - 2s 113ms/step - loss: 0.2245 - f1_m: 0.9496 - auc_8: 0.9915 - accuracy: 0.9536 - val_loss: 0.4526 - val_f1_m: 0.8557 - val_auc_8: 0.9372 - val_accuracy: 0.8704\n",
            "\n",
            "Epoch 00033: saving model to /content/drive/MyDrive/Final/lstm.ckpt\n",
            "Epoch 34/100\n",
            "19/19 [==============================] - 2s 113ms/step - loss: 0.1748 - f1_m: 0.9609 - auc_8: 0.9945 - accuracy: 0.9654 - val_loss: 0.6008 - val_f1_m: 0.8073 - val_auc_8: 0.9196 - val_accuracy: 0.8445\n",
            "\n",
            "Epoch 00034: saving model to /content/drive/MyDrive/Final/lstm.ckpt\n",
            "Epoch 35/100\n",
            "19/19 [==============================] - 2s 113ms/step - loss: 0.6160 - f1_m: 0.8929 - auc_8: 0.9670 - accuracy: 0.9293 - val_loss: 0.4806 - val_f1_m: 0.8682 - val_auc_8: 0.9369 - val_accuracy: 0.8788\n",
            "\n",
            "Epoch 00035: saving model to /content/drive/MyDrive/Final/lstm.ckpt\n",
            "Epoch 36/100\n",
            "19/19 [==============================] - 2s 112ms/step - loss: 0.1555 - f1_m: 0.9616 - auc_8: 0.9954 - accuracy: 0.9666 - val_loss: 0.4854 - val_f1_m: 0.8604 - val_auc_8: 0.9334 - val_accuracy: 0.8746\n",
            "\n",
            "Epoch 00036: saving model to /content/drive/MyDrive/Final/lstm.ckpt\n",
            "Epoch 37/100\n",
            "19/19 [==============================] - 2s 113ms/step - loss: 0.1556 - f1_m: 0.9625 - auc_8: 0.9952 - accuracy: 0.9674 - val_loss: 0.5345 - val_f1_m: 0.8565 - val_auc_8: 0.9295 - val_accuracy: 0.8746\n",
            "\n",
            "Epoch 00037: saving model to /content/drive/MyDrive/Final/lstm.ckpt\n",
            "Epoch 38/100\n",
            "19/19 [==============================] - 2s 114ms/step - loss: 0.1451 - f1_m: 0.9708 - auc_8: 0.9959 - accuracy: 0.9742 - val_loss: 0.4979 - val_f1_m: 0.8613 - val_auc_8: 0.9338 - val_accuracy: 0.8737\n",
            "\n",
            "Epoch 00038: saving model to /content/drive/MyDrive/Final/lstm.ckpt\n",
            "Epoch 39/100\n",
            "19/19 [==============================] - 2s 114ms/step - loss: 3.1475 - f1_m: 0.9348 - auc_8: 0.9584 - accuracy: 0.9344 - val_loss: 0.4695 - val_f1_m: 0.8686 - val_auc_8: 0.9344 - val_accuracy: 0.8788\n",
            "\n",
            "Epoch 00039: saving model to /content/drive/MyDrive/Final/lstm.ckpt\n",
            "Epoch 40/100\n",
            "19/19 [==============================] - 2s 113ms/step - loss: 0.1619 - f1_m: 0.9610 - auc_8: 0.9947 - accuracy: 0.9659 - val_loss: 0.5684 - val_f1_m: 0.8451 - val_auc_8: 0.9283 - val_accuracy: 0.8654\n",
            "\n",
            "Epoch 00040: saving model to /content/drive/MyDrive/Final/lstm.ckpt\n",
            "Epoch 41/100\n",
            "19/19 [==============================] - 2s 114ms/step - loss: 0.1446 - f1_m: 0.9658 - auc_8: 0.9962 - accuracy: 0.9712 - val_loss: 0.5613 - val_f1_m: 0.8667 - val_auc_8: 0.9288 - val_accuracy: 0.8804\n",
            "\n",
            "Epoch 00041: saving model to /content/drive/MyDrive/Final/lstm.ckpt\n",
            "Epoch 42/100\n",
            "19/19 [==============================] - 2s 114ms/step - loss: 0.1841 - f1_m: 0.9573 - auc_8: 0.9936 - accuracy: 0.9628 - val_loss: 0.5754 - val_f1_m: 0.8587 - val_auc_8: 0.9321 - val_accuracy: 0.8754\n",
            "\n",
            "Epoch 00042: saving model to /content/drive/MyDrive/Final/lstm.ckpt\n",
            "Epoch 43/100\n",
            "19/19 [==============================] - 2s 114ms/step - loss: 0.1504 - f1_m: 0.9603 - auc_8: 0.9958 - accuracy: 0.9651 - val_loss: 0.6016 - val_f1_m: 0.8586 - val_auc_8: 0.9278 - val_accuracy: 0.8746\n",
            "\n",
            "Epoch 00043: saving model to /content/drive/MyDrive/Final/lstm.ckpt\n",
            "Epoch 44/100\n",
            "19/19 [==============================] - 2s 115ms/step - loss: 0.1437 - f1_m: 0.9670 - auc_8: 0.9958 - accuracy: 0.9703 - val_loss: 0.5581 - val_f1_m: 0.8668 - val_auc_8: 0.9319 - val_accuracy: 0.8788\n",
            "\n",
            "Epoch 00044: saving model to /content/drive/MyDrive/Final/lstm.ckpt\n",
            "Epoch 45/100\n",
            "19/19 [==============================] - 2s 115ms/step - loss: 0.1556 - f1_m: 0.9645 - auc_8: 0.9944 - accuracy: 0.9686 - val_loss: 0.5513 - val_f1_m: 0.8659 - val_auc_8: 0.9287 - val_accuracy: 0.8804\n",
            "\n",
            "Epoch 00045: saving model to /content/drive/MyDrive/Final/lstm.ckpt\n",
            "Epoch 46/100\n",
            "19/19 [==============================] - 2s 115ms/step - loss: 0.1559 - f1_m: 0.9612 - auc_8: 0.9952 - accuracy: 0.9661 - val_loss: 0.4952 - val_f1_m: 0.8637 - val_auc_8: 0.9278 - val_accuracy: 0.8729\n",
            "\n",
            "Epoch 00046: saving model to /content/drive/MyDrive/Final/lstm.ckpt\n",
            "Epoch 47/100\n",
            "19/19 [==============================] - 2s 116ms/step - loss: 0.1638 - f1_m: 0.9623 - auc_8: 0.9945 - accuracy: 0.9663 - val_loss: 0.6762 - val_f1_m: 0.8338 - val_auc_8: 0.9150 - val_accuracy: 0.8587\n",
            "\n",
            "Epoch 00047: saving model to /content/drive/MyDrive/Final/lstm.ckpt\n",
            "Epoch 48/100\n",
            "19/19 [==============================] - 2s 115ms/step - loss: 0.1642 - f1_m: 0.9606 - auc_8: 0.9952 - accuracy: 0.9648 - val_loss: 0.5978 - val_f1_m: 0.8464 - val_auc_8: 0.9119 - val_accuracy: 0.8562\n",
            "\n",
            "Epoch 00048: saving model to /content/drive/MyDrive/Final/lstm.ckpt\n",
            "Epoch 49/100\n",
            "19/19 [==============================] - 2s 114ms/step - loss: 0.1750 - f1_m: 0.9594 - auc_8: 0.9932 - accuracy: 0.9635 - val_loss: 0.5315 - val_f1_m: 0.8640 - val_auc_8: 0.9291 - val_accuracy: 0.8746\n",
            "\n",
            "Epoch 00049: saving model to /content/drive/MyDrive/Final/lstm.ckpt\n",
            "Epoch 50/100\n",
            "19/19 [==============================] - 2s 116ms/step - loss: 0.1328 - f1_m: 0.9642 - auc_8: 0.9968 - accuracy: 0.9695 - val_loss: 0.5586 - val_f1_m: 0.8600 - val_auc_8: 0.9314 - val_accuracy: 0.8746\n",
            "\n",
            "Epoch 00050: saving model to /content/drive/MyDrive/Final/lstm.ckpt\n",
            "Epoch 51/100\n",
            "19/19 [==============================] - 2s 122ms/step - loss: 0.1616 - f1_m: 0.9643 - auc_8: 0.9948 - accuracy: 0.9692 - val_loss: 0.5753 - val_f1_m: 0.8707 - val_auc_8: 0.9328 - val_accuracy: 0.8804\n",
            "\n",
            "Epoch 00051: saving model to /content/drive/MyDrive/Final/lstm.ckpt\n",
            "Epoch 52/100\n",
            "19/19 [==============================] - 2s 113ms/step - loss: 0.1243 - f1_m: 0.9684 - auc_8: 0.9967 - accuracy: 0.9722 - val_loss: 0.6033 - val_f1_m: 0.8543 - val_auc_8: 0.9187 - val_accuracy: 0.8604\n",
            "\n",
            "Epoch 00052: saving model to /content/drive/MyDrive/Final/lstm.ckpt\n",
            "Epoch 53/100\n",
            "19/19 [==============================] - 2s 114ms/step - loss: 0.1533 - f1_m: 0.9591 - auc_8: 0.9959 - accuracy: 0.9637 - val_loss: 0.6339 - val_f1_m: 0.8586 - val_auc_8: 0.9265 - val_accuracy: 0.8696\n",
            "\n",
            "Epoch 00053: saving model to /content/drive/MyDrive/Final/lstm.ckpt\n",
            "Epoch 54/100\n",
            "19/19 [==============================] - 2s 114ms/step - loss: 1.7070 - f1_m: 0.9472 - auc_8: 0.9678 - accuracy: 0.9447 - val_loss: 0.5876 - val_f1_m: 0.8578 - val_auc_8: 0.9272 - val_accuracy: 0.8737\n",
            "\n",
            "Epoch 00054: saving model to /content/drive/MyDrive/Final/lstm.ckpt\n",
            "Epoch 55/100\n",
            "19/19 [==============================] - 2s 114ms/step - loss: 0.1348 - f1_m: 0.9672 - auc_8: 0.9960 - accuracy: 0.9716 - val_loss: 0.5918 - val_f1_m: 0.8597 - val_auc_8: 0.9264 - val_accuracy: 0.8746\n",
            "\n",
            "Epoch 00055: saving model to /content/drive/MyDrive/Final/lstm.ckpt\n",
            "Epoch 56/100\n",
            "19/19 [==============================] - 2s 115ms/step - loss: 0.1332 - f1_m: 0.9693 - auc_8: 0.9962 - accuracy: 0.9730 - val_loss: 0.6418 - val_f1_m: 0.8511 - val_auc_8: 0.9224 - val_accuracy: 0.8704\n",
            "\n",
            "Epoch 00056: saving model to /content/drive/MyDrive/Final/lstm.ckpt\n",
            "Epoch 57/100\n",
            "19/19 [==============================] - 2s 114ms/step - loss: 0.1398 - f1_m: 0.9641 - auc_8: 0.9966 - accuracy: 0.9684 - val_loss: 0.6235 - val_f1_m: 0.8633 - val_auc_8: 0.9269 - val_accuracy: 0.8771\n",
            "\n",
            "Epoch 00057: saving model to /content/drive/MyDrive/Final/lstm.ckpt\n",
            "Epoch 58/100\n",
            "19/19 [==============================] - 2s 113ms/step - loss: 0.1447 - f1_m: 0.9651 - auc_8: 0.9959 - accuracy: 0.9696 - val_loss: 0.7232 - val_f1_m: 0.8558 - val_auc_8: 0.9151 - val_accuracy: 0.8737\n",
            "\n",
            "Epoch 00058: saving model to /content/drive/MyDrive/Final/lstm.ckpt\n",
            "Epoch 59/100\n",
            "19/19 [==============================] - 2s 114ms/step - loss: 0.1543 - f1_m: 0.9628 - auc_8: 0.9951 - accuracy: 0.9666 - val_loss: 0.6267 - val_f1_m: 0.8533 - val_auc_8: 0.9244 - val_accuracy: 0.8696\n",
            "\n",
            "Epoch 00059: saving model to /content/drive/MyDrive/Final/lstm.ckpt\n",
            "Epoch 60/100\n",
            "19/19 [==============================] - 2s 113ms/step - loss: 0.1525 - f1_m: 0.9626 - auc_8: 0.9957 - accuracy: 0.9676 - val_loss: 0.7301 - val_f1_m: 0.8628 - val_auc_8: 0.9198 - val_accuracy: 0.8804\n",
            "\n",
            "Epoch 00060: saving model to /content/drive/MyDrive/Final/lstm.ckpt\n",
            "Epoch 61/100\n",
            "19/19 [==============================] - 2s 113ms/step - loss: 0.1561 - f1_m: 0.9635 - auc_8: 0.9950 - accuracy: 0.9685 - val_loss: 0.6315 - val_f1_m: 0.8575 - val_auc_8: 0.9240 - val_accuracy: 0.8721\n",
            "\n",
            "Epoch 00061: saving model to /content/drive/MyDrive/Final/lstm.ckpt\n",
            "Epoch 62/100\n",
            "19/19 [==============================] - 2s 113ms/step - loss: 0.1239 - f1_m: 0.9723 - auc_8: 0.9966 - accuracy: 0.9757 - val_loss: 49.4741 - val_f1_m: 0.0000e+00 - val_auc_8: 0.5000 - val_accuracy: 0.5577\n",
            "\n",
            "Epoch 00062: saving model to /content/drive/MyDrive/Final/lstm.ckpt\n",
            "Epoch 63/100\n",
            "19/19 [==============================] - 2s 112ms/step - loss: 40.9327 - f1_m: 0.2648 - auc_8: 0.5227 - accuracy: 0.5468 - val_loss: 0.8770 - val_f1_m: 0.6123 - val_auc_8: 0.9008 - val_accuracy: 0.4423\n",
            "\n",
            "Epoch 00063: saving model to /content/drive/MyDrive/Final/lstm.ckpt\n",
            "Epoch 64/100\n",
            "19/19 [==============================] - 2s 114ms/step - loss: 1.6156 - f1_m: 0.5117 - auc_8: 0.5462 - accuracy: 0.5286 - val_loss: 0.6667 - val_f1_m: 0.0000e+00 - val_auc_8: 0.9370 - val_accuracy: 0.5577\n",
            "\n",
            "Epoch 00064: saving model to /content/drive/MyDrive/Final/lstm.ckpt\n",
            "Epoch 65/100\n",
            "19/19 [==============================] - 2s 113ms/step - loss: 1.4457 - f1_m: 0.3935 - auc_8: 0.5866 - accuracy: 0.5473 - val_loss: 0.6206 - val_f1_m: 0.5570 - val_auc_8: 0.9234 - val_accuracy: 0.7216\n",
            "\n",
            "Epoch 00065: saving model to /content/drive/MyDrive/Final/lstm.ckpt\n",
            "Epoch 66/100\n",
            "19/19 [==============================] - 2s 114ms/step - loss: 1.1572 - f1_m: 0.6169 - auc_8: 0.7663 - accuracy: 0.6901 - val_loss: 0.6047 - val_f1_m: 0.7072 - val_auc_8: 0.6150 - val_accuracy: 0.6371\n",
            "\n",
            "Epoch 00066: saving model to /content/drive/MyDrive/Final/lstm.ckpt\n",
            "Epoch 67/100\n",
            "19/19 [==============================] - 2s 115ms/step - loss: 1.0071 - f1_m: 0.7145 - auc_8: 0.7998 - accuracy: 0.7125 - val_loss: 0.3757 - val_f1_m: 0.8315 - val_auc_8: 0.9254 - val_accuracy: 0.8428\n",
            "\n",
            "Epoch 00067: saving model to /content/drive/MyDrive/Final/lstm.ckpt\n",
            "Epoch 68/100\n",
            "19/19 [==============================] - 2s 116ms/step - loss: 0.6593 - f1_m: 0.8421 - auc_8: 0.9284 - accuracy: 0.8543 - val_loss: 0.6855 - val_f1_m: 0.8052 - val_auc_8: 0.9314 - val_accuracy: 0.7901\n",
            "\n",
            "Epoch 00068: saving model to /content/drive/MyDrive/Final/lstm.ckpt\n",
            "Epoch 69/100\n",
            "19/19 [==============================] - 2s 116ms/step - loss: 0.7364 - f1_m: 0.8500 - auc_8: 0.9264 - accuracy: 0.8568 - val_loss: 0.4799 - val_f1_m: 0.8127 - val_auc_8: 0.9463 - val_accuracy: 0.7985\n",
            "\n",
            "Epoch 00069: saving model to /content/drive/MyDrive/Final/lstm.ckpt\n",
            "Epoch 70/100\n",
            "19/19 [==============================] - 2s 115ms/step - loss: 1.7339 - f1_m: 0.6874 - auc_8: 0.8451 - accuracy: 0.7768 - val_loss: 0.3259 - val_f1_m: 0.8703 - val_auc_8: 0.9451 - val_accuracy: 0.8771\n",
            "\n",
            "Epoch 00070: saving model to /content/drive/MyDrive/Final/lstm.ckpt\n",
            "Epoch 71/100\n",
            "19/19 [==============================] - 2s 115ms/step - loss: 0.4490 - f1_m: 0.8971 - auc_8: 0.9674 - accuracy: 0.9068 - val_loss: 0.3835 - val_f1_m: 0.8486 - val_auc_8: 0.9406 - val_accuracy: 0.8671\n",
            "\n",
            "Epoch 00071: saving model to /content/drive/MyDrive/Final/lstm.ckpt\n",
            "Epoch 72/100\n",
            "19/19 [==============================] - 2s 114ms/step - loss: 0.5289 - f1_m: 0.8819 - auc_8: 0.9600 - accuracy: 0.8955 - val_loss: 0.3588 - val_f1_m: 0.8485 - val_auc_8: 0.9297 - val_accuracy: 0.8579\n",
            "\n",
            "Epoch 00072: saving model to /content/drive/MyDrive/Final/lstm.ckpt\n",
            "Epoch 73/100\n",
            "19/19 [==============================] - 2s 115ms/step - loss: 0.4894 - f1_m: 0.8885 - auc_8: 0.9626 - accuracy: 0.8967 - val_loss: 0.3112 - val_f1_m: 0.8673 - val_auc_8: 0.9458 - val_accuracy: 0.8788\n",
            "\n",
            "Epoch 00073: saving model to /content/drive/MyDrive/Final/lstm.ckpt\n",
            "Epoch 74/100\n",
            "19/19 [==============================] - 2s 116ms/step - loss: 0.4203 - f1_m: 0.9086 - auc_8: 0.9716 - accuracy: 0.9181 - val_loss: 0.3388 - val_f1_m: 0.8671 - val_auc_8: 0.9457 - val_accuracy: 0.8729\n",
            "\n",
            "Epoch 00074: saving model to /content/drive/MyDrive/Final/lstm.ckpt\n",
            "Epoch 75/100\n",
            "19/19 [==============================] - 2s 114ms/step - loss: 0.4491 - f1_m: 0.8986 - auc_8: 0.9678 - accuracy: 0.9059 - val_loss: 0.3786 - val_f1_m: 0.8503 - val_auc_8: 0.9301 - val_accuracy: 0.8620\n",
            "\n",
            "Epoch 00075: saving model to /content/drive/MyDrive/Final/lstm.ckpt\n",
            "Epoch 76/100\n",
            "19/19 [==============================] - 2s 115ms/step - loss: 0.3506 - f1_m: 0.9286 - auc_8: 0.9795 - accuracy: 0.9364 - val_loss: 0.5033 - val_f1_m: 0.8348 - val_auc_8: 0.9403 - val_accuracy: 0.8319\n",
            "\n",
            "Epoch 00076: saving model to /content/drive/MyDrive/Final/lstm.ckpt\n",
            "Epoch 77/100\n",
            "19/19 [==============================] - 2s 115ms/step - loss: 0.4577 - f1_m: 0.8831 - auc_8: 0.9683 - accuracy: 0.8950 - val_loss: 0.4317 - val_f1_m: 0.8353 - val_auc_8: 0.9342 - val_accuracy: 0.8612\n",
            "\n",
            "Epoch 00077: saving model to /content/drive/MyDrive/Final/lstm.ckpt\n",
            "Epoch 78/100\n",
            "19/19 [==============================] - 2s 113ms/step - loss: 0.3773 - f1_m: 0.9160 - auc_8: 0.9780 - accuracy: 0.9294 - val_loss: 0.3921 - val_f1_m: 0.8510 - val_auc_8: 0.9355 - val_accuracy: 0.8545\n",
            "\n",
            "Epoch 00078: saving model to /content/drive/MyDrive/Final/lstm.ckpt\n",
            "Epoch 79/100\n",
            "19/19 [==============================] - 2s 115ms/step - loss: 0.3654 - f1_m: 0.9190 - auc_8: 0.9834 - accuracy: 0.9249 - val_loss: 0.4568 - val_f1_m: 0.8601 - val_auc_8: 0.9357 - val_accuracy: 0.8671\n",
            "\n",
            "Epoch 00079: saving model to /content/drive/MyDrive/Final/lstm.ckpt\n",
            "Epoch 80/100\n",
            "19/19 [==============================] - 2s 115ms/step - loss: 0.2864 - f1_m: 0.9356 - auc_8: 0.9864 - accuracy: 0.9414 - val_loss: 0.5094 - val_f1_m: 0.8607 - val_auc_8: 0.9348 - val_accuracy: 0.8679\n",
            "\n",
            "Epoch 00080: saving model to /content/drive/MyDrive/Final/lstm.ckpt\n",
            "Epoch 81/100\n",
            "19/19 [==============================] - 2s 115ms/step - loss: 0.2805 - f1_m: 0.9379 - auc_8: 0.9874 - accuracy: 0.9451 - val_loss: 0.5113 - val_f1_m: 0.8692 - val_auc_8: 0.9289 - val_accuracy: 0.8821\n",
            "\n",
            "Epoch 00081: saving model to /content/drive/MyDrive/Final/lstm.ckpt\n",
            "Epoch 82/100\n",
            "19/19 [==============================] - 2s 115ms/step - loss: 0.2345 - f1_m: 0.9440 - auc_8: 0.9901 - accuracy: 0.9536 - val_loss: 0.4839 - val_f1_m: 0.8631 - val_auc_8: 0.9324 - val_accuracy: 0.8746\n",
            "\n",
            "Epoch 00082: saving model to /content/drive/MyDrive/Final/lstm.ckpt\n",
            "Epoch 83/100\n",
            "19/19 [==============================] - 2s 116ms/step - loss: 1.9364 - f1_m: 0.8358 - auc_8: 0.8871 - accuracy: 0.8502 - val_loss: 0.3374 - val_f1_m: 0.8647 - val_auc_8: 0.9470 - val_accuracy: 0.8712\n",
            "\n",
            "Epoch 00083: saving model to /content/drive/MyDrive/Final/lstm.ckpt\n",
            "Epoch 84/100\n",
            "19/19 [==============================] - 2s 114ms/step - loss: 0.6286 - f1_m: 0.8701 - auc_8: 0.9551 - accuracy: 0.8897 - val_loss: 0.3419 - val_f1_m: 0.8555 - val_auc_8: 0.9404 - val_accuracy: 0.8604\n",
            "\n",
            "Epoch 00084: saving model to /content/drive/MyDrive/Final/lstm.ckpt\n",
            "Epoch 85/100\n",
            "19/19 [==============================] - 2s 116ms/step - loss: 0.5210 - f1_m: 0.8833 - auc_8: 0.9592 - accuracy: 0.8960 - val_loss: 0.3512 - val_f1_m: 0.8691 - val_auc_8: 0.9468 - val_accuracy: 0.8804\n",
            "\n",
            "Epoch 00085: saving model to /content/drive/MyDrive/Final/lstm.ckpt\n",
            "Epoch 86/100\n",
            "19/19 [==============================] - 2s 116ms/step - loss: 0.2947 - f1_m: 0.9383 - auc_8: 0.9860 - accuracy: 0.9462 - val_loss: 0.3939 - val_f1_m: 0.8722 - val_auc_8: 0.9424 - val_accuracy: 0.8838\n",
            "\n",
            "Epoch 00086: saving model to /content/drive/MyDrive/Final/lstm.ckpt\n",
            "Epoch 87/100\n",
            "19/19 [==============================] - 2s 116ms/step - loss: 0.3029 - f1_m: 0.9293 - auc_8: 0.9847 - accuracy: 0.9374 - val_loss: 0.4330 - val_f1_m: 0.8640 - val_auc_8: 0.9386 - val_accuracy: 0.8771\n",
            "\n",
            "Epoch 00087: saving model to /content/drive/MyDrive/Final/lstm.ckpt\n",
            "Epoch 88/100\n",
            "19/19 [==============================] - 2s 116ms/step - loss: 0.2320 - f1_m: 0.9500 - auc_8: 0.9901 - accuracy: 0.9567 - val_loss: 0.5578 - val_f1_m: 0.8671 - val_auc_8: 0.9308 - val_accuracy: 0.8779\n",
            "\n",
            "Epoch 00088: saving model to /content/drive/MyDrive/Final/lstm.ckpt\n",
            "Epoch 89/100\n",
            "19/19 [==============================] - 2s 115ms/step - loss: 0.2264 - f1_m: 0.9459 - auc_8: 0.9911 - accuracy: 0.9532 - val_loss: 0.5473 - val_f1_m: 0.8064 - val_auc_8: 0.9258 - val_accuracy: 0.8420\n",
            "\n",
            "Epoch 00089: saving model to /content/drive/MyDrive/Final/lstm.ckpt\n",
            "Epoch 90/100\n",
            "19/19 [==============================] - 2s 116ms/step - loss: 0.3337 - f1_m: 0.9316 - auc_8: 0.9824 - accuracy: 0.9446 - val_loss: 0.4896 - val_f1_m: 0.8551 - val_auc_8: 0.9327 - val_accuracy: 0.8712\n",
            "\n",
            "Epoch 00090: saving model to /content/drive/MyDrive/Final/lstm.ckpt\n",
            "Epoch 91/100\n",
            "19/19 [==============================] - 2s 114ms/step - loss: 0.1931 - f1_m: 0.9492 - auc_8: 0.9937 - accuracy: 0.9579 - val_loss: 0.5757 - val_f1_m: 0.8648 - val_auc_8: 0.9278 - val_accuracy: 0.8771\n",
            "\n",
            "Epoch 00091: saving model to /content/drive/MyDrive/Final/lstm.ckpt\n",
            "Epoch 92/100\n",
            "19/19 [==============================] - 2s 115ms/step - loss: 0.1922 - f1_m: 0.9542 - auc_8: 0.9927 - accuracy: 0.9593 - val_loss: 0.6217 - val_f1_m: 0.8518 - val_auc_8: 0.9269 - val_accuracy: 0.8545\n",
            "\n",
            "Epoch 00092: saving model to /content/drive/MyDrive/Final/lstm.ckpt\n",
            "Epoch 93/100\n",
            "19/19 [==============================] - 2s 116ms/step - loss: 0.2332 - f1_m: 0.9428 - auc_8: 0.9916 - accuracy: 0.9491 - val_loss: 0.6088 - val_f1_m: 0.8538 - val_auc_8: 0.9229 - val_accuracy: 0.8696\n",
            "\n",
            "Epoch 00093: saving model to /content/drive/MyDrive/Final/lstm.ckpt\n",
            "Epoch 94/100\n",
            "19/19 [==============================] - 2s 115ms/step - loss: 0.1610 - f1_m: 0.9642 - auc_8: 0.9950 - accuracy: 0.9696 - val_loss: 0.7750 - val_f1_m: 0.8583 - val_auc_8: 0.9201 - val_accuracy: 0.8721\n",
            "\n",
            "Epoch 00094: saving model to /content/drive/MyDrive/Final/lstm.ckpt\n",
            "Epoch 95/100\n",
            "19/19 [==============================] - 2s 115ms/step - loss: 0.1679 - f1_m: 0.9578 - auc_8: 0.9946 - accuracy: 0.9628 - val_loss: 0.7532 - val_f1_m: 0.8562 - val_auc_8: 0.9141 - val_accuracy: 0.8629\n",
            "\n",
            "Epoch 00095: saving model to /content/drive/MyDrive/Final/lstm.ckpt\n",
            "Epoch 96/100\n",
            "19/19 [==============================] - 2s 115ms/step - loss: 0.1957 - f1_m: 0.9558 - auc_8: 0.9927 - accuracy: 0.9592 - val_loss: 0.7400 - val_f1_m: 0.8457 - val_auc_8: 0.9203 - val_accuracy: 0.8654\n",
            "\n",
            "Epoch 00096: saving model to /content/drive/MyDrive/Final/lstm.ckpt\n",
            "Epoch 97/100\n",
            "19/19 [==============================] - 2s 116ms/step - loss: 0.1688 - f1_m: 0.9647 - auc_8: 0.9951 - accuracy: 0.9687 - val_loss: 0.7179 - val_f1_m: 0.8581 - val_auc_8: 0.9165 - val_accuracy: 0.8712\n",
            "\n",
            "Epoch 00097: saving model to /content/drive/MyDrive/Final/lstm.ckpt\n",
            "Epoch 98/100\n",
            "19/19 [==============================] - 2s 116ms/step - loss: 0.1628 - f1_m: 0.9591 - auc_8: 0.9947 - accuracy: 0.9644 - val_loss: 0.8265 - val_f1_m: 0.8654 - val_auc_8: 0.9192 - val_accuracy: 0.8779\n",
            "\n",
            "Epoch 00098: saving model to /content/drive/MyDrive/Final/lstm.ckpt\n",
            "Epoch 99/100\n",
            "19/19 [==============================] - 2s 115ms/step - loss: 0.1866 - f1_m: 0.9523 - auc_8: 0.9941 - accuracy: 0.9594 - val_loss: 0.7905 - val_f1_m: 0.8649 - val_auc_8: 0.9232 - val_accuracy: 0.8737\n",
            "\n",
            "Epoch 00099: saving model to /content/drive/MyDrive/Final/lstm.ckpt\n",
            "Epoch 100/100\n",
            "19/19 [==============================] - 2s 115ms/step - loss: 0.2233 - f1_m: 0.9479 - auc_8: 0.9922 - accuracy: 0.9534 - val_loss: 0.7601 - val_f1_m: 0.8519 - val_auc_8: 0.9160 - val_accuracy: 0.8679\n",
            "\n",
            "Epoch 00100: saving model to /content/drive/MyDrive/Final/lstm.ckpt\n"
          ],
          "name": "stdout"
        }
      ]
    },
    {
      "cell_type": "code",
      "metadata": {
        "id": "3h0cYcXhViIl"
      },
      "source": [
        "#source: https://www.tensorflow.org/tutorials/text/text_classification_rnn\n",
        "import matplotlib.pyplot as plt\n",
        "\n",
        "def plot_graphs(history, metric):\n",
        "  plt.plot(history.history[metric])\n",
        "  plt.plot(history.history['val_'+metric], '')\n",
        "  plt.xlabel(\"Epochs\")\n",
        "  plt.ylabel(metric)\n",
        "  plt.legend([metric, 'val_'+metric])"
      ],
      "execution_count": 77,
      "outputs": []
    },
    {
      "cell_type": "code",
      "metadata": {
        "id": "vRtUqj__VWEN",
        "colab": {
          "base_uri": "https://localhost:8080/",
          "height": 519
        },
        "outputId": "aab42e94-b101-48eb-d639-16185091aaa1"
      },
      "source": [
        "plt.figure(figsize=(16,8))\n",
        "plt.subplot(1,2,1)\n",
        "plot_graphs(history, 'accuracy')\n",
        "plt.ylim(None,1)\n",
        "plt.subplot(1,2,2)\n",
        "plot_graphs(history, 'loss')\n",
        "plt.ylim(0,None)"
      ],
      "execution_count": 78,
      "outputs": [
        {
          "output_type": "execute_result",
          "data": {
            "text/plain": [
              "(0.0, 51.940672389417884)"
            ]
          },
          "metadata": {
            "tags": []
          },
          "execution_count": 78
        },
        {
          "output_type": "display_data",
          "data": {
            "image/png": "[encoded data removed]",
            "text/plain": [
              "<Figure size 1152x576 with 2 Axes>"
            ]
          },
          "metadata": {
            "tags": [],
            "needs_background": "light"
          }
        }
      ]
    },
    {
      "cell_type": "code",
      "metadata": {
        "id": "-1SvJZGg58qP"
      },
      "source": [
        "import os\n",
        "checkpoint_path = \"/content/drive/MyDrive/Final/lstm.ckpt\"\n",
        "model = createLstmModel()\n",
        "model.load_weights(checkpoint_path)\n",
        "cp_callback = tf.keras.callbacks.ModelCheckpoint(filepath=checkpoint_path,save_weights_only=True,verbose=1)"
      ],
      "execution_count": 18,
      "outputs": []
    },
    {
      "cell_type": "code",
      "metadata": {
        "id": "p_VhYnq4BZNQ"
      },
      "source": [
        "# class_weight = {0: 1/66639, 1: 1/(1- (1/66639))}\n",
        "# model = KerasClassifier(build_fn=createLstmModel , epochs=1000   )\n",
        "\n",
        "# # class_weights = class_weight.compute_class_weight('balanced', np.unique(Y), Y)\n",
        "# # pipeline =  [\n",
        "# # #         ('tokenizer', Tokenizer(num_words = max_feature, lower = True, split = ' ')),\n",
        "# # #         ('pad', pad_sequences(sequences = X , maxlen = max_feature, padding = 'pre')),\n",
        "# #         ('estimator', model)\n",
        "# #     ]\n",
        "\n",
        "# parameters = { 'dropout' : [0.5,0.1, 0.01], 'units':[100,  300, 700, 1000] , 'batch_size' :[150]\n",
        "# #     'tokenizer__num_words': (100, 200, 300),\n",
        "# #     'pad__maxlen':( 200, 300, 400),\n",
        "    \n",
        "#     # 'estimator__dropout': (0.5,0.1, 0.01),\n",
        "#     # 'estimator__units' :(100,  300, 700, 1000)\n",
        "   \n",
        "# }\n",
        "\n",
        "\n",
        "# #source: https://datascience.stackexchange.com/questions/13490/how-to-set-class-weights-for-imbalanced-classes-in-keras\n",
        "\n",
        "# # grid_search_tune = GridSearchCV(Pipeline(pipeline), parameters, cv=20, verbose=1  )\n",
        "\n",
        "# grid_search_tune = GridSearchCV(model , parameters, cv=20 , verbose=1)\n",
        "\n",
        "# LSTM = grid_search_tune.fit(X, Y)\n",
        "#?????????? check batch_size and Class_weight\n"
      ],
      "execution_count": null,
      "outputs": []
    },
    {
      "cell_type": "code",
      "metadata": {
        "id": "E6kfl2FVBZNU"
      },
      "source": [
        "# print (grid_search_tune.best_estimator_.steps)\n",
        "\n",
        "# print ('Best Parameter for LSTM ',grid_search_tune.best_params_)\n",
        "# print('Best Score for LSTM: ',grid_search_tune.best_score_)"
      ],
      "execution_count": null,
      "outputs": []
    },
    {
      "cell_type": "code",
      "metadata": {
        "id": "httu2ESUBZNX"
      },
      "source": [
        "\n",
        "# tokenizer = Tokenizer(num_words = max_len, lower = True, split = ' ')\n",
        "#converting words to vectors\n",
        "tokenizer.fit_on_texts(X_test )\n",
        "\n",
        "X_temp = tokenizer.texts_to_sequences(X_test)\n",
        "\n",
        "#pad sequence is used to ensure that all sequences in a list have the same length.\n",
        "X_ready_test = pad_sequences(sequences = X_temp, maxlen = max_len, padding = 'pre')\n",
        "\n",
        "\n"
      ],
      "execution_count": 68,
      "outputs": []
    },
    {
      "cell_type": "code",
      "metadata": {
        "id": "7hnhjannBZNa"
      },
      "source": [
        "y_predict =model.predict(X_ready_test)"
      ],
      "execution_count": 69,
      "outputs": []
    },
    {
      "cell_type": "code",
      "metadata": {
        "id": "a_UAA8qzKwcm"
      },
      "source": [
        "# print(y_predict)"
      ],
      "execution_count": 70,
      "outputs": []
    },
    {
      "cell_type": "code",
      "metadata": {
        "id": "55u_D1VsBZNd"
      },
      "source": [
        "# print('Accuracy: ' , accuracy_score( Y_test,y_predict))\n",
        "# #Source: https://scikit-learn.org/stable/modules/generated/sklearn.metrics.f1_score.html#sklearn.metrics.f1_score\n",
        "# print('F1-score: ', f1_score(Y_test, y_predict))\n",
        "# #source: https://scikit-learn.org/stable/modules/generated/sklearn.metrics.roc_auc_score.html#sklearn.metrics.roc_auc_score\n",
        "# print('roc_auc_score: ', roc_auc_score(Y_test, y_predict))"
      ],
      "execution_count": 71,
      "outputs": []
    },
    {
      "cell_type": "code",
      "metadata": {
        "colab": {
          "base_uri": "https://localhost:8080/"
        },
        "id": "phGDKAmbvAw4",
        "outputId": "f4cef0e2-da9b-4232-ffb8-0a2126b26f67"
      },
      "source": [
        "loss, f1_score, auc,accuracy = model.evaluate(X_ready_test, Y_test, verbose=0)\n",
        "print('Accuracy:  %.3f' , accuracy)\n",
        "\n",
        "print('F1-score:  %.3f', f1_score)\n",
        "\n",
        "print('roc_auc_score:  %.3f', auc)\n"
      ],
      "execution_count": 79,
      "outputs": [
        {
          "output_type": "stream",
          "text": [
            "Accuracy:  %.3f 0.6650000214576721\n",
            "F1-score:  %.3f 0.5891603231430054\n",
            "roc_auc_score:  %.3f 0.6873294115066528\n"
          ],
          "name": "stdout"
        }
      ]
    },
    {
      "cell_type": "code",
      "metadata": {
        "id": "iHrwAEXb-nvo"
      },
      "source": [
        ""
      ],
      "execution_count": null,
      "outputs": []
    }
  ]
}